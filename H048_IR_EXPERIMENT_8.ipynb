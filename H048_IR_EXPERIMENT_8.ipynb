{
 "cells": [
  {
   "cell_type": "code",
   "execution_count": 1,
   "metadata": {},
   "outputs": [],
   "source": [
    "import numpy as np"
   ]
  },
  {
   "cell_type": "code",
   "execution_count": 2,
   "metadata": {},
   "outputs": [],
   "source": [
    "import math"
   ]
  },
  {
   "cell_type": "code",
   "execution_count": 4,
   "metadata": {},
   "outputs": [
    {
     "name": "stdout",
     "output_type": "stream",
     "text": [
      "Enter  the  value  of  yaw:  0\n",
      "Enter  the  value  of  pitch:  1\n",
      "Enter  the  value  of  roll:  0\n"
     ]
    }
   ],
   "source": [
    "theta1  =  int(input(\"Enter  the  value  of  yaw:  \"))\n",
    "theta2  =  int(input(\"Enter  the  value  of  pitch:  \"))\n",
    "theta3  =  int(input(\"Enter  the  value  of  roll:  \"))\n",
    "theta1  =  math.radians(theta1)\n",
    "theta2  =  math.radians(theta2)\n",
    "theta3  =  math.radians(theta3)"
   ]
  },
  {
   "cell_type": "code",
   "execution_count": 5,
   "metadata": {},
   "outputs": [],
   "source": [
    "yaw_M  =  [  [1,0,0]  ,  [0,round(math.cos(theta1)),math.sin(-\n",
    "theta1)]  ,  [0,math.sin(theta1),round(math.cos(-theta1))]  ]\n",
    "\n",
    "pitch_M  =  [  [round(math.cos(theta2)),0,math.sin(theta2)]  ,  [0,1,0]  ,  [math.sin (-theta2),0,round(math.cos(theta2))]]\n",
    "\n",
    "roll_M = [ [round(math.cos(theta3)),math.sin(-\n",
    "theta3),0]  ,  [math.sin(theta3),round(math.cos(theta3)),0]  ,  [0,0,1]]\n",
    "\n"
   ]
  },
  {
   "cell_type": "code",
   "execution_count": 28,
   "metadata": {},
   "outputs": [
    {
     "name": "stdout",
     "output_type": "stream",
     "text": [
      "The r1 matrix is:\n"
     ]
    }
   ],
   "source": [
    "print(\"The r1 matrix is:\")"
   ]
  },
  {
   "cell_type": "code",
   "execution_count": 30,
   "metadata": {},
   "outputs": [
    {
     "name": "stdout",
     "output_type": "stream",
     "text": [
      "[1, 0, 0]\n",
      "[0, 1, -0.0]\n",
      "[0, 0.0, 1]\n"
     ]
    }
   ],
   "source": [
    "for r in yaw_M:\n",
    "    print(r)\n"
   ]
  },
  {
   "cell_type": "code",
   "execution_count": 31,
   "metadata": {},
   "outputs": [
    {
     "name": "stdout",
     "output_type": "stream",
     "text": [
      "The r2 matrix is:\n"
     ]
    }
   ],
   "source": [
    "print(\"The r2 matrix is:\")"
   ]
  },
  {
   "cell_type": "code",
   "execution_count": 32,
   "metadata": {},
   "outputs": [
    {
     "name": "stdout",
     "output_type": "stream",
     "text": [
      "[1, 0, 0.01745240643728351]\n",
      "[0, 1, 0]\n",
      "[-0.01745240643728351, 0, 1]\n"
     ]
    }
   ],
   "source": [
    "for r in pitch_M:\n",
    "    print(r)\n"
   ]
  },
  {
   "cell_type": "code",
   "execution_count": 33,
   "metadata": {},
   "outputs": [
    {
     "name": "stdout",
     "output_type": "stream",
     "text": [
      "The r3 matrix is:\n"
     ]
    }
   ],
   "source": [
    "print(\"The r3 matrix is:\")"
   ]
  },
  {
   "cell_type": "code",
   "execution_count": 34,
   "metadata": {},
   "outputs": [
    {
     "name": "stdout",
     "output_type": "stream",
     "text": [
      "[1, -0.0, 0]\n",
      "[0.0, 1, 0]\n",
      "[0, 0, 1]\n"
     ]
    }
   ],
   "source": [
    "for r in roll_M:\n",
    "    print(r)\n"
   ]
  },
  {
   "cell_type": "code",
   "execution_count": 35,
   "metadata": {},
   "outputs": [],
   "source": [
    "YPR = np.dot(roll_M,np.dot(pitch_M,yaw_M)) "
   ]
  },
  {
   "cell_type": "code",
   "execution_count": 36,
   "metadata": {},
   "outputs": [
    {
     "name": "stdout",
     "output_type": "stream",
     "text": [
      "The YPR matrix is:\n"
     ]
    }
   ],
   "source": [
    "print(\"The YPR matrix is:\")"
   ]
  },
  {
   "cell_type": "code",
   "execution_count": 38,
   "metadata": {},
   "outputs": [
    {
     "name": "stdout",
     "output_type": "stream",
     "text": [
      "[1.         0.         0.01745241]\n",
      "[0. 1. 0.]\n",
      "[-0.01745241  0.          1.        ]\n"
     ]
    }
   ],
   "source": [
    "for r in YPR:\n",
    "    print(r)\n"
   ]
  },
  {
   "cell_type": "code",
   "execution_count": null,
   "metadata": {},
   "outputs": [],
   "source": []
  }
 ],
 "metadata": {
  "kernelspec": {
   "display_name": "Python 3",
   "language": "python",
   "name": "python3"
  },
  "language_info": {
   "codemirror_mode": {
    "name": "ipython",
    "version": 3
   },
   "file_extension": ".py",
   "mimetype": "text/x-python",
   "name": "python",
   "nbconvert_exporter": "python",
   "pygments_lexer": "ipython3",
   "version": "3.8.5"
  }
 },
 "nbformat": 4,
 "nbformat_minor": 4
}
