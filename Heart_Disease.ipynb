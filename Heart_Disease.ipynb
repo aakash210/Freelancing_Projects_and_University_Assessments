{
 "cells": [
  {
   "cell_type": "code",
   "execution_count": 54,
   "metadata": {
    "collapsed": true
   },
   "outputs": [],
   "source": [
    "import graphlab"
   ]
  },
  {
   "cell_type": "code",
   "execution_count": 55,
   "metadata": {
    "collapsed": true
   },
   "outputs": [],
   "source": [
    "import numpy as np # linear algebra\n",
    "import pandas as pd # data processing, CSV file I/O (e.g. pd.read_csv)\n",
    "import matplotlib.pyplot as plt\n",
    "%matplotlib inline\n",
    "import graphlab\n",
    "import scipy as sns\n",
    "import sympy as sys\n",
    "\n",
    "# Input data files are available in the \"../input/\" directory.\n",
    "# For example, running this (by clicking run or pressing Shift+Enter) will list the files in the input directory\n",
    "\n",
    "import os"
   ]
  },
  {
   "cell_type": "code",
   "execution_count": 56,
   "metadata": {},
   "outputs": [
    {
     "data": {
      "text/html": [
       "<pre>Finished parsing file D:\\Users\\ADMIN\\Documents\\Coursera\\heart1.csv</pre>"
      ],
      "text/plain": [
       "Finished parsing file D:\\Users\\ADMIN\\Documents\\Coursera\\heart1.csv"
      ]
     },
     "metadata": {},
     "output_type": "display_data"
    },
    {
     "data": {
      "text/html": [
       "<pre>Parsing completed. Parsed 100 lines in 0.045446 secs.</pre>"
      ],
      "text/plain": [
       "Parsing completed. Parsed 100 lines in 0.045446 secs."
      ]
     },
     "metadata": {},
     "output_type": "display_data"
    },
    {
     "name": "stdout",
     "output_type": "stream",
     "text": [
      "------------------------------------------------------\n",
      "Inferred types from first 100 line(s) of file as \n",
      "column_type_hints=[long,long,long,long,long,long,long,long,long,float,long,long,long,long]\n",
      "If parsing fails due to incorrect types, you can correct\n",
      "the inferred type list above and pass it to read_csv in\n",
      "the column_type_hints argument\n",
      "------------------------------------------------------\n"
     ]
    },
    {
     "data": {
      "text/html": [
       "<pre>Finished parsing file D:\\Users\\ADMIN\\Documents\\Coursera\\heart1.csv</pre>"
      ],
      "text/plain": [
       "Finished parsing file D:\\Users\\ADMIN\\Documents\\Coursera\\heart1.csv"
      ]
     },
     "metadata": {},
     "output_type": "display_data"
    },
    {
     "data": {
      "text/html": [
       "<pre>Parsing completed. Parsed 303 lines in 0.051648 secs.</pre>"
      ],
      "text/plain": [
       "Parsing completed. Parsed 303 lines in 0.051648 secs."
      ]
     },
     "metadata": {},
     "output_type": "display_data"
    }
   ],
   "source": [
    "ht=graphlab.SFrame('heart1.csv')"
   ]
  },
  {
   "cell_type": "code",
   "execution_count": 57,
   "metadata": {},
   "outputs": [
    {
     "data": {
      "text/html": [
       "<div style=\"max-height:1000px;max-width:1500px;overflow:auto;\"><table frame=\"box\" rules=\"cols\">\n",
       "    <tr>\n",
       "        <th style=\"padding-left: 1em; padding-right: 1em; text-align: center\">﻿age</th>\n",
       "        <th style=\"padding-left: 1em; padding-right: 1em; text-align: center\">sex</th>\n",
       "        <th style=\"padding-left: 1em; padding-right: 1em; text-align: center\">cp</th>\n",
       "        <th style=\"padding-left: 1em; padding-right: 1em; text-align: center\">trestbps</th>\n",
       "        <th style=\"padding-left: 1em; padding-right: 1em; text-align: center\">chol</th>\n",
       "        <th style=\"padding-left: 1em; padding-right: 1em; text-align: center\">fbs</th>\n",
       "        <th style=\"padding-left: 1em; padding-right: 1em; text-align: center\">restecg</th>\n",
       "        <th style=\"padding-left: 1em; padding-right: 1em; text-align: center\">thalach</th>\n",
       "        <th style=\"padding-left: 1em; padding-right: 1em; text-align: center\">exang</th>\n",
       "        <th style=\"padding-left: 1em; padding-right: 1em; text-align: center\">oldpeak</th>\n",
       "        <th style=\"padding-left: 1em; padding-right: 1em; text-align: center\">slope</th>\n",
       "        <th style=\"padding-left: 1em; padding-right: 1em; text-align: center\">ca</th>\n",
       "        <th style=\"padding-left: 1em; padding-right: 1em; text-align: center\">thal</th>\n",
       "        <th style=\"padding-left: 1em; padding-right: 1em; text-align: center\">target</th>\n",
       "    </tr>\n",
       "    <tr>\n",
       "        <td style=\"padding-left: 1em; padding-right: 1em; text-align: center; vertical-align: top\">63</td>\n",
       "        <td style=\"padding-left: 1em; padding-right: 1em; text-align: center; vertical-align: top\">1</td>\n",
       "        <td style=\"padding-left: 1em; padding-right: 1em; text-align: center; vertical-align: top\">3</td>\n",
       "        <td style=\"padding-left: 1em; padding-right: 1em; text-align: center; vertical-align: top\">145</td>\n",
       "        <td style=\"padding-left: 1em; padding-right: 1em; text-align: center; vertical-align: top\">233</td>\n",
       "        <td style=\"padding-left: 1em; padding-right: 1em; text-align: center; vertical-align: top\">1</td>\n",
       "        <td style=\"padding-left: 1em; padding-right: 1em; text-align: center; vertical-align: top\">0</td>\n",
       "        <td style=\"padding-left: 1em; padding-right: 1em; text-align: center; vertical-align: top\">150</td>\n",
       "        <td style=\"padding-left: 1em; padding-right: 1em; text-align: center; vertical-align: top\">0</td>\n",
       "        <td style=\"padding-left: 1em; padding-right: 1em; text-align: center; vertical-align: top\">2.3</td>\n",
       "        <td style=\"padding-left: 1em; padding-right: 1em; text-align: center; vertical-align: top\">0</td>\n",
       "        <td style=\"padding-left: 1em; padding-right: 1em; text-align: center; vertical-align: top\">0</td>\n",
       "        <td style=\"padding-left: 1em; padding-right: 1em; text-align: center; vertical-align: top\">1</td>\n",
       "        <td style=\"padding-left: 1em; padding-right: 1em; text-align: center; vertical-align: top\">1</td>\n",
       "    </tr>\n",
       "    <tr>\n",
       "        <td style=\"padding-left: 1em; padding-right: 1em; text-align: center; vertical-align: top\">37</td>\n",
       "        <td style=\"padding-left: 1em; padding-right: 1em; text-align: center; vertical-align: top\">1</td>\n",
       "        <td style=\"padding-left: 1em; padding-right: 1em; text-align: center; vertical-align: top\">2</td>\n",
       "        <td style=\"padding-left: 1em; padding-right: 1em; text-align: center; vertical-align: top\">130</td>\n",
       "        <td style=\"padding-left: 1em; padding-right: 1em; text-align: center; vertical-align: top\">250</td>\n",
       "        <td style=\"padding-left: 1em; padding-right: 1em; text-align: center; vertical-align: top\">0</td>\n",
       "        <td style=\"padding-left: 1em; padding-right: 1em; text-align: center; vertical-align: top\">1</td>\n",
       "        <td style=\"padding-left: 1em; padding-right: 1em; text-align: center; vertical-align: top\">187</td>\n",
       "        <td style=\"padding-left: 1em; padding-right: 1em; text-align: center; vertical-align: top\">0</td>\n",
       "        <td style=\"padding-left: 1em; padding-right: 1em; text-align: center; vertical-align: top\">3.5</td>\n",
       "        <td style=\"padding-left: 1em; padding-right: 1em; text-align: center; vertical-align: top\">0</td>\n",
       "        <td style=\"padding-left: 1em; padding-right: 1em; text-align: center; vertical-align: top\">0</td>\n",
       "        <td style=\"padding-left: 1em; padding-right: 1em; text-align: center; vertical-align: top\">2</td>\n",
       "        <td style=\"padding-left: 1em; padding-right: 1em; text-align: center; vertical-align: top\">1</td>\n",
       "    </tr>\n",
       "    <tr>\n",
       "        <td style=\"padding-left: 1em; padding-right: 1em; text-align: center; vertical-align: top\">41</td>\n",
       "        <td style=\"padding-left: 1em; padding-right: 1em; text-align: center; vertical-align: top\">0</td>\n",
       "        <td style=\"padding-left: 1em; padding-right: 1em; text-align: center; vertical-align: top\">1</td>\n",
       "        <td style=\"padding-left: 1em; padding-right: 1em; text-align: center; vertical-align: top\">130</td>\n",
       "        <td style=\"padding-left: 1em; padding-right: 1em; text-align: center; vertical-align: top\">204</td>\n",
       "        <td style=\"padding-left: 1em; padding-right: 1em; text-align: center; vertical-align: top\">0</td>\n",
       "        <td style=\"padding-left: 1em; padding-right: 1em; text-align: center; vertical-align: top\">0</td>\n",
       "        <td style=\"padding-left: 1em; padding-right: 1em; text-align: center; vertical-align: top\">172</td>\n",
       "        <td style=\"padding-left: 1em; padding-right: 1em; text-align: center; vertical-align: top\">0</td>\n",
       "        <td style=\"padding-left: 1em; padding-right: 1em; text-align: center; vertical-align: top\">1.4</td>\n",
       "        <td style=\"padding-left: 1em; padding-right: 1em; text-align: center; vertical-align: top\">2</td>\n",
       "        <td style=\"padding-left: 1em; padding-right: 1em; text-align: center; vertical-align: top\">0</td>\n",
       "        <td style=\"padding-left: 1em; padding-right: 1em; text-align: center; vertical-align: top\">2</td>\n",
       "        <td style=\"padding-left: 1em; padding-right: 1em; text-align: center; vertical-align: top\">1</td>\n",
       "    </tr>\n",
       "    <tr>\n",
       "        <td style=\"padding-left: 1em; padding-right: 1em; text-align: center; vertical-align: top\">56</td>\n",
       "        <td style=\"padding-left: 1em; padding-right: 1em; text-align: center; vertical-align: top\">1</td>\n",
       "        <td style=\"padding-left: 1em; padding-right: 1em; text-align: center; vertical-align: top\">1</td>\n",
       "        <td style=\"padding-left: 1em; padding-right: 1em; text-align: center; vertical-align: top\">120</td>\n",
       "        <td style=\"padding-left: 1em; padding-right: 1em; text-align: center; vertical-align: top\">236</td>\n",
       "        <td style=\"padding-left: 1em; padding-right: 1em; text-align: center; vertical-align: top\">0</td>\n",
       "        <td style=\"padding-left: 1em; padding-right: 1em; text-align: center; vertical-align: top\">1</td>\n",
       "        <td style=\"padding-left: 1em; padding-right: 1em; text-align: center; vertical-align: top\">178</td>\n",
       "        <td style=\"padding-left: 1em; padding-right: 1em; text-align: center; vertical-align: top\">0</td>\n",
       "        <td style=\"padding-left: 1em; padding-right: 1em; text-align: center; vertical-align: top\">0.8</td>\n",
       "        <td style=\"padding-left: 1em; padding-right: 1em; text-align: center; vertical-align: top\">2</td>\n",
       "        <td style=\"padding-left: 1em; padding-right: 1em; text-align: center; vertical-align: top\">0</td>\n",
       "        <td style=\"padding-left: 1em; padding-right: 1em; text-align: center; vertical-align: top\">2</td>\n",
       "        <td style=\"padding-left: 1em; padding-right: 1em; text-align: center; vertical-align: top\">1</td>\n",
       "    </tr>\n",
       "    <tr>\n",
       "        <td style=\"padding-left: 1em; padding-right: 1em; text-align: center; vertical-align: top\">57</td>\n",
       "        <td style=\"padding-left: 1em; padding-right: 1em; text-align: center; vertical-align: top\">0</td>\n",
       "        <td style=\"padding-left: 1em; padding-right: 1em; text-align: center; vertical-align: top\">0</td>\n",
       "        <td style=\"padding-left: 1em; padding-right: 1em; text-align: center; vertical-align: top\">120</td>\n",
       "        <td style=\"padding-left: 1em; padding-right: 1em; text-align: center; vertical-align: top\">354</td>\n",
       "        <td style=\"padding-left: 1em; padding-right: 1em; text-align: center; vertical-align: top\">0</td>\n",
       "        <td style=\"padding-left: 1em; padding-right: 1em; text-align: center; vertical-align: top\">1</td>\n",
       "        <td style=\"padding-left: 1em; padding-right: 1em; text-align: center; vertical-align: top\">163</td>\n",
       "        <td style=\"padding-left: 1em; padding-right: 1em; text-align: center; vertical-align: top\">1</td>\n",
       "        <td style=\"padding-left: 1em; padding-right: 1em; text-align: center; vertical-align: top\">0.6</td>\n",
       "        <td style=\"padding-left: 1em; padding-right: 1em; text-align: center; vertical-align: top\">2</td>\n",
       "        <td style=\"padding-left: 1em; padding-right: 1em; text-align: center; vertical-align: top\">0</td>\n",
       "        <td style=\"padding-left: 1em; padding-right: 1em; text-align: center; vertical-align: top\">2</td>\n",
       "        <td style=\"padding-left: 1em; padding-right: 1em; text-align: center; vertical-align: top\">1</td>\n",
       "    </tr>\n",
       "    <tr>\n",
       "        <td style=\"padding-left: 1em; padding-right: 1em; text-align: center; vertical-align: top\">57</td>\n",
       "        <td style=\"padding-left: 1em; padding-right: 1em; text-align: center; vertical-align: top\">1</td>\n",
       "        <td style=\"padding-left: 1em; padding-right: 1em; text-align: center; vertical-align: top\">0</td>\n",
       "        <td style=\"padding-left: 1em; padding-right: 1em; text-align: center; vertical-align: top\">140</td>\n",
       "        <td style=\"padding-left: 1em; padding-right: 1em; text-align: center; vertical-align: top\">192</td>\n",
       "        <td style=\"padding-left: 1em; padding-right: 1em; text-align: center; vertical-align: top\">0</td>\n",
       "        <td style=\"padding-left: 1em; padding-right: 1em; text-align: center; vertical-align: top\">1</td>\n",
       "        <td style=\"padding-left: 1em; padding-right: 1em; text-align: center; vertical-align: top\">148</td>\n",
       "        <td style=\"padding-left: 1em; padding-right: 1em; text-align: center; vertical-align: top\">0</td>\n",
       "        <td style=\"padding-left: 1em; padding-right: 1em; text-align: center; vertical-align: top\">0.4</td>\n",
       "        <td style=\"padding-left: 1em; padding-right: 1em; text-align: center; vertical-align: top\">1</td>\n",
       "        <td style=\"padding-left: 1em; padding-right: 1em; text-align: center; vertical-align: top\">0</td>\n",
       "        <td style=\"padding-left: 1em; padding-right: 1em; text-align: center; vertical-align: top\">1</td>\n",
       "        <td style=\"padding-left: 1em; padding-right: 1em; text-align: center; vertical-align: top\">1</td>\n",
       "    </tr>\n",
       "    <tr>\n",
       "        <td style=\"padding-left: 1em; padding-right: 1em; text-align: center; vertical-align: top\">56</td>\n",
       "        <td style=\"padding-left: 1em; padding-right: 1em; text-align: center; vertical-align: top\">0</td>\n",
       "        <td style=\"padding-left: 1em; padding-right: 1em; text-align: center; vertical-align: top\">1</td>\n",
       "        <td style=\"padding-left: 1em; padding-right: 1em; text-align: center; vertical-align: top\">140</td>\n",
       "        <td style=\"padding-left: 1em; padding-right: 1em; text-align: center; vertical-align: top\">294</td>\n",
       "        <td style=\"padding-left: 1em; padding-right: 1em; text-align: center; vertical-align: top\">0</td>\n",
       "        <td style=\"padding-left: 1em; padding-right: 1em; text-align: center; vertical-align: top\">0</td>\n",
       "        <td style=\"padding-left: 1em; padding-right: 1em; text-align: center; vertical-align: top\">153</td>\n",
       "        <td style=\"padding-left: 1em; padding-right: 1em; text-align: center; vertical-align: top\">0</td>\n",
       "        <td style=\"padding-left: 1em; padding-right: 1em; text-align: center; vertical-align: top\">1.3</td>\n",
       "        <td style=\"padding-left: 1em; padding-right: 1em; text-align: center; vertical-align: top\">1</td>\n",
       "        <td style=\"padding-left: 1em; padding-right: 1em; text-align: center; vertical-align: top\">0</td>\n",
       "        <td style=\"padding-left: 1em; padding-right: 1em; text-align: center; vertical-align: top\">2</td>\n",
       "        <td style=\"padding-left: 1em; padding-right: 1em; text-align: center; vertical-align: top\">1</td>\n",
       "    </tr>\n",
       "    <tr>\n",
       "        <td style=\"padding-left: 1em; padding-right: 1em; text-align: center; vertical-align: top\">44</td>\n",
       "        <td style=\"padding-left: 1em; padding-right: 1em; text-align: center; vertical-align: top\">1</td>\n",
       "        <td style=\"padding-left: 1em; padding-right: 1em; text-align: center; vertical-align: top\">1</td>\n",
       "        <td style=\"padding-left: 1em; padding-right: 1em; text-align: center; vertical-align: top\">120</td>\n",
       "        <td style=\"padding-left: 1em; padding-right: 1em; text-align: center; vertical-align: top\">263</td>\n",
       "        <td style=\"padding-left: 1em; padding-right: 1em; text-align: center; vertical-align: top\">0</td>\n",
       "        <td style=\"padding-left: 1em; padding-right: 1em; text-align: center; vertical-align: top\">1</td>\n",
       "        <td style=\"padding-left: 1em; padding-right: 1em; text-align: center; vertical-align: top\">173</td>\n",
       "        <td style=\"padding-left: 1em; padding-right: 1em; text-align: center; vertical-align: top\">0</td>\n",
       "        <td style=\"padding-left: 1em; padding-right: 1em; text-align: center; vertical-align: top\">0.0</td>\n",
       "        <td style=\"padding-left: 1em; padding-right: 1em; text-align: center; vertical-align: top\">2</td>\n",
       "        <td style=\"padding-left: 1em; padding-right: 1em; text-align: center; vertical-align: top\">0</td>\n",
       "        <td style=\"padding-left: 1em; padding-right: 1em; text-align: center; vertical-align: top\">3</td>\n",
       "        <td style=\"padding-left: 1em; padding-right: 1em; text-align: center; vertical-align: top\">1</td>\n",
       "    </tr>\n",
       "    <tr>\n",
       "        <td style=\"padding-left: 1em; padding-right: 1em; text-align: center; vertical-align: top\">52</td>\n",
       "        <td style=\"padding-left: 1em; padding-right: 1em; text-align: center; vertical-align: top\">1</td>\n",
       "        <td style=\"padding-left: 1em; padding-right: 1em; text-align: center; vertical-align: top\">2</td>\n",
       "        <td style=\"padding-left: 1em; padding-right: 1em; text-align: center; vertical-align: top\">172</td>\n",
       "        <td style=\"padding-left: 1em; padding-right: 1em; text-align: center; vertical-align: top\">199</td>\n",
       "        <td style=\"padding-left: 1em; padding-right: 1em; text-align: center; vertical-align: top\">1</td>\n",
       "        <td style=\"padding-left: 1em; padding-right: 1em; text-align: center; vertical-align: top\">1</td>\n",
       "        <td style=\"padding-left: 1em; padding-right: 1em; text-align: center; vertical-align: top\">162</td>\n",
       "        <td style=\"padding-left: 1em; padding-right: 1em; text-align: center; vertical-align: top\">0</td>\n",
       "        <td style=\"padding-left: 1em; padding-right: 1em; text-align: center; vertical-align: top\">0.5</td>\n",
       "        <td style=\"padding-left: 1em; padding-right: 1em; text-align: center; vertical-align: top\">2</td>\n",
       "        <td style=\"padding-left: 1em; padding-right: 1em; text-align: center; vertical-align: top\">0</td>\n",
       "        <td style=\"padding-left: 1em; padding-right: 1em; text-align: center; vertical-align: top\">3</td>\n",
       "        <td style=\"padding-left: 1em; padding-right: 1em; text-align: center; vertical-align: top\">1</td>\n",
       "    </tr>\n",
       "    <tr>\n",
       "        <td style=\"padding-left: 1em; padding-right: 1em; text-align: center; vertical-align: top\">57</td>\n",
       "        <td style=\"padding-left: 1em; padding-right: 1em; text-align: center; vertical-align: top\">1</td>\n",
       "        <td style=\"padding-left: 1em; padding-right: 1em; text-align: center; vertical-align: top\">2</td>\n",
       "        <td style=\"padding-left: 1em; padding-right: 1em; text-align: center; vertical-align: top\">150</td>\n",
       "        <td style=\"padding-left: 1em; padding-right: 1em; text-align: center; vertical-align: top\">168</td>\n",
       "        <td style=\"padding-left: 1em; padding-right: 1em; text-align: center; vertical-align: top\">0</td>\n",
       "        <td style=\"padding-left: 1em; padding-right: 1em; text-align: center; vertical-align: top\">1</td>\n",
       "        <td style=\"padding-left: 1em; padding-right: 1em; text-align: center; vertical-align: top\">174</td>\n",
       "        <td style=\"padding-left: 1em; padding-right: 1em; text-align: center; vertical-align: top\">0</td>\n",
       "        <td style=\"padding-left: 1em; padding-right: 1em; text-align: center; vertical-align: top\">1.6</td>\n",
       "        <td style=\"padding-left: 1em; padding-right: 1em; text-align: center; vertical-align: top\">2</td>\n",
       "        <td style=\"padding-left: 1em; padding-right: 1em; text-align: center; vertical-align: top\">0</td>\n",
       "        <td style=\"padding-left: 1em; padding-right: 1em; text-align: center; vertical-align: top\">2</td>\n",
       "        <td style=\"padding-left: 1em; padding-right: 1em; text-align: center; vertical-align: top\">1</td>\n",
       "    </tr>\n",
       "</table>\n",
       "[303 rows x 14 columns]<br/>Note: Only the head of the SFrame is printed.<br/>You can use print_rows(num_rows=m, num_columns=n) to print more rows and columns.\n",
       "</div>"
      ],
      "text/plain": [
       "Columns:\n",
       "\t﻿age\tint\n",
       "\tsex\tint\n",
       "\tcp\tint\n",
       "\ttrestbps\tint\n",
       "\tchol\tint\n",
       "\tfbs\tint\n",
       "\trestecg\tint\n",
       "\tthalach\tint\n",
       "\texang\tint\n",
       "\toldpeak\tfloat\n",
       "\tslope\tint\n",
       "\tca\tint\n",
       "\tthal\tint\n",
       "\ttarget\tint\n",
       "\n",
       "Rows: 303\n",
       "\n",
       "Data:\n",
       "+------+-----+----+----------+------+-----+---------+---------+-------+---------+\n",
       "| ﻿age | sex | cp | trestbps | chol | fbs | restecg | thalach | exang | oldpeak |\n",
       "+------+-----+----+----------+------+-----+---------+---------+-------+---------+\n",
       "|  63  |  1  | 3  |   145    | 233  |  1  |    0    |   150   |   0   |   2.3   |\n",
       "|  37  |  1  | 2  |   130    | 250  |  0  |    1    |   187   |   0   |   3.5   |\n",
       "|  41  |  0  | 1  |   130    | 204  |  0  |    0    |   172   |   0   |   1.4   |\n",
       "|  56  |  1  | 1  |   120    | 236  |  0  |    1    |   178   |   0   |   0.8   |\n",
       "|  57  |  0  | 0  |   120    | 354  |  0  |    1    |   163   |   1   |   0.6   |\n",
       "|  57  |  1  | 0  |   140    | 192  |  0  |    1    |   148   |   0   |   0.4   |\n",
       "|  56  |  0  | 1  |   140    | 294  |  0  |    0    |   153   |   0   |   1.3   |\n",
       "|  44  |  1  | 1  |   120    | 263  |  0  |    1    |   173   |   0   |   0.0   |\n",
       "|  52  |  1  | 2  |   172    | 199  |  1  |    1    |   162   |   0   |   0.5   |\n",
       "|  57  |  1  | 2  |   150    | 168  |  0  |    1    |   174   |   0   |   1.6   |\n",
       "+------+-----+----+----------+------+-----+---------+---------+-------+---------+\n",
       "+-------+----+------+--------+\n",
       "| slope | ca | thal | target |\n",
       "+-------+----+------+--------+\n",
       "|   0   | 0  |  1   |   1    |\n",
       "|   0   | 0  |  2   |   1    |\n",
       "|   2   | 0  |  2   |   1    |\n",
       "|   2   | 0  |  2   |   1    |\n",
       "|   2   | 0  |  2   |   1    |\n",
       "|   1   | 0  |  1   |   1    |\n",
       "|   1   | 0  |  2   |   1    |\n",
       "|   2   | 0  |  3   |   1    |\n",
       "|   2   | 0  |  3   |   1    |\n",
       "|   2   | 0  |  2   |   1    |\n",
       "+-------+----+------+--------+\n",
       "[303 rows x 14 columns]\n",
       "Note: Only the head of the SFrame is printed.\n",
       "You can use print_rows(num_rows=m, num_columns=n) to print more rows and columns."
      ]
     },
     "execution_count": 57,
     "metadata": {},
     "output_type": "execute_result"
    }
   ],
   "source": [
    "ht"
   ]
  },
  {
   "cell_type": "code",
   "execution_count": 58,
   "metadata": {},
   "outputs": [
    {
     "data": {
      "text/plain": [
       "<bound method SFrame.column_names of Columns:\n",
       "\t﻿age\tint\n",
       "\tsex\tint\n",
       "\tcp\tint\n",
       "\ttrestbps\tint\n",
       "\tchol\tint\n",
       "\tfbs\tint\n",
       "\trestecg\tint\n",
       "\tthalach\tint\n",
       "\texang\tint\n",
       "\toldpeak\tfloat\n",
       "\tslope\tint\n",
       "\tca\tint\n",
       "\tthal\tint\n",
       "\ttarget\tint\n",
       "\n",
       "Rows: 303\n",
       "\n",
       "Data:\n",
       "+------+-----+----+----------+------+-----+---------+---------+-------+---------+\n",
       "| ﻿age | sex | cp | trestbps | chol | fbs | restecg | thalach | exang | oldpeak |\n",
       "+------+-----+----+----------+------+-----+---------+---------+-------+---------+\n",
       "|  63  |  1  | 3  |   145    | 233  |  1  |    0    |   150   |   0   |   2.3   |\n",
       "|  37  |  1  | 2  |   130    | 250  |  0  |    1    |   187   |   0   |   3.5   |\n",
       "|  41  |  0  | 1  |   130    | 204  |  0  |    0    |   172   |   0   |   1.4   |\n",
       "|  56  |  1  | 1  |   120    | 236  |  0  |    1    |   178   |   0   |   0.8   |\n",
       "|  57  |  0  | 0  |   120    | 354  |  0  |    1    |   163   |   1   |   0.6   |\n",
       "|  57  |  1  | 0  |   140    | 192  |  0  |    1    |   148   |   0   |   0.4   |\n",
       "|  56  |  0  | 1  |   140    | 294  |  0  |    0    |   153   |   0   |   1.3   |\n",
       "|  44  |  1  | 1  |   120    | 263  |  0  |    1    |   173   |   0   |   0.0   |\n",
       "|  52  |  1  | 2  |   172    | 199  |  1  |    1    |   162   |   0   |   0.5   |\n",
       "|  57  |  1  | 2  |   150    | 168  |  0  |    1    |   174   |   0   |   1.6   |\n",
       "+------+-----+----+----------+------+-----+---------+---------+-------+---------+\n",
       "+-------+----+------+--------+\n",
       "| slope | ca | thal | target |\n",
       "+-------+----+------+--------+\n",
       "|   0   | 0  |  1   |   1    |\n",
       "|   0   | 0  |  2   |   1    |\n",
       "|   2   | 0  |  2   |   1    |\n",
       "|   2   | 0  |  2   |   1    |\n",
       "|   2   | 0  |  2   |   1    |\n",
       "|   1   | 0  |  1   |   1    |\n",
       "|   1   | 0  |  2   |   1    |\n",
       "|   2   | 0  |  3   |   1    |\n",
       "|   2   | 0  |  3   |   1    |\n",
       "|   2   | 0  |  2   |   1    |\n",
       "+-------+----+------+--------+\n",
       "[303 rows x 14 columns]\n",
       "Note: Only the head of the SFrame is printed.\n",
       "You can use print_rows(num_rows=m, num_columns=n) to print more rows and columns.>"
      ]
     },
     "execution_count": 58,
     "metadata": {},
     "output_type": "execute_result"
    }
   ],
   "source": [
    "ht.column_names"
   ]
  },
  {
   "cell_type": "code",
   "execution_count": 59,
   "metadata": {},
   "outputs": [
    {
     "data": {
      "text/html": [
       "<div style=\"max-height:1000px;max-width:1500px;overflow:auto;\"><table frame=\"box\" rules=\"cols\">\n",
       "    <tr>\n",
       "        <th style=\"padding-left: 1em; padding-right: 1em; text-align: center\">﻿age</th>\n",
       "        <th style=\"padding-left: 1em; padding-right: 1em; text-align: center\">sex</th>\n",
       "        <th style=\"padding-left: 1em; padding-right: 1em; text-align: center\">chest pain type</th>\n",
       "        <th style=\"padding-left: 1em; padding-right: 1em; text-align: center\">trestbps</th>\n",
       "        <th style=\"padding-left: 1em; padding-right: 1em; text-align: center\">chol</th>\n",
       "        <th style=\"padding-left: 1em; padding-right: 1em; text-align: center\">fasting blood sugar</th>\n",
       "        <th style=\"padding-left: 1em; padding-right: 1em; text-align: center\">restecg</th>\n",
       "        <th style=\"padding-left: 1em; padding-right: 1em; text-align: center\">thalach</th>\n",
       "        <th style=\"padding-left: 1em; padding-right: 1em; text-align: center\">exang</th>\n",
       "        <th style=\"padding-left: 1em; padding-right: 1em; text-align: center\">oldpeak</th>\n",
       "        <th style=\"padding-left: 1em; padding-right: 1em; text-align: center\">slope</th>\n",
       "        <th style=\"padding-left: 1em; padding-right: 1em; text-align: center\">ca</th>\n",
       "    </tr>\n",
       "    <tr>\n",
       "        <td style=\"padding-left: 1em; padding-right: 1em; text-align: center; vertical-align: top\">63</td>\n",
       "        <td style=\"padding-left: 1em; padding-right: 1em; text-align: center; vertical-align: top\">1</td>\n",
       "        <td style=\"padding-left: 1em; padding-right: 1em; text-align: center; vertical-align: top\">3</td>\n",
       "        <td style=\"padding-left: 1em; padding-right: 1em; text-align: center; vertical-align: top\">145</td>\n",
       "        <td style=\"padding-left: 1em; padding-right: 1em; text-align: center; vertical-align: top\">233</td>\n",
       "        <td style=\"padding-left: 1em; padding-right: 1em; text-align: center; vertical-align: top\">1</td>\n",
       "        <td style=\"padding-left: 1em; padding-right: 1em; text-align: center; vertical-align: top\">0</td>\n",
       "        <td style=\"padding-left: 1em; padding-right: 1em; text-align: center; vertical-align: top\">150</td>\n",
       "        <td style=\"padding-left: 1em; padding-right: 1em; text-align: center; vertical-align: top\">0</td>\n",
       "        <td style=\"padding-left: 1em; padding-right: 1em; text-align: center; vertical-align: top\">2.3</td>\n",
       "        <td style=\"padding-left: 1em; padding-right: 1em; text-align: center; vertical-align: top\">0</td>\n",
       "        <td style=\"padding-left: 1em; padding-right: 1em; text-align: center; vertical-align: top\">0</td>\n",
       "    </tr>\n",
       "    <tr>\n",
       "        <td style=\"padding-left: 1em; padding-right: 1em; text-align: center; vertical-align: top\">37</td>\n",
       "        <td style=\"padding-left: 1em; padding-right: 1em; text-align: center; vertical-align: top\">1</td>\n",
       "        <td style=\"padding-left: 1em; padding-right: 1em; text-align: center; vertical-align: top\">2</td>\n",
       "        <td style=\"padding-left: 1em; padding-right: 1em; text-align: center; vertical-align: top\">130</td>\n",
       "        <td style=\"padding-left: 1em; padding-right: 1em; text-align: center; vertical-align: top\">250</td>\n",
       "        <td style=\"padding-left: 1em; padding-right: 1em; text-align: center; vertical-align: top\">0</td>\n",
       "        <td style=\"padding-left: 1em; padding-right: 1em; text-align: center; vertical-align: top\">1</td>\n",
       "        <td style=\"padding-left: 1em; padding-right: 1em; text-align: center; vertical-align: top\">187</td>\n",
       "        <td style=\"padding-left: 1em; padding-right: 1em; text-align: center; vertical-align: top\">0</td>\n",
       "        <td style=\"padding-left: 1em; padding-right: 1em; text-align: center; vertical-align: top\">3.5</td>\n",
       "        <td style=\"padding-left: 1em; padding-right: 1em; text-align: center; vertical-align: top\">0</td>\n",
       "        <td style=\"padding-left: 1em; padding-right: 1em; text-align: center; vertical-align: top\">0</td>\n",
       "    </tr>\n",
       "    <tr>\n",
       "        <td style=\"padding-left: 1em; padding-right: 1em; text-align: center; vertical-align: top\">41</td>\n",
       "        <td style=\"padding-left: 1em; padding-right: 1em; text-align: center; vertical-align: top\">0</td>\n",
       "        <td style=\"padding-left: 1em; padding-right: 1em; text-align: center; vertical-align: top\">1</td>\n",
       "        <td style=\"padding-left: 1em; padding-right: 1em; text-align: center; vertical-align: top\">130</td>\n",
       "        <td style=\"padding-left: 1em; padding-right: 1em; text-align: center; vertical-align: top\">204</td>\n",
       "        <td style=\"padding-left: 1em; padding-right: 1em; text-align: center; vertical-align: top\">0</td>\n",
       "        <td style=\"padding-left: 1em; padding-right: 1em; text-align: center; vertical-align: top\">0</td>\n",
       "        <td style=\"padding-left: 1em; padding-right: 1em; text-align: center; vertical-align: top\">172</td>\n",
       "        <td style=\"padding-left: 1em; padding-right: 1em; text-align: center; vertical-align: top\">0</td>\n",
       "        <td style=\"padding-left: 1em; padding-right: 1em; text-align: center; vertical-align: top\">1.4</td>\n",
       "        <td style=\"padding-left: 1em; padding-right: 1em; text-align: center; vertical-align: top\">2</td>\n",
       "        <td style=\"padding-left: 1em; padding-right: 1em; text-align: center; vertical-align: top\">0</td>\n",
       "    </tr>\n",
       "    <tr>\n",
       "        <td style=\"padding-left: 1em; padding-right: 1em; text-align: center; vertical-align: top\">56</td>\n",
       "        <td style=\"padding-left: 1em; padding-right: 1em; text-align: center; vertical-align: top\">1</td>\n",
       "        <td style=\"padding-left: 1em; padding-right: 1em; text-align: center; vertical-align: top\">1</td>\n",
       "        <td style=\"padding-left: 1em; padding-right: 1em; text-align: center; vertical-align: top\">120</td>\n",
       "        <td style=\"padding-left: 1em; padding-right: 1em; text-align: center; vertical-align: top\">236</td>\n",
       "        <td style=\"padding-left: 1em; padding-right: 1em; text-align: center; vertical-align: top\">0</td>\n",
       "        <td style=\"padding-left: 1em; padding-right: 1em; text-align: center; vertical-align: top\">1</td>\n",
       "        <td style=\"padding-left: 1em; padding-right: 1em; text-align: center; vertical-align: top\">178</td>\n",
       "        <td style=\"padding-left: 1em; padding-right: 1em; text-align: center; vertical-align: top\">0</td>\n",
       "        <td style=\"padding-left: 1em; padding-right: 1em; text-align: center; vertical-align: top\">0.8</td>\n",
       "        <td style=\"padding-left: 1em; padding-right: 1em; text-align: center; vertical-align: top\">2</td>\n",
       "        <td style=\"padding-left: 1em; padding-right: 1em; text-align: center; vertical-align: top\">0</td>\n",
       "    </tr>\n",
       "    <tr>\n",
       "        <td style=\"padding-left: 1em; padding-right: 1em; text-align: center; vertical-align: top\">57</td>\n",
       "        <td style=\"padding-left: 1em; padding-right: 1em; text-align: center; vertical-align: top\">0</td>\n",
       "        <td style=\"padding-left: 1em; padding-right: 1em; text-align: center; vertical-align: top\">0</td>\n",
       "        <td style=\"padding-left: 1em; padding-right: 1em; text-align: center; vertical-align: top\">120</td>\n",
       "        <td style=\"padding-left: 1em; padding-right: 1em; text-align: center; vertical-align: top\">354</td>\n",
       "        <td style=\"padding-left: 1em; padding-right: 1em; text-align: center; vertical-align: top\">0</td>\n",
       "        <td style=\"padding-left: 1em; padding-right: 1em; text-align: center; vertical-align: top\">1</td>\n",
       "        <td style=\"padding-left: 1em; padding-right: 1em; text-align: center; vertical-align: top\">163</td>\n",
       "        <td style=\"padding-left: 1em; padding-right: 1em; text-align: center; vertical-align: top\">1</td>\n",
       "        <td style=\"padding-left: 1em; padding-right: 1em; text-align: center; vertical-align: top\">0.6</td>\n",
       "        <td style=\"padding-left: 1em; padding-right: 1em; text-align: center; vertical-align: top\">2</td>\n",
       "        <td style=\"padding-left: 1em; padding-right: 1em; text-align: center; vertical-align: top\">0</td>\n",
       "    </tr>\n",
       "    <tr>\n",
       "        <td style=\"padding-left: 1em; padding-right: 1em; text-align: center; vertical-align: top\">57</td>\n",
       "        <td style=\"padding-left: 1em; padding-right: 1em; text-align: center; vertical-align: top\">1</td>\n",
       "        <td style=\"padding-left: 1em; padding-right: 1em; text-align: center; vertical-align: top\">0</td>\n",
       "        <td style=\"padding-left: 1em; padding-right: 1em; text-align: center; vertical-align: top\">140</td>\n",
       "        <td style=\"padding-left: 1em; padding-right: 1em; text-align: center; vertical-align: top\">192</td>\n",
       "        <td style=\"padding-left: 1em; padding-right: 1em; text-align: center; vertical-align: top\">0</td>\n",
       "        <td style=\"padding-left: 1em; padding-right: 1em; text-align: center; vertical-align: top\">1</td>\n",
       "        <td style=\"padding-left: 1em; padding-right: 1em; text-align: center; vertical-align: top\">148</td>\n",
       "        <td style=\"padding-left: 1em; padding-right: 1em; text-align: center; vertical-align: top\">0</td>\n",
       "        <td style=\"padding-left: 1em; padding-right: 1em; text-align: center; vertical-align: top\">0.4</td>\n",
       "        <td style=\"padding-left: 1em; padding-right: 1em; text-align: center; vertical-align: top\">1</td>\n",
       "        <td style=\"padding-left: 1em; padding-right: 1em; text-align: center; vertical-align: top\">0</td>\n",
       "    </tr>\n",
       "    <tr>\n",
       "        <td style=\"padding-left: 1em; padding-right: 1em; text-align: center; vertical-align: top\">56</td>\n",
       "        <td style=\"padding-left: 1em; padding-right: 1em; text-align: center; vertical-align: top\">0</td>\n",
       "        <td style=\"padding-left: 1em; padding-right: 1em; text-align: center; vertical-align: top\">1</td>\n",
       "        <td style=\"padding-left: 1em; padding-right: 1em; text-align: center; vertical-align: top\">140</td>\n",
       "        <td style=\"padding-left: 1em; padding-right: 1em; text-align: center; vertical-align: top\">294</td>\n",
       "        <td style=\"padding-left: 1em; padding-right: 1em; text-align: center; vertical-align: top\">0</td>\n",
       "        <td style=\"padding-left: 1em; padding-right: 1em; text-align: center; vertical-align: top\">0</td>\n",
       "        <td style=\"padding-left: 1em; padding-right: 1em; text-align: center; vertical-align: top\">153</td>\n",
       "        <td style=\"padding-left: 1em; padding-right: 1em; text-align: center; vertical-align: top\">0</td>\n",
       "        <td style=\"padding-left: 1em; padding-right: 1em; text-align: center; vertical-align: top\">1.3</td>\n",
       "        <td style=\"padding-left: 1em; padding-right: 1em; text-align: center; vertical-align: top\">1</td>\n",
       "        <td style=\"padding-left: 1em; padding-right: 1em; text-align: center; vertical-align: top\">0</td>\n",
       "    </tr>\n",
       "    <tr>\n",
       "        <td style=\"padding-left: 1em; padding-right: 1em; text-align: center; vertical-align: top\">44</td>\n",
       "        <td style=\"padding-left: 1em; padding-right: 1em; text-align: center; vertical-align: top\">1</td>\n",
       "        <td style=\"padding-left: 1em; padding-right: 1em; text-align: center; vertical-align: top\">1</td>\n",
       "        <td style=\"padding-left: 1em; padding-right: 1em; text-align: center; vertical-align: top\">120</td>\n",
       "        <td style=\"padding-left: 1em; padding-right: 1em; text-align: center; vertical-align: top\">263</td>\n",
       "        <td style=\"padding-left: 1em; padding-right: 1em; text-align: center; vertical-align: top\">0</td>\n",
       "        <td style=\"padding-left: 1em; padding-right: 1em; text-align: center; vertical-align: top\">1</td>\n",
       "        <td style=\"padding-left: 1em; padding-right: 1em; text-align: center; vertical-align: top\">173</td>\n",
       "        <td style=\"padding-left: 1em; padding-right: 1em; text-align: center; vertical-align: top\">0</td>\n",
       "        <td style=\"padding-left: 1em; padding-right: 1em; text-align: center; vertical-align: top\">0.0</td>\n",
       "        <td style=\"padding-left: 1em; padding-right: 1em; text-align: center; vertical-align: top\">2</td>\n",
       "        <td style=\"padding-left: 1em; padding-right: 1em; text-align: center; vertical-align: top\">0</td>\n",
       "    </tr>\n",
       "    <tr>\n",
       "        <td style=\"padding-left: 1em; padding-right: 1em; text-align: center; vertical-align: top\">52</td>\n",
       "        <td style=\"padding-left: 1em; padding-right: 1em; text-align: center; vertical-align: top\">1</td>\n",
       "        <td style=\"padding-left: 1em; padding-right: 1em; text-align: center; vertical-align: top\">2</td>\n",
       "        <td style=\"padding-left: 1em; padding-right: 1em; text-align: center; vertical-align: top\">172</td>\n",
       "        <td style=\"padding-left: 1em; padding-right: 1em; text-align: center; vertical-align: top\">199</td>\n",
       "        <td style=\"padding-left: 1em; padding-right: 1em; text-align: center; vertical-align: top\">1</td>\n",
       "        <td style=\"padding-left: 1em; padding-right: 1em; text-align: center; vertical-align: top\">1</td>\n",
       "        <td style=\"padding-left: 1em; padding-right: 1em; text-align: center; vertical-align: top\">162</td>\n",
       "        <td style=\"padding-left: 1em; padding-right: 1em; text-align: center; vertical-align: top\">0</td>\n",
       "        <td style=\"padding-left: 1em; padding-right: 1em; text-align: center; vertical-align: top\">0.5</td>\n",
       "        <td style=\"padding-left: 1em; padding-right: 1em; text-align: center; vertical-align: top\">2</td>\n",
       "        <td style=\"padding-left: 1em; padding-right: 1em; text-align: center; vertical-align: top\">0</td>\n",
       "    </tr>\n",
       "    <tr>\n",
       "        <td style=\"padding-left: 1em; padding-right: 1em; text-align: center; vertical-align: top\">57</td>\n",
       "        <td style=\"padding-left: 1em; padding-right: 1em; text-align: center; vertical-align: top\">1</td>\n",
       "        <td style=\"padding-left: 1em; padding-right: 1em; text-align: center; vertical-align: top\">2</td>\n",
       "        <td style=\"padding-left: 1em; padding-right: 1em; text-align: center; vertical-align: top\">150</td>\n",
       "        <td style=\"padding-left: 1em; padding-right: 1em; text-align: center; vertical-align: top\">168</td>\n",
       "        <td style=\"padding-left: 1em; padding-right: 1em; text-align: center; vertical-align: top\">0</td>\n",
       "        <td style=\"padding-left: 1em; padding-right: 1em; text-align: center; vertical-align: top\">1</td>\n",
       "        <td style=\"padding-left: 1em; padding-right: 1em; text-align: center; vertical-align: top\">174</td>\n",
       "        <td style=\"padding-left: 1em; padding-right: 1em; text-align: center; vertical-align: top\">0</td>\n",
       "        <td style=\"padding-left: 1em; padding-right: 1em; text-align: center; vertical-align: top\">1.6</td>\n",
       "        <td style=\"padding-left: 1em; padding-right: 1em; text-align: center; vertical-align: top\">2</td>\n",
       "        <td style=\"padding-left: 1em; padding-right: 1em; text-align: center; vertical-align: top\">0</td>\n",
       "    </tr>\n",
       "</table>\n",
       "<table frame=\"box\" rules=\"cols\">\n",
       "    <tr>\n",
       "        <th style=\"padding-left: 1em; padding-right: 1em; text-align: center\">thal</th>\n",
       "        <th style=\"padding-left: 1em; padding-right: 1em; text-align: center\">target</th>\n",
       "    </tr>\n",
       "    <tr>\n",
       "        <td style=\"padding-left: 1em; padding-right: 1em; text-align: center; vertical-align: top\">1</td>\n",
       "        <td style=\"padding-left: 1em; padding-right: 1em; text-align: center; vertical-align: top\">1</td>\n",
       "    </tr>\n",
       "    <tr>\n",
       "        <td style=\"padding-left: 1em; padding-right: 1em; text-align: center; vertical-align: top\">2</td>\n",
       "        <td style=\"padding-left: 1em; padding-right: 1em; text-align: center; vertical-align: top\">1</td>\n",
       "    </tr>\n",
       "    <tr>\n",
       "        <td style=\"padding-left: 1em; padding-right: 1em; text-align: center; vertical-align: top\">2</td>\n",
       "        <td style=\"padding-left: 1em; padding-right: 1em; text-align: center; vertical-align: top\">1</td>\n",
       "    </tr>\n",
       "    <tr>\n",
       "        <td style=\"padding-left: 1em; padding-right: 1em; text-align: center; vertical-align: top\">2</td>\n",
       "        <td style=\"padding-left: 1em; padding-right: 1em; text-align: center; vertical-align: top\">1</td>\n",
       "    </tr>\n",
       "    <tr>\n",
       "        <td style=\"padding-left: 1em; padding-right: 1em; text-align: center; vertical-align: top\">2</td>\n",
       "        <td style=\"padding-left: 1em; padding-right: 1em; text-align: center; vertical-align: top\">1</td>\n",
       "    </tr>\n",
       "    <tr>\n",
       "        <td style=\"padding-left: 1em; padding-right: 1em; text-align: center; vertical-align: top\">1</td>\n",
       "        <td style=\"padding-left: 1em; padding-right: 1em; text-align: center; vertical-align: top\">1</td>\n",
       "    </tr>\n",
       "    <tr>\n",
       "        <td style=\"padding-left: 1em; padding-right: 1em; text-align: center; vertical-align: top\">2</td>\n",
       "        <td style=\"padding-left: 1em; padding-right: 1em; text-align: center; vertical-align: top\">1</td>\n",
       "    </tr>\n",
       "    <tr>\n",
       "        <td style=\"padding-left: 1em; padding-right: 1em; text-align: center; vertical-align: top\">3</td>\n",
       "        <td style=\"padding-left: 1em; padding-right: 1em; text-align: center; vertical-align: top\">1</td>\n",
       "    </tr>\n",
       "    <tr>\n",
       "        <td style=\"padding-left: 1em; padding-right: 1em; text-align: center; vertical-align: top\">3</td>\n",
       "        <td style=\"padding-left: 1em; padding-right: 1em; text-align: center; vertical-align: top\">1</td>\n",
       "    </tr>\n",
       "    <tr>\n",
       "        <td style=\"padding-left: 1em; padding-right: 1em; text-align: center; vertical-align: top\">2</td>\n",
       "        <td style=\"padding-left: 1em; padding-right: 1em; text-align: center; vertical-align: top\">1</td>\n",
       "    </tr>\n",
       "</table>\n",
       "[303 rows x 14 columns]<br/>Note: Only the head of the SFrame is printed.<br/>You can use print_rows(num_rows=m, num_columns=n) to print more rows and columns.\n",
       "</div>"
      ],
      "text/plain": [
       "Columns:\n",
       "\t﻿age\tint\n",
       "\tsex\tint\n",
       "\tchest pain type\tint\n",
       "\ttrestbps\tint\n",
       "\tchol\tint\n",
       "\tfasting blood sugar\tint\n",
       "\trestecg\tint\n",
       "\tthalach\tint\n",
       "\texang\tint\n",
       "\toldpeak\tfloat\n",
       "\tslope\tint\n",
       "\tca\tint\n",
       "\tthal\tint\n",
       "\ttarget\tint\n",
       "\n",
       "Rows: 303\n",
       "\n",
       "Data:\n",
       "+------+-----+-----------------+----------+------+---------------------+---------+\n",
       "| ﻿age | sex | chest pain type | trestbps | chol | fasting blood sugar | restecg |\n",
       "+------+-----+-----------------+----------+------+---------------------+---------+\n",
       "|  63  |  1  |        3        |   145    | 233  |          1          |    0    |\n",
       "|  37  |  1  |        2        |   130    | 250  |          0          |    1    |\n",
       "|  41  |  0  |        1        |   130    | 204  |          0          |    0    |\n",
       "|  56  |  1  |        1        |   120    | 236  |          0          |    1    |\n",
       "|  57  |  0  |        0        |   120    | 354  |          0          |    1    |\n",
       "|  57  |  1  |        0        |   140    | 192  |          0          |    1    |\n",
       "|  56  |  0  |        1        |   140    | 294  |          0          |    0    |\n",
       "|  44  |  1  |        1        |   120    | 263  |          0          |    1    |\n",
       "|  52  |  1  |        2        |   172    | 199  |          1          |    1    |\n",
       "|  57  |  1  |        2        |   150    | 168  |          0          |    1    |\n",
       "+------+-----+-----------------+----------+------+---------------------+---------+\n",
       "+---------+-------+---------+-------+----+------+--------+\n",
       "| thalach | exang | oldpeak | slope | ca | thal | target |\n",
       "+---------+-------+---------+-------+----+------+--------+\n",
       "|   150   |   0   |   2.3   |   0   | 0  |  1   |   1    |\n",
       "|   187   |   0   |   3.5   |   0   | 0  |  2   |   1    |\n",
       "|   172   |   0   |   1.4   |   2   | 0  |  2   |   1    |\n",
       "|   178   |   0   |   0.8   |   2   | 0  |  2   |   1    |\n",
       "|   163   |   1   |   0.6   |   2   | 0  |  2   |   1    |\n",
       "|   148   |   0   |   0.4   |   1   | 0  |  1   |   1    |\n",
       "|   153   |   0   |   1.3   |   1   | 0  |  2   |   1    |\n",
       "|   173   |   0   |   0.0   |   2   | 0  |  3   |   1    |\n",
       "|   162   |   0   |   0.5   |   2   | 0  |  3   |   1    |\n",
       "|   174   |   0   |   1.6   |   2   | 0  |  2   |   1    |\n",
       "+---------+-------+---------+-------+----+------+--------+\n",
       "[303 rows x 14 columns]\n",
       "Note: Only the head of the SFrame is printed.\n",
       "You can use print_rows(num_rows=m, num_columns=n) to print more rows and columns."
      ]
     },
     "execution_count": 59,
     "metadata": {},
     "output_type": "execute_result"
    }
   ],
   "source": [
    "ht.rename({'cp': 'chest pain type', 'fbs':'fasting blood sugar'})"
   ]
  },
  {
   "cell_type": "code",
   "execution_count": 60,
   "metadata": {},
   "outputs": [
    {
     "data": {
      "text/html": [
       "<div style=\"max-height:1000px;max-width:1500px;overflow:auto;\"><table frame=\"box\" rules=\"cols\">\n",
       "    <tr>\n",
       "        <th style=\"padding-left: 1em; padding-right: 1em; text-align: center\">﻿age</th>\n",
       "        <th style=\"padding-left: 1em; padding-right: 1em; text-align: center\">sex</th>\n",
       "        <th style=\"padding-left: 1em; padding-right: 1em; text-align: center\">chest pain type</th>\n",
       "        <th style=\"padding-left: 1em; padding-right: 1em; text-align: center\">trestbps</th>\n",
       "        <th style=\"padding-left: 1em; padding-right: 1em; text-align: center\">chol</th>\n",
       "        <th style=\"padding-left: 1em; padding-right: 1em; text-align: center\">fasting blood sugar</th>\n",
       "        <th style=\"padding-left: 1em; padding-right: 1em; text-align: center\">restecg</th>\n",
       "        <th style=\"padding-left: 1em; padding-right: 1em; text-align: center\">thalach</th>\n",
       "        <th style=\"padding-left: 1em; padding-right: 1em; text-align: center\">exercise induced agina</th>\n",
       "    </tr>\n",
       "    <tr>\n",
       "        <td style=\"padding-left: 1em; padding-right: 1em; text-align: center; vertical-align: top\">63</td>\n",
       "        <td style=\"padding-left: 1em; padding-right: 1em; text-align: center; vertical-align: top\">1</td>\n",
       "        <td style=\"padding-left: 1em; padding-right: 1em; text-align: center; vertical-align: top\">3</td>\n",
       "        <td style=\"padding-left: 1em; padding-right: 1em; text-align: center; vertical-align: top\">145</td>\n",
       "        <td style=\"padding-left: 1em; padding-right: 1em; text-align: center; vertical-align: top\">233</td>\n",
       "        <td style=\"padding-left: 1em; padding-right: 1em; text-align: center; vertical-align: top\">1</td>\n",
       "        <td style=\"padding-left: 1em; padding-right: 1em; text-align: center; vertical-align: top\">0</td>\n",
       "        <td style=\"padding-left: 1em; padding-right: 1em; text-align: center; vertical-align: top\">150</td>\n",
       "        <td style=\"padding-left: 1em; padding-right: 1em; text-align: center; vertical-align: top\">0</td>\n",
       "    </tr>\n",
       "    <tr>\n",
       "        <td style=\"padding-left: 1em; padding-right: 1em; text-align: center; vertical-align: top\">37</td>\n",
       "        <td style=\"padding-left: 1em; padding-right: 1em; text-align: center; vertical-align: top\">1</td>\n",
       "        <td style=\"padding-left: 1em; padding-right: 1em; text-align: center; vertical-align: top\">2</td>\n",
       "        <td style=\"padding-left: 1em; padding-right: 1em; text-align: center; vertical-align: top\">130</td>\n",
       "        <td style=\"padding-left: 1em; padding-right: 1em; text-align: center; vertical-align: top\">250</td>\n",
       "        <td style=\"padding-left: 1em; padding-right: 1em; text-align: center; vertical-align: top\">0</td>\n",
       "        <td style=\"padding-left: 1em; padding-right: 1em; text-align: center; vertical-align: top\">1</td>\n",
       "        <td style=\"padding-left: 1em; padding-right: 1em; text-align: center; vertical-align: top\">187</td>\n",
       "        <td style=\"padding-left: 1em; padding-right: 1em; text-align: center; vertical-align: top\">0</td>\n",
       "    </tr>\n",
       "    <tr>\n",
       "        <td style=\"padding-left: 1em; padding-right: 1em; text-align: center; vertical-align: top\">41</td>\n",
       "        <td style=\"padding-left: 1em; padding-right: 1em; text-align: center; vertical-align: top\">0</td>\n",
       "        <td style=\"padding-left: 1em; padding-right: 1em; text-align: center; vertical-align: top\">1</td>\n",
       "        <td style=\"padding-left: 1em; padding-right: 1em; text-align: center; vertical-align: top\">130</td>\n",
       "        <td style=\"padding-left: 1em; padding-right: 1em; text-align: center; vertical-align: top\">204</td>\n",
       "        <td style=\"padding-left: 1em; padding-right: 1em; text-align: center; vertical-align: top\">0</td>\n",
       "        <td style=\"padding-left: 1em; padding-right: 1em; text-align: center; vertical-align: top\">0</td>\n",
       "        <td style=\"padding-left: 1em; padding-right: 1em; text-align: center; vertical-align: top\">172</td>\n",
       "        <td style=\"padding-left: 1em; padding-right: 1em; text-align: center; vertical-align: top\">0</td>\n",
       "    </tr>\n",
       "    <tr>\n",
       "        <td style=\"padding-left: 1em; padding-right: 1em; text-align: center; vertical-align: top\">56</td>\n",
       "        <td style=\"padding-left: 1em; padding-right: 1em; text-align: center; vertical-align: top\">1</td>\n",
       "        <td style=\"padding-left: 1em; padding-right: 1em; text-align: center; vertical-align: top\">1</td>\n",
       "        <td style=\"padding-left: 1em; padding-right: 1em; text-align: center; vertical-align: top\">120</td>\n",
       "        <td style=\"padding-left: 1em; padding-right: 1em; text-align: center; vertical-align: top\">236</td>\n",
       "        <td style=\"padding-left: 1em; padding-right: 1em; text-align: center; vertical-align: top\">0</td>\n",
       "        <td style=\"padding-left: 1em; padding-right: 1em; text-align: center; vertical-align: top\">1</td>\n",
       "        <td style=\"padding-left: 1em; padding-right: 1em; text-align: center; vertical-align: top\">178</td>\n",
       "        <td style=\"padding-left: 1em; padding-right: 1em; text-align: center; vertical-align: top\">0</td>\n",
       "    </tr>\n",
       "    <tr>\n",
       "        <td style=\"padding-left: 1em; padding-right: 1em; text-align: center; vertical-align: top\">57</td>\n",
       "        <td style=\"padding-left: 1em; padding-right: 1em; text-align: center; vertical-align: top\">0</td>\n",
       "        <td style=\"padding-left: 1em; padding-right: 1em; text-align: center; vertical-align: top\">0</td>\n",
       "        <td style=\"padding-left: 1em; padding-right: 1em; text-align: center; vertical-align: top\">120</td>\n",
       "        <td style=\"padding-left: 1em; padding-right: 1em; text-align: center; vertical-align: top\">354</td>\n",
       "        <td style=\"padding-left: 1em; padding-right: 1em; text-align: center; vertical-align: top\">0</td>\n",
       "        <td style=\"padding-left: 1em; padding-right: 1em; text-align: center; vertical-align: top\">1</td>\n",
       "        <td style=\"padding-left: 1em; padding-right: 1em; text-align: center; vertical-align: top\">163</td>\n",
       "        <td style=\"padding-left: 1em; padding-right: 1em; text-align: center; vertical-align: top\">1</td>\n",
       "    </tr>\n",
       "    <tr>\n",
       "        <td style=\"padding-left: 1em; padding-right: 1em; text-align: center; vertical-align: top\">57</td>\n",
       "        <td style=\"padding-left: 1em; padding-right: 1em; text-align: center; vertical-align: top\">1</td>\n",
       "        <td style=\"padding-left: 1em; padding-right: 1em; text-align: center; vertical-align: top\">0</td>\n",
       "        <td style=\"padding-left: 1em; padding-right: 1em; text-align: center; vertical-align: top\">140</td>\n",
       "        <td style=\"padding-left: 1em; padding-right: 1em; text-align: center; vertical-align: top\">192</td>\n",
       "        <td style=\"padding-left: 1em; padding-right: 1em; text-align: center; vertical-align: top\">0</td>\n",
       "        <td style=\"padding-left: 1em; padding-right: 1em; text-align: center; vertical-align: top\">1</td>\n",
       "        <td style=\"padding-left: 1em; padding-right: 1em; text-align: center; vertical-align: top\">148</td>\n",
       "        <td style=\"padding-left: 1em; padding-right: 1em; text-align: center; vertical-align: top\">0</td>\n",
       "    </tr>\n",
       "    <tr>\n",
       "        <td style=\"padding-left: 1em; padding-right: 1em; text-align: center; vertical-align: top\">56</td>\n",
       "        <td style=\"padding-left: 1em; padding-right: 1em; text-align: center; vertical-align: top\">0</td>\n",
       "        <td style=\"padding-left: 1em; padding-right: 1em; text-align: center; vertical-align: top\">1</td>\n",
       "        <td style=\"padding-left: 1em; padding-right: 1em; text-align: center; vertical-align: top\">140</td>\n",
       "        <td style=\"padding-left: 1em; padding-right: 1em; text-align: center; vertical-align: top\">294</td>\n",
       "        <td style=\"padding-left: 1em; padding-right: 1em; text-align: center; vertical-align: top\">0</td>\n",
       "        <td style=\"padding-left: 1em; padding-right: 1em; text-align: center; vertical-align: top\">0</td>\n",
       "        <td style=\"padding-left: 1em; padding-right: 1em; text-align: center; vertical-align: top\">153</td>\n",
       "        <td style=\"padding-left: 1em; padding-right: 1em; text-align: center; vertical-align: top\">0</td>\n",
       "    </tr>\n",
       "    <tr>\n",
       "        <td style=\"padding-left: 1em; padding-right: 1em; text-align: center; vertical-align: top\">44</td>\n",
       "        <td style=\"padding-left: 1em; padding-right: 1em; text-align: center; vertical-align: top\">1</td>\n",
       "        <td style=\"padding-left: 1em; padding-right: 1em; text-align: center; vertical-align: top\">1</td>\n",
       "        <td style=\"padding-left: 1em; padding-right: 1em; text-align: center; vertical-align: top\">120</td>\n",
       "        <td style=\"padding-left: 1em; padding-right: 1em; text-align: center; vertical-align: top\">263</td>\n",
       "        <td style=\"padding-left: 1em; padding-right: 1em; text-align: center; vertical-align: top\">0</td>\n",
       "        <td style=\"padding-left: 1em; padding-right: 1em; text-align: center; vertical-align: top\">1</td>\n",
       "        <td style=\"padding-left: 1em; padding-right: 1em; text-align: center; vertical-align: top\">173</td>\n",
       "        <td style=\"padding-left: 1em; padding-right: 1em; text-align: center; vertical-align: top\">0</td>\n",
       "    </tr>\n",
       "    <tr>\n",
       "        <td style=\"padding-left: 1em; padding-right: 1em; text-align: center; vertical-align: top\">52</td>\n",
       "        <td style=\"padding-left: 1em; padding-right: 1em; text-align: center; vertical-align: top\">1</td>\n",
       "        <td style=\"padding-left: 1em; padding-right: 1em; text-align: center; vertical-align: top\">2</td>\n",
       "        <td style=\"padding-left: 1em; padding-right: 1em; text-align: center; vertical-align: top\">172</td>\n",
       "        <td style=\"padding-left: 1em; padding-right: 1em; text-align: center; vertical-align: top\">199</td>\n",
       "        <td style=\"padding-left: 1em; padding-right: 1em; text-align: center; vertical-align: top\">1</td>\n",
       "        <td style=\"padding-left: 1em; padding-right: 1em; text-align: center; vertical-align: top\">1</td>\n",
       "        <td style=\"padding-left: 1em; padding-right: 1em; text-align: center; vertical-align: top\">162</td>\n",
       "        <td style=\"padding-left: 1em; padding-right: 1em; text-align: center; vertical-align: top\">0</td>\n",
       "    </tr>\n",
       "    <tr>\n",
       "        <td style=\"padding-left: 1em; padding-right: 1em; text-align: center; vertical-align: top\">57</td>\n",
       "        <td style=\"padding-left: 1em; padding-right: 1em; text-align: center; vertical-align: top\">1</td>\n",
       "        <td style=\"padding-left: 1em; padding-right: 1em; text-align: center; vertical-align: top\">2</td>\n",
       "        <td style=\"padding-left: 1em; padding-right: 1em; text-align: center; vertical-align: top\">150</td>\n",
       "        <td style=\"padding-left: 1em; padding-right: 1em; text-align: center; vertical-align: top\">168</td>\n",
       "        <td style=\"padding-left: 1em; padding-right: 1em; text-align: center; vertical-align: top\">0</td>\n",
       "        <td style=\"padding-left: 1em; padding-right: 1em; text-align: center; vertical-align: top\">1</td>\n",
       "        <td style=\"padding-left: 1em; padding-right: 1em; text-align: center; vertical-align: top\">174</td>\n",
       "        <td style=\"padding-left: 1em; padding-right: 1em; text-align: center; vertical-align: top\">0</td>\n",
       "    </tr>\n",
       "</table>\n",
       "<table frame=\"box\" rules=\"cols\">\n",
       "    <tr>\n",
       "        <th style=\"padding-left: 1em; padding-right: 1em; text-align: center\">oldpeak</th>\n",
       "        <th style=\"padding-left: 1em; padding-right: 1em; text-align: center\">slope</th>\n",
       "        <th style=\"padding-left: 1em; padding-right: 1em; text-align: center\">num_major_vessels</th>\n",
       "        <th style=\"padding-left: 1em; padding-right: 1em; text-align: center\">thal</th>\n",
       "        <th style=\"padding-left: 1em; padding-right: 1em; text-align: center\">target</th>\n",
       "    </tr>\n",
       "    <tr>\n",
       "        <td style=\"padding-left: 1em; padding-right: 1em; text-align: center; vertical-align: top\">2.3</td>\n",
       "        <td style=\"padding-left: 1em; padding-right: 1em; text-align: center; vertical-align: top\">0</td>\n",
       "        <td style=\"padding-left: 1em; padding-right: 1em; text-align: center; vertical-align: top\">0</td>\n",
       "        <td style=\"padding-left: 1em; padding-right: 1em; text-align: center; vertical-align: top\">1</td>\n",
       "        <td style=\"padding-left: 1em; padding-right: 1em; text-align: center; vertical-align: top\">1</td>\n",
       "    </tr>\n",
       "    <tr>\n",
       "        <td style=\"padding-left: 1em; padding-right: 1em; text-align: center; vertical-align: top\">3.5</td>\n",
       "        <td style=\"padding-left: 1em; padding-right: 1em; text-align: center; vertical-align: top\">0</td>\n",
       "        <td style=\"padding-left: 1em; padding-right: 1em; text-align: center; vertical-align: top\">0</td>\n",
       "        <td style=\"padding-left: 1em; padding-right: 1em; text-align: center; vertical-align: top\">2</td>\n",
       "        <td style=\"padding-left: 1em; padding-right: 1em; text-align: center; vertical-align: top\">1</td>\n",
       "    </tr>\n",
       "    <tr>\n",
       "        <td style=\"padding-left: 1em; padding-right: 1em; text-align: center; vertical-align: top\">1.4</td>\n",
       "        <td style=\"padding-left: 1em; padding-right: 1em; text-align: center; vertical-align: top\">2</td>\n",
       "        <td style=\"padding-left: 1em; padding-right: 1em; text-align: center; vertical-align: top\">0</td>\n",
       "        <td style=\"padding-left: 1em; padding-right: 1em; text-align: center; vertical-align: top\">2</td>\n",
       "        <td style=\"padding-left: 1em; padding-right: 1em; text-align: center; vertical-align: top\">1</td>\n",
       "    </tr>\n",
       "    <tr>\n",
       "        <td style=\"padding-left: 1em; padding-right: 1em; text-align: center; vertical-align: top\">0.8</td>\n",
       "        <td style=\"padding-left: 1em; padding-right: 1em; text-align: center; vertical-align: top\">2</td>\n",
       "        <td style=\"padding-left: 1em; padding-right: 1em; text-align: center; vertical-align: top\">0</td>\n",
       "        <td style=\"padding-left: 1em; padding-right: 1em; text-align: center; vertical-align: top\">2</td>\n",
       "        <td style=\"padding-left: 1em; padding-right: 1em; text-align: center; vertical-align: top\">1</td>\n",
       "    </tr>\n",
       "    <tr>\n",
       "        <td style=\"padding-left: 1em; padding-right: 1em; text-align: center; vertical-align: top\">0.6</td>\n",
       "        <td style=\"padding-left: 1em; padding-right: 1em; text-align: center; vertical-align: top\">2</td>\n",
       "        <td style=\"padding-left: 1em; padding-right: 1em; text-align: center; vertical-align: top\">0</td>\n",
       "        <td style=\"padding-left: 1em; padding-right: 1em; text-align: center; vertical-align: top\">2</td>\n",
       "        <td style=\"padding-left: 1em; padding-right: 1em; text-align: center; vertical-align: top\">1</td>\n",
       "    </tr>\n",
       "    <tr>\n",
       "        <td style=\"padding-left: 1em; padding-right: 1em; text-align: center; vertical-align: top\">0.4</td>\n",
       "        <td style=\"padding-left: 1em; padding-right: 1em; text-align: center; vertical-align: top\">1</td>\n",
       "        <td style=\"padding-left: 1em; padding-right: 1em; text-align: center; vertical-align: top\">0</td>\n",
       "        <td style=\"padding-left: 1em; padding-right: 1em; text-align: center; vertical-align: top\">1</td>\n",
       "        <td style=\"padding-left: 1em; padding-right: 1em; text-align: center; vertical-align: top\">1</td>\n",
       "    </tr>\n",
       "    <tr>\n",
       "        <td style=\"padding-left: 1em; padding-right: 1em; text-align: center; vertical-align: top\">1.3</td>\n",
       "        <td style=\"padding-left: 1em; padding-right: 1em; text-align: center; vertical-align: top\">1</td>\n",
       "        <td style=\"padding-left: 1em; padding-right: 1em; text-align: center; vertical-align: top\">0</td>\n",
       "        <td style=\"padding-left: 1em; padding-right: 1em; text-align: center; vertical-align: top\">2</td>\n",
       "        <td style=\"padding-left: 1em; padding-right: 1em; text-align: center; vertical-align: top\">1</td>\n",
       "    </tr>\n",
       "    <tr>\n",
       "        <td style=\"padding-left: 1em; padding-right: 1em; text-align: center; vertical-align: top\">0.0</td>\n",
       "        <td style=\"padding-left: 1em; padding-right: 1em; text-align: center; vertical-align: top\">2</td>\n",
       "        <td style=\"padding-left: 1em; padding-right: 1em; text-align: center; vertical-align: top\">0</td>\n",
       "        <td style=\"padding-left: 1em; padding-right: 1em; text-align: center; vertical-align: top\">3</td>\n",
       "        <td style=\"padding-left: 1em; padding-right: 1em; text-align: center; vertical-align: top\">1</td>\n",
       "    </tr>\n",
       "    <tr>\n",
       "        <td style=\"padding-left: 1em; padding-right: 1em; text-align: center; vertical-align: top\">0.5</td>\n",
       "        <td style=\"padding-left: 1em; padding-right: 1em; text-align: center; vertical-align: top\">2</td>\n",
       "        <td style=\"padding-left: 1em; padding-right: 1em; text-align: center; vertical-align: top\">0</td>\n",
       "        <td style=\"padding-left: 1em; padding-right: 1em; text-align: center; vertical-align: top\">3</td>\n",
       "        <td style=\"padding-left: 1em; padding-right: 1em; text-align: center; vertical-align: top\">1</td>\n",
       "    </tr>\n",
       "    <tr>\n",
       "        <td style=\"padding-left: 1em; padding-right: 1em; text-align: center; vertical-align: top\">1.6</td>\n",
       "        <td style=\"padding-left: 1em; padding-right: 1em; text-align: center; vertical-align: top\">2</td>\n",
       "        <td style=\"padding-left: 1em; padding-right: 1em; text-align: center; vertical-align: top\">0</td>\n",
       "        <td style=\"padding-left: 1em; padding-right: 1em; text-align: center; vertical-align: top\">2</td>\n",
       "        <td style=\"padding-left: 1em; padding-right: 1em; text-align: center; vertical-align: top\">1</td>\n",
       "    </tr>\n",
       "</table>\n",
       "[303 rows x 14 columns]<br/>Note: Only the head of the SFrame is printed.<br/>You can use print_rows(num_rows=m, num_columns=n) to print more rows and columns.\n",
       "</div>"
      ],
      "text/plain": [
       "Columns:\n",
       "\t﻿age\tint\n",
       "\tsex\tint\n",
       "\tchest pain type\tint\n",
       "\ttrestbps\tint\n",
       "\tchol\tint\n",
       "\tfasting blood sugar\tint\n",
       "\trestecg\tint\n",
       "\tthalach\tint\n",
       "\texercise induced agina\tint\n",
       "\toldpeak\tfloat\n",
       "\tslope\tint\n",
       "\tnum_major_vessels\tint\n",
       "\tthal\tint\n",
       "\ttarget\tint\n",
       "\n",
       "Rows: 303\n",
       "\n",
       "Data:\n",
       "+------+-----+-----------------+----------+------+---------------------+---------+\n",
       "| ﻿age | sex | chest pain type | trestbps | chol | fasting blood sugar | restecg |\n",
       "+------+-----+-----------------+----------+------+---------------------+---------+\n",
       "|  63  |  1  |        3        |   145    | 233  |          1          |    0    |\n",
       "|  37  |  1  |        2        |   130    | 250  |          0          |    1    |\n",
       "|  41  |  0  |        1        |   130    | 204  |          0          |    0    |\n",
       "|  56  |  1  |        1        |   120    | 236  |          0          |    1    |\n",
       "|  57  |  0  |        0        |   120    | 354  |          0          |    1    |\n",
       "|  57  |  1  |        0        |   140    | 192  |          0          |    1    |\n",
       "|  56  |  0  |        1        |   140    | 294  |          0          |    0    |\n",
       "|  44  |  1  |        1        |   120    | 263  |          0          |    1    |\n",
       "|  52  |  1  |        2        |   172    | 199  |          1          |    1    |\n",
       "|  57  |  1  |        2        |   150    | 168  |          0          |    1    |\n",
       "+------+-----+-----------------+----------+------+---------------------+---------+\n",
       "+---------+------------------------+---------+-------+-------------------+------+\n",
       "| thalach | exercise induced agina | oldpeak | slope | num_major_vessels | thal |\n",
       "+---------+------------------------+---------+-------+-------------------+------+\n",
       "|   150   |           0            |   2.3   |   0   |         0         |  1   |\n",
       "|   187   |           0            |   3.5   |   0   |         0         |  2   |\n",
       "|   172   |           0            |   1.4   |   2   |         0         |  2   |\n",
       "|   178   |           0            |   0.8   |   2   |         0         |  2   |\n",
       "|   163   |           1            |   0.6   |   2   |         0         |  2   |\n",
       "|   148   |           0            |   0.4   |   1   |         0         |  1   |\n",
       "|   153   |           0            |   1.3   |   1   |         0         |  2   |\n",
       "|   173   |           0            |   0.0   |   2   |         0         |  3   |\n",
       "|   162   |           0            |   0.5   |   2   |         0         |  3   |\n",
       "|   174   |           0            |   1.6   |   2   |         0         |  2   |\n",
       "+---------+------------------------+---------+-------+-------------------+------+\n",
       "+--------+\n",
       "| target |\n",
       "+--------+\n",
       "|   1    |\n",
       "|   1    |\n",
       "|   1    |\n",
       "|   1    |\n",
       "|   1    |\n",
       "|   1    |\n",
       "|   1    |\n",
       "|   1    |\n",
       "|   1    |\n",
       "|   1    |\n",
       "+--------+\n",
       "[303 rows x 14 columns]\n",
       "Note: Only the head of the SFrame is printed.\n",
       "You can use print_rows(num_rows=m, num_columns=n) to print more rows and columns."
      ]
     },
     "execution_count": 60,
     "metadata": {},
     "output_type": "execute_result"
    }
   ],
   "source": [
    "ht.rename({'exang': 'exercise induced agina', 'ca':'num_major_vessels'})"
   ]
  },
  {
   "cell_type": "code",
   "execution_count": 61,
   "metadata": {},
   "outputs": [
    {
     "data": {
      "text/plain": [
       "303"
      ]
     },
     "execution_count": 61,
     "metadata": {},
     "output_type": "execute_result"
    }
   ],
   "source": [
    "len(ht) # number of entries in the datasheet"
   ]
  },
  {
   "cell_type": "code",
   "execution_count": 62,
   "metadata": {},
   "outputs": [
    {
     "name": "stdout",
     "output_type": "stream",
     "text": [
      "Canvas is accessible via web browser at the URL: http://localhost:52104/index.html\n",
      "Opening Canvas in default web browser.\n"
     ]
    }
   ],
   "source": [
    "ht.show(view=\"Scatter Plot\",x=\"trestbps\",y=\"thalach\") # scatter plot of trestbps vs thalach...heat map boxwhisker plot and bar\n",
    "# graph can also be viewed...and the parameters can also be changed...this command directs to the visualization tool(graphlab)"
   ]
  },
  {
   "cell_type": "code",
   "execution_count": 63,
   "metadata": {
    "collapsed": true
   },
   "outputs": [],
   "source": [
    "trd,tsd=ht.random_split(.8,seed=0) # training and test datasets are formed...80 percent of the entries belong to training while\n",
    "# remaining 20 belong to test dataset"
   ]
  },
  {
   "cell_type": "code",
   "execution_count": 64,
   "metadata": {},
   "outputs": [
    {
     "data": {
      "text/html": [
       "<div style=\"max-height:1000px;max-width:1500px;overflow:auto;\"><table frame=\"box\" rules=\"cols\">\n",
       "    <tr>\n",
       "        <th style=\"padding-left: 1em; padding-right: 1em; text-align: center\">﻿age</th>\n",
       "        <th style=\"padding-left: 1em; padding-right: 1em; text-align: center\">sex</th>\n",
       "        <th style=\"padding-left: 1em; padding-right: 1em; text-align: center\">chest pain type</th>\n",
       "        <th style=\"padding-left: 1em; padding-right: 1em; text-align: center\">trestbps</th>\n",
       "        <th style=\"padding-left: 1em; padding-right: 1em; text-align: center\">chol</th>\n",
       "        <th style=\"padding-left: 1em; padding-right: 1em; text-align: center\">fasting blood sugar</th>\n",
       "        <th style=\"padding-left: 1em; padding-right: 1em; text-align: center\">restecg</th>\n",
       "        <th style=\"padding-left: 1em; padding-right: 1em; text-align: center\">thalach</th>\n",
       "        <th style=\"padding-left: 1em; padding-right: 1em; text-align: center\">exercise induced agina</th>\n",
       "    </tr>\n",
       "    <tr>\n",
       "        <td style=\"padding-left: 1em; padding-right: 1em; text-align: center; vertical-align: top\">63</td>\n",
       "        <td style=\"padding-left: 1em; padding-right: 1em; text-align: center; vertical-align: top\">1</td>\n",
       "        <td style=\"padding-left: 1em; padding-right: 1em; text-align: center; vertical-align: top\">3</td>\n",
       "        <td style=\"padding-left: 1em; padding-right: 1em; text-align: center; vertical-align: top\">145</td>\n",
       "        <td style=\"padding-left: 1em; padding-right: 1em; text-align: center; vertical-align: top\">233</td>\n",
       "        <td style=\"padding-left: 1em; padding-right: 1em; text-align: center; vertical-align: top\">1</td>\n",
       "        <td style=\"padding-left: 1em; padding-right: 1em; text-align: center; vertical-align: top\">0</td>\n",
       "        <td style=\"padding-left: 1em; padding-right: 1em; text-align: center; vertical-align: top\">150</td>\n",
       "        <td style=\"padding-left: 1em; padding-right: 1em; text-align: center; vertical-align: top\">0</td>\n",
       "    </tr>\n",
       "    <tr>\n",
       "        <td style=\"padding-left: 1em; padding-right: 1em; text-align: center; vertical-align: top\">37</td>\n",
       "        <td style=\"padding-left: 1em; padding-right: 1em; text-align: center; vertical-align: top\">1</td>\n",
       "        <td style=\"padding-left: 1em; padding-right: 1em; text-align: center; vertical-align: top\">2</td>\n",
       "        <td style=\"padding-left: 1em; padding-right: 1em; text-align: center; vertical-align: top\">130</td>\n",
       "        <td style=\"padding-left: 1em; padding-right: 1em; text-align: center; vertical-align: top\">250</td>\n",
       "        <td style=\"padding-left: 1em; padding-right: 1em; text-align: center; vertical-align: top\">0</td>\n",
       "        <td style=\"padding-left: 1em; padding-right: 1em; text-align: center; vertical-align: top\">1</td>\n",
       "        <td style=\"padding-left: 1em; padding-right: 1em; text-align: center; vertical-align: top\">187</td>\n",
       "        <td style=\"padding-left: 1em; padding-right: 1em; text-align: center; vertical-align: top\">0</td>\n",
       "    </tr>\n",
       "    <tr>\n",
       "        <td style=\"padding-left: 1em; padding-right: 1em; text-align: center; vertical-align: top\">41</td>\n",
       "        <td style=\"padding-left: 1em; padding-right: 1em; text-align: center; vertical-align: top\">0</td>\n",
       "        <td style=\"padding-left: 1em; padding-right: 1em; text-align: center; vertical-align: top\">1</td>\n",
       "        <td style=\"padding-left: 1em; padding-right: 1em; text-align: center; vertical-align: top\">130</td>\n",
       "        <td style=\"padding-left: 1em; padding-right: 1em; text-align: center; vertical-align: top\">204</td>\n",
       "        <td style=\"padding-left: 1em; padding-right: 1em; text-align: center; vertical-align: top\">0</td>\n",
       "        <td style=\"padding-left: 1em; padding-right: 1em; text-align: center; vertical-align: top\">0</td>\n",
       "        <td style=\"padding-left: 1em; padding-right: 1em; text-align: center; vertical-align: top\">172</td>\n",
       "        <td style=\"padding-left: 1em; padding-right: 1em; text-align: center; vertical-align: top\">0</td>\n",
       "    </tr>\n",
       "    <tr>\n",
       "        <td style=\"padding-left: 1em; padding-right: 1em; text-align: center; vertical-align: top\">56</td>\n",
       "        <td style=\"padding-left: 1em; padding-right: 1em; text-align: center; vertical-align: top\">1</td>\n",
       "        <td style=\"padding-left: 1em; padding-right: 1em; text-align: center; vertical-align: top\">1</td>\n",
       "        <td style=\"padding-left: 1em; padding-right: 1em; text-align: center; vertical-align: top\">120</td>\n",
       "        <td style=\"padding-left: 1em; padding-right: 1em; text-align: center; vertical-align: top\">236</td>\n",
       "        <td style=\"padding-left: 1em; padding-right: 1em; text-align: center; vertical-align: top\">0</td>\n",
       "        <td style=\"padding-left: 1em; padding-right: 1em; text-align: center; vertical-align: top\">1</td>\n",
       "        <td style=\"padding-left: 1em; padding-right: 1em; text-align: center; vertical-align: top\">178</td>\n",
       "        <td style=\"padding-left: 1em; padding-right: 1em; text-align: center; vertical-align: top\">0</td>\n",
       "    </tr>\n",
       "    <tr>\n",
       "        <td style=\"padding-left: 1em; padding-right: 1em; text-align: center; vertical-align: top\">57</td>\n",
       "        <td style=\"padding-left: 1em; padding-right: 1em; text-align: center; vertical-align: top\">0</td>\n",
       "        <td style=\"padding-left: 1em; padding-right: 1em; text-align: center; vertical-align: top\">0</td>\n",
       "        <td style=\"padding-left: 1em; padding-right: 1em; text-align: center; vertical-align: top\">120</td>\n",
       "        <td style=\"padding-left: 1em; padding-right: 1em; text-align: center; vertical-align: top\">354</td>\n",
       "        <td style=\"padding-left: 1em; padding-right: 1em; text-align: center; vertical-align: top\">0</td>\n",
       "        <td style=\"padding-left: 1em; padding-right: 1em; text-align: center; vertical-align: top\">1</td>\n",
       "        <td style=\"padding-left: 1em; padding-right: 1em; text-align: center; vertical-align: top\">163</td>\n",
       "        <td style=\"padding-left: 1em; padding-right: 1em; text-align: center; vertical-align: top\">1</td>\n",
       "    </tr>\n",
       "    <tr>\n",
       "        <td style=\"padding-left: 1em; padding-right: 1em; text-align: center; vertical-align: top\">57</td>\n",
       "        <td style=\"padding-left: 1em; padding-right: 1em; text-align: center; vertical-align: top\">1</td>\n",
       "        <td style=\"padding-left: 1em; padding-right: 1em; text-align: center; vertical-align: top\">0</td>\n",
       "        <td style=\"padding-left: 1em; padding-right: 1em; text-align: center; vertical-align: top\">140</td>\n",
       "        <td style=\"padding-left: 1em; padding-right: 1em; text-align: center; vertical-align: top\">192</td>\n",
       "        <td style=\"padding-left: 1em; padding-right: 1em; text-align: center; vertical-align: top\">0</td>\n",
       "        <td style=\"padding-left: 1em; padding-right: 1em; text-align: center; vertical-align: top\">1</td>\n",
       "        <td style=\"padding-left: 1em; padding-right: 1em; text-align: center; vertical-align: top\">148</td>\n",
       "        <td style=\"padding-left: 1em; padding-right: 1em; text-align: center; vertical-align: top\">0</td>\n",
       "    </tr>\n",
       "    <tr>\n",
       "        <td style=\"padding-left: 1em; padding-right: 1em; text-align: center; vertical-align: top\">56</td>\n",
       "        <td style=\"padding-left: 1em; padding-right: 1em; text-align: center; vertical-align: top\">0</td>\n",
       "        <td style=\"padding-left: 1em; padding-right: 1em; text-align: center; vertical-align: top\">1</td>\n",
       "        <td style=\"padding-left: 1em; padding-right: 1em; text-align: center; vertical-align: top\">140</td>\n",
       "        <td style=\"padding-left: 1em; padding-right: 1em; text-align: center; vertical-align: top\">294</td>\n",
       "        <td style=\"padding-left: 1em; padding-right: 1em; text-align: center; vertical-align: top\">0</td>\n",
       "        <td style=\"padding-left: 1em; padding-right: 1em; text-align: center; vertical-align: top\">0</td>\n",
       "        <td style=\"padding-left: 1em; padding-right: 1em; text-align: center; vertical-align: top\">153</td>\n",
       "        <td style=\"padding-left: 1em; padding-right: 1em; text-align: center; vertical-align: top\">0</td>\n",
       "    </tr>\n",
       "    <tr>\n",
       "        <td style=\"padding-left: 1em; padding-right: 1em; text-align: center; vertical-align: top\">44</td>\n",
       "        <td style=\"padding-left: 1em; padding-right: 1em; text-align: center; vertical-align: top\">1</td>\n",
       "        <td style=\"padding-left: 1em; padding-right: 1em; text-align: center; vertical-align: top\">1</td>\n",
       "        <td style=\"padding-left: 1em; padding-right: 1em; text-align: center; vertical-align: top\">120</td>\n",
       "        <td style=\"padding-left: 1em; padding-right: 1em; text-align: center; vertical-align: top\">263</td>\n",
       "        <td style=\"padding-left: 1em; padding-right: 1em; text-align: center; vertical-align: top\">0</td>\n",
       "        <td style=\"padding-left: 1em; padding-right: 1em; text-align: center; vertical-align: top\">1</td>\n",
       "        <td style=\"padding-left: 1em; padding-right: 1em; text-align: center; vertical-align: top\">173</td>\n",
       "        <td style=\"padding-left: 1em; padding-right: 1em; text-align: center; vertical-align: top\">0</td>\n",
       "    </tr>\n",
       "    <tr>\n",
       "        <td style=\"padding-left: 1em; padding-right: 1em; text-align: center; vertical-align: top\">52</td>\n",
       "        <td style=\"padding-left: 1em; padding-right: 1em; text-align: center; vertical-align: top\">1</td>\n",
       "        <td style=\"padding-left: 1em; padding-right: 1em; text-align: center; vertical-align: top\">2</td>\n",
       "        <td style=\"padding-left: 1em; padding-right: 1em; text-align: center; vertical-align: top\">172</td>\n",
       "        <td style=\"padding-left: 1em; padding-right: 1em; text-align: center; vertical-align: top\">199</td>\n",
       "        <td style=\"padding-left: 1em; padding-right: 1em; text-align: center; vertical-align: top\">1</td>\n",
       "        <td style=\"padding-left: 1em; padding-right: 1em; text-align: center; vertical-align: top\">1</td>\n",
       "        <td style=\"padding-left: 1em; padding-right: 1em; text-align: center; vertical-align: top\">162</td>\n",
       "        <td style=\"padding-left: 1em; padding-right: 1em; text-align: center; vertical-align: top\">0</td>\n",
       "    </tr>\n",
       "    <tr>\n",
       "        <td style=\"padding-left: 1em; padding-right: 1em; text-align: center; vertical-align: top\">57</td>\n",
       "        <td style=\"padding-left: 1em; padding-right: 1em; text-align: center; vertical-align: top\">1</td>\n",
       "        <td style=\"padding-left: 1em; padding-right: 1em; text-align: center; vertical-align: top\">2</td>\n",
       "        <td style=\"padding-left: 1em; padding-right: 1em; text-align: center; vertical-align: top\">150</td>\n",
       "        <td style=\"padding-left: 1em; padding-right: 1em; text-align: center; vertical-align: top\">168</td>\n",
       "        <td style=\"padding-left: 1em; padding-right: 1em; text-align: center; vertical-align: top\">0</td>\n",
       "        <td style=\"padding-left: 1em; padding-right: 1em; text-align: center; vertical-align: top\">1</td>\n",
       "        <td style=\"padding-left: 1em; padding-right: 1em; text-align: center; vertical-align: top\">174</td>\n",
       "        <td style=\"padding-left: 1em; padding-right: 1em; text-align: center; vertical-align: top\">0</td>\n",
       "    </tr>\n",
       "</table>\n",
       "<table frame=\"box\" rules=\"cols\">\n",
       "    <tr>\n",
       "        <th style=\"padding-left: 1em; padding-right: 1em; text-align: center\">oldpeak</th>\n",
       "        <th style=\"padding-left: 1em; padding-right: 1em; text-align: center\">slope</th>\n",
       "        <th style=\"padding-left: 1em; padding-right: 1em; text-align: center\">num_major_vessels</th>\n",
       "        <th style=\"padding-left: 1em; padding-right: 1em; text-align: center\">thal</th>\n",
       "        <th style=\"padding-left: 1em; padding-right: 1em; text-align: center\">target</th>\n",
       "    </tr>\n",
       "    <tr>\n",
       "        <td style=\"padding-left: 1em; padding-right: 1em; text-align: center; vertical-align: top\">2.3</td>\n",
       "        <td style=\"padding-left: 1em; padding-right: 1em; text-align: center; vertical-align: top\">0</td>\n",
       "        <td style=\"padding-left: 1em; padding-right: 1em; text-align: center; vertical-align: top\">0</td>\n",
       "        <td style=\"padding-left: 1em; padding-right: 1em; text-align: center; vertical-align: top\">1</td>\n",
       "        <td style=\"padding-left: 1em; padding-right: 1em; text-align: center; vertical-align: top\">1</td>\n",
       "    </tr>\n",
       "    <tr>\n",
       "        <td style=\"padding-left: 1em; padding-right: 1em; text-align: center; vertical-align: top\">3.5</td>\n",
       "        <td style=\"padding-left: 1em; padding-right: 1em; text-align: center; vertical-align: top\">0</td>\n",
       "        <td style=\"padding-left: 1em; padding-right: 1em; text-align: center; vertical-align: top\">0</td>\n",
       "        <td style=\"padding-left: 1em; padding-right: 1em; text-align: center; vertical-align: top\">2</td>\n",
       "        <td style=\"padding-left: 1em; padding-right: 1em; text-align: center; vertical-align: top\">1</td>\n",
       "    </tr>\n",
       "    <tr>\n",
       "        <td style=\"padding-left: 1em; padding-right: 1em; text-align: center; vertical-align: top\">1.4</td>\n",
       "        <td style=\"padding-left: 1em; padding-right: 1em; text-align: center; vertical-align: top\">2</td>\n",
       "        <td style=\"padding-left: 1em; padding-right: 1em; text-align: center; vertical-align: top\">0</td>\n",
       "        <td style=\"padding-left: 1em; padding-right: 1em; text-align: center; vertical-align: top\">2</td>\n",
       "        <td style=\"padding-left: 1em; padding-right: 1em; text-align: center; vertical-align: top\">1</td>\n",
       "    </tr>\n",
       "    <tr>\n",
       "        <td style=\"padding-left: 1em; padding-right: 1em; text-align: center; vertical-align: top\">0.8</td>\n",
       "        <td style=\"padding-left: 1em; padding-right: 1em; text-align: center; vertical-align: top\">2</td>\n",
       "        <td style=\"padding-left: 1em; padding-right: 1em; text-align: center; vertical-align: top\">0</td>\n",
       "        <td style=\"padding-left: 1em; padding-right: 1em; text-align: center; vertical-align: top\">2</td>\n",
       "        <td style=\"padding-left: 1em; padding-right: 1em; text-align: center; vertical-align: top\">1</td>\n",
       "    </tr>\n",
       "    <tr>\n",
       "        <td style=\"padding-left: 1em; padding-right: 1em; text-align: center; vertical-align: top\">0.6</td>\n",
       "        <td style=\"padding-left: 1em; padding-right: 1em; text-align: center; vertical-align: top\">2</td>\n",
       "        <td style=\"padding-left: 1em; padding-right: 1em; text-align: center; vertical-align: top\">0</td>\n",
       "        <td style=\"padding-left: 1em; padding-right: 1em; text-align: center; vertical-align: top\">2</td>\n",
       "        <td style=\"padding-left: 1em; padding-right: 1em; text-align: center; vertical-align: top\">1</td>\n",
       "    </tr>\n",
       "    <tr>\n",
       "        <td style=\"padding-left: 1em; padding-right: 1em; text-align: center; vertical-align: top\">0.4</td>\n",
       "        <td style=\"padding-left: 1em; padding-right: 1em; text-align: center; vertical-align: top\">1</td>\n",
       "        <td style=\"padding-left: 1em; padding-right: 1em; text-align: center; vertical-align: top\">0</td>\n",
       "        <td style=\"padding-left: 1em; padding-right: 1em; text-align: center; vertical-align: top\">1</td>\n",
       "        <td style=\"padding-left: 1em; padding-right: 1em; text-align: center; vertical-align: top\">1</td>\n",
       "    </tr>\n",
       "    <tr>\n",
       "        <td style=\"padding-left: 1em; padding-right: 1em; text-align: center; vertical-align: top\">1.3</td>\n",
       "        <td style=\"padding-left: 1em; padding-right: 1em; text-align: center; vertical-align: top\">1</td>\n",
       "        <td style=\"padding-left: 1em; padding-right: 1em; text-align: center; vertical-align: top\">0</td>\n",
       "        <td style=\"padding-left: 1em; padding-right: 1em; text-align: center; vertical-align: top\">2</td>\n",
       "        <td style=\"padding-left: 1em; padding-right: 1em; text-align: center; vertical-align: top\">1</td>\n",
       "    </tr>\n",
       "    <tr>\n",
       "        <td style=\"padding-left: 1em; padding-right: 1em; text-align: center; vertical-align: top\">0.0</td>\n",
       "        <td style=\"padding-left: 1em; padding-right: 1em; text-align: center; vertical-align: top\">2</td>\n",
       "        <td style=\"padding-left: 1em; padding-right: 1em; text-align: center; vertical-align: top\">0</td>\n",
       "        <td style=\"padding-left: 1em; padding-right: 1em; text-align: center; vertical-align: top\">3</td>\n",
       "        <td style=\"padding-left: 1em; padding-right: 1em; text-align: center; vertical-align: top\">1</td>\n",
       "    </tr>\n",
       "    <tr>\n",
       "        <td style=\"padding-left: 1em; padding-right: 1em; text-align: center; vertical-align: top\">0.5</td>\n",
       "        <td style=\"padding-left: 1em; padding-right: 1em; text-align: center; vertical-align: top\">2</td>\n",
       "        <td style=\"padding-left: 1em; padding-right: 1em; text-align: center; vertical-align: top\">0</td>\n",
       "        <td style=\"padding-left: 1em; padding-right: 1em; text-align: center; vertical-align: top\">3</td>\n",
       "        <td style=\"padding-left: 1em; padding-right: 1em; text-align: center; vertical-align: top\">1</td>\n",
       "    </tr>\n",
       "    <tr>\n",
       "        <td style=\"padding-left: 1em; padding-right: 1em; text-align: center; vertical-align: top\">1.6</td>\n",
       "        <td style=\"padding-left: 1em; padding-right: 1em; text-align: center; vertical-align: top\">2</td>\n",
       "        <td style=\"padding-left: 1em; padding-right: 1em; text-align: center; vertical-align: top\">0</td>\n",
       "        <td style=\"padding-left: 1em; padding-right: 1em; text-align: center; vertical-align: top\">2</td>\n",
       "        <td style=\"padding-left: 1em; padding-right: 1em; text-align: center; vertical-align: top\">1</td>\n",
       "    </tr>\n",
       "</table>\n",
       "[303 rows x 14 columns]<br/>Note: Only the head of the SFrame is printed.<br/>You can use print_rows(num_rows=m, num_columns=n) to print more rows and columns.\n",
       "</div>"
      ],
      "text/plain": [
       "Columns:\n",
       "\t﻿age\tint\n",
       "\tsex\tint\n",
       "\tchest pain type\tint\n",
       "\ttrestbps\tint\n",
       "\tchol\tint\n",
       "\tfasting blood sugar\tint\n",
       "\trestecg\tint\n",
       "\tthalach\tint\n",
       "\texercise induced agina\tint\n",
       "\toldpeak\tfloat\n",
       "\tslope\tint\n",
       "\tnum_major_vessels\tint\n",
       "\tthal\tint\n",
       "\ttarget\tint\n",
       "\n",
       "Rows: 303\n",
       "\n",
       "Data:\n",
       "+------+-----+-----------------+----------+------+---------------------+---------+\n",
       "| ﻿age | sex | chest pain type | trestbps | chol | fasting blood sugar | restecg |\n",
       "+------+-----+-----------------+----------+------+---------------------+---------+\n",
       "|  63  |  1  |        3        |   145    | 233  |          1          |    0    |\n",
       "|  37  |  1  |        2        |   130    | 250  |          0          |    1    |\n",
       "|  41  |  0  |        1        |   130    | 204  |          0          |    0    |\n",
       "|  56  |  1  |        1        |   120    | 236  |          0          |    1    |\n",
       "|  57  |  0  |        0        |   120    | 354  |          0          |    1    |\n",
       "|  57  |  1  |        0        |   140    | 192  |          0          |    1    |\n",
       "|  56  |  0  |        1        |   140    | 294  |          0          |    0    |\n",
       "|  44  |  1  |        1        |   120    | 263  |          0          |    1    |\n",
       "|  52  |  1  |        2        |   172    | 199  |          1          |    1    |\n",
       "|  57  |  1  |        2        |   150    | 168  |          0          |    1    |\n",
       "+------+-----+-----------------+----------+------+---------------------+---------+\n",
       "+---------+------------------------+---------+-------+-------------------+------+\n",
       "| thalach | exercise induced agina | oldpeak | slope | num_major_vessels | thal |\n",
       "+---------+------------------------+---------+-------+-------------------+------+\n",
       "|   150   |           0            |   2.3   |   0   |         0         |  1   |\n",
       "|   187   |           0            |   3.5   |   0   |         0         |  2   |\n",
       "|   172   |           0            |   1.4   |   2   |         0         |  2   |\n",
       "|   178   |           0            |   0.8   |   2   |         0         |  2   |\n",
       "|   163   |           1            |   0.6   |   2   |         0         |  2   |\n",
       "|   148   |           0            |   0.4   |   1   |         0         |  1   |\n",
       "|   153   |           0            |   1.3   |   1   |         0         |  2   |\n",
       "|   173   |           0            |   0.0   |   2   |         0         |  3   |\n",
       "|   162   |           0            |   0.5   |   2   |         0         |  3   |\n",
       "|   174   |           0            |   1.6   |   2   |         0         |  2   |\n",
       "+---------+------------------------+---------+-------+-------------------+------+\n",
       "+--------+\n",
       "| target |\n",
       "+--------+\n",
       "|   1    |\n",
       "|   1    |\n",
       "|   1    |\n",
       "|   1    |\n",
       "|   1    |\n",
       "|   1    |\n",
       "|   1    |\n",
       "|   1    |\n",
       "|   1    |\n",
       "|   1    |\n",
       "+--------+\n",
       "[303 rows x 14 columns]\n",
       "Note: Only the head of the SFrame is printed.\n",
       "You can use print_rows(num_rows=m, num_columns=n) to print more rows and columns."
      ]
     },
     "execution_count": 64,
     "metadata": {},
     "output_type": "execute_result"
    }
   ],
   "source": [
    "ht"
   ]
  },
  {
   "cell_type": "code",
   "execution_count": 66,
   "metadata": {},
   "outputs": [
    {
     "name": "stdout",
     "output_type": "stream",
     "text": [
      "PROGRESS: Creating a validation set from 5 percent of training data. This may take a while.\n",
      "          You can set ``validation_set=None`` to disable validation tracking.\n",
      "\n"
     ]
    },
    {
     "data": {
      "text/html": [
       "<pre>Linear regression:</pre>"
      ],
      "text/plain": [
       "Linear regression:"
      ]
     },
     "metadata": {},
     "output_type": "display_data"
    },
    {
     "data": {
      "text/html": [
       "<pre>--------------------------------------------------------</pre>"
      ],
      "text/plain": [
       "--------------------------------------------------------"
      ]
     },
     "metadata": {},
     "output_type": "display_data"
    },
    {
     "data": {
      "text/html": [
       "<pre>Number of examples          : 242</pre>"
      ],
      "text/plain": [
       "Number of examples          : 242"
      ]
     },
     "metadata": {},
     "output_type": "display_data"
    },
    {
     "data": {
      "text/html": [
       "<pre>Number of features          : 4</pre>"
      ],
      "text/plain": [
       "Number of features          : 4"
      ]
     },
     "metadata": {},
     "output_type": "display_data"
    },
    {
     "data": {
      "text/html": [
       "<pre>Number of unpacked features : 4</pre>"
      ],
      "text/plain": [
       "Number of unpacked features : 4"
      ]
     },
     "metadata": {},
     "output_type": "display_data"
    },
    {
     "data": {
      "text/html": [
       "<pre>Number of coefficients    : 5</pre>"
      ],
      "text/plain": [
       "Number of coefficients    : 5"
      ]
     },
     "metadata": {},
     "output_type": "display_data"
    },
    {
     "data": {
      "text/html": [
       "<pre>Starting Newton Method</pre>"
      ],
      "text/plain": [
       "Starting Newton Method"
      ]
     },
     "metadata": {},
     "output_type": "display_data"
    },
    {
     "data": {
      "text/html": [
       "<pre>--------------------------------------------------------</pre>"
      ],
      "text/plain": [
       "--------------------------------------------------------"
      ]
     },
     "metadata": {},
     "output_type": "display_data"
    },
    {
     "data": {
      "text/html": [
       "<pre>+-----------+----------+--------------+--------------------+----------------------+---------------+-----------------+</pre>"
      ],
      "text/plain": [
       "+-----------+----------+--------------+--------------------+----------------------+---------------+-----------------+"
      ]
     },
     "metadata": {},
     "output_type": "display_data"
    },
    {
     "data": {
      "text/html": [
       "<pre>| Iteration | Passes   | Elapsed Time | Training-max_error | Validation-max_error | Training-rmse | Validation-rmse |</pre>"
      ],
      "text/plain": [
       "| Iteration | Passes   | Elapsed Time | Training-max_error | Validation-max_error | Training-rmse | Validation-rmse |"
      ]
     },
     "metadata": {},
     "output_type": "display_data"
    },
    {
     "data": {
      "text/html": [
       "<pre>+-----------+----------+--------------+--------------------+----------------------+---------------+-----------------+</pre>"
      ],
      "text/plain": [
       "+-----------+----------+--------------+--------------------+----------------------+---------------+-----------------+"
      ]
     },
     "metadata": {},
     "output_type": "display_data"
    },
    {
     "data": {
      "text/html": [
       "<pre>| 1         | 2        | 0.014337     | 0.982756           | 0.593054             | 0.418597      | 0.327552        |</pre>"
      ],
      "text/plain": [
       "| 1         | 2        | 0.014337     | 0.982756           | 0.593054             | 0.418597      | 0.327552        |"
      ]
     },
     "metadata": {},
     "output_type": "display_data"
    },
    {
     "data": {
      "text/html": [
       "<pre>+-----------+----------+--------------+--------------------+----------------------+---------------+-----------------+</pre>"
      ],
      "text/plain": [
       "+-----------+----------+--------------+--------------------+----------------------+---------------+-----------------+"
      ]
     },
     "metadata": {},
     "output_type": "display_data"
    },
    {
     "data": {
      "text/html": [
       "<pre>SUCCESS: Optimal solution found.</pre>"
      ],
      "text/plain": [
       "SUCCESS: Optimal solution found."
      ]
     },
     "metadata": {},
     "output_type": "display_data"
    },
    {
     "data": {
      "text/html": [
       "<pre></pre>"
      ],
      "text/plain": []
     },
     "metadata": {},
     "output_type": "display_data"
    }
   ],
   "source": [
    "model1=graphlab.linear_regression.create(trd,target='target',features=['thal','trestbps','chol','chest pain type'])\n",
    "# linear regression model consisting of the above features to predict the result('target' => heart disease)"
   ]
  },
  {
   "cell_type": "code",
   "execution_count": 67,
   "metadata": {},
   "outputs": [
    {
     "name": "stdout",
     "output_type": "stream",
     "text": [
      "0.48\n"
     ]
    }
   ],
   "source": [
    "print tsd['target'].mean() #mean of the test data set"
   ]
  },
  {
   "cell_type": "code",
   "execution_count": 69,
   "metadata": {},
   "outputs": [],
   "source": [
    "graphlab.canvas.set_target('ipynb')"
   ]
  },
  {
   "cell_type": "code",
   "execution_count": 70,
   "metadata": {},
   "outputs": [
    {
     "data": {
      "application/javascript": [
       "$(\"head\").append($(\"<link/>\").attr({\n",
       "  rel:  \"stylesheet\",\n",
       "  type: \"text/css\",\n",
       "  href: \"//cdnjs.cloudflare.com/ajax/libs/font-awesome/4.1.0/css/font-awesome.min.css\"\n",
       "}));\n",
       "$(\"head\").append($(\"<link/>\").attr({\n",
       "  rel:  \"stylesheet\",\n",
       "  type: \"text/css\",\n",
       "  href: \"https://static.turi.com/products/graphlab-create/2.1/canvas/css/canvas.css\"\n",
       "}));\n",
       "\n",
       "            (function(){\n",
       "\n",
       "                var e = null;\n",
       "                if (typeof element == 'undefined') {\n",
       "                    var scripts = document.getElementsByTagName('script');\n",
       "                    var thisScriptTag = scripts[scripts.length-1];\n",
       "                    var parentDiv = thisScriptTag.parentNode;\n",
       "                    e = document.createElement('div');\n",
       "                    parentDiv.appendChild(e);\n",
       "                } else {\n",
       "                    e = element[0];\n",
       "                }\n",
       "\n",
       "                if (typeof requirejs !== 'undefined') {\n",
       "                    // disable load timeout; ipython_app.js is large and can take a while to load.\n",
       "                    requirejs.config({waitSeconds: 0});\n",
       "                }\n",
       "\n",
       "                require(['https://static.turi.com/products/graphlab-create/2.1/canvas/js/ipython_app.js'], function(IPythonApp){\n",
       "                    var app = new IPythonApp();\n",
       "                    app.attachView('sframe','Summary', {\"ipython\": true, \"sketch\": {\"slope\": {\"std\": 0.6152084301256652, \"complete\": true, \"min\": 0.0, \"max\": 2.0, \"quantile\": [0.0, 0.0, 0.0, 0.0, 0.0, 0.0, 0.0, 1.0, 1.0, 1.0, 1.0, 1.0, 1.0, 1.0, 1.0, 1.0, 1.0, 1.0, 1.0, 1.0, 1.0, 1.0, 1.0, 1.0, 1.0, 1.0, 1.0, 1.0, 1.0, 1.0, 1.0, 1.0, 1.0, 1.0, 1.0, 1.0, 1.0, 1.0, 1.0, 1.0, 1.0, 1.0, 1.0, 1.0, 1.0, 1.0, 1.0, 1.0, 1.0, 1.0, 1.0, 1.0, 1.0, 1.0, 2.0, 2.0, 2.0, 2.0, 2.0, 2.0, 2.0, 2.0, 2.0, 2.0, 2.0, 2.0, 2.0, 2.0, 2.0, 2.0, 2.0, 2.0, 2.0, 2.0, 2.0, 2.0, 2.0, 2.0, 2.0, 2.0, 2.0, 2.0, 2.0, 2.0, 2.0, 2.0, 2.0, 2.0, 2.0, 2.0, 2.0, 2.0, 2.0, 2.0, 2.0, 2.0, 2.0, 2.0, 2.0, 2.0, 2.0], \"median\": 1.0, \"numeric\": true, \"num_unique\": 3, \"num_undefined\": 0, \"var\": 0.37848141249768547, \"progress\": 1.0, \"size\": 303, \"frequent_items\": {\"0\": {\"frequency\": 21, \"value\": 0}, \"1\": {\"frequency\": 140, \"value\": 1}, \"2\": {\"frequency\": 142, \"value\": 2}}, \"mean\": 1.3993399339933994}, \"trestbps\": {\"std\": 17.5091780657344, \"complete\": true, \"min\": 94.0, \"max\": 200.0, \"quantile\": [94.0, 100.0, 101.0, 104.0, 105.0, 108.0, 108.0, 110.0, 110.0, 110.0, 110.0, 110.0, 110.0, 112.0, 112.0, 112.0, 114.0, 115.0, 118.0, 118.0, 120.0, 120.0, 120.0, 120.0, 120.0, 120.0, 120.0, 120.0, 120.0, 120.0, 120.0, 120.0, 120.0, 122.0, 124.0, 124.0, 125.0, 125.0, 125.0, 125.0, 126.0, 128.0, 128.0, 128.0, 128.0, 130.0, 130.0, 130.0, 130.0, 130.0, 130.0, 130.0, 130.0, 130.0, 130.0, 130.0, 130.0, 132.0, 132.0, 132.0, 134.0, 135.0, 135.0, 136.0, 138.0, 138.0, 138.0, 138.0, 140.0, 140.0, 140.0, 140.0, 140.0, 140.0, 140.0, 140.0, 140.0, 140.0, 140.0, 142.0, 144.0, 145.0, 146.0, 148.0, 150.0, 150.0, 150.0, 150.0, 150.0, 152.0, 152.0, 155.0, 160.0, 160.0, 160.0, 160.0, 170.0, 170.0, 178.0, 180.0, 200.0], \"median\": 130.0, \"numeric\": true, \"num_unique\": 49, \"num_undefined\": 0, \"var\": 306.57131653759456, \"progress\": 1.0, \"size\": 303, \"frequent_items\": {\"128\": {\"frequency\": 12, \"value\": 128}, \"129\": {\"frequency\": 1, \"value\": 129}, \"130\": {\"frequency\": 36, \"value\": 130}, \"132\": {\"frequency\": 8, \"value\": 132}, \"134\": {\"frequency\": 5, \"value\": 134}, \"135\": {\"frequency\": 6, \"value\": 135}, \"136\": {\"frequency\": 3, \"value\": 136}, \"138\": {\"frequency\": 13, \"value\": 138}, \"140\": {\"frequency\": 32, \"value\": 140}, \"142\": {\"frequency\": 3, \"value\": 142}, \"144\": {\"frequency\": 2, \"value\": 144}, \"145\": {\"frequency\": 5, \"value\": 145}, \"146\": {\"frequency\": 2, \"value\": 146}, \"148\": {\"frequency\": 2, \"value\": 148}, \"150\": {\"frequency\": 17, \"value\": 150}, \"152\": {\"frequency\": 5, \"value\": 152}, \"154\": {\"frequency\": 1, \"value\": 154}, \"155\": {\"frequency\": 1, \"value\": 155}, \"156\": {\"frequency\": 1, \"value\": 156}, \"160\": {\"frequency\": 11, \"value\": 160}, \"164\": {\"frequency\": 1, \"value\": 164}, \"165\": {\"frequency\": 1, \"value\": 165}, \"170\": {\"frequency\": 4, \"value\": 170}, \"172\": {\"frequency\": 1, \"value\": 172}, \"174\": {\"frequency\": 1, \"value\": 174}, \"178\": {\"frequency\": 2, \"value\": 178}, \"180\": {\"frequency\": 3, \"value\": 180}, \"192\": {\"frequency\": 1, \"value\": 192}, \"200\": {\"frequency\": 1, \"value\": 200}, \"94\": {\"frequency\": 2, \"value\": 94}, \"100\": {\"frequency\": 4, \"value\": 100}, \"101\": {\"frequency\": 1, \"value\": 101}, \"102\": {\"frequency\": 2, \"value\": 102}, \"104\": {\"frequency\": 1, \"value\": 104}, \"105\": {\"frequency\": 3, \"value\": 105}, \"106\": {\"frequency\": 1, \"value\": 106}, \"108\": {\"frequency\": 6, \"value\": 108}, \"110\": {\"frequency\": 19, \"value\": 110}, \"112\": {\"frequency\": 9, \"value\": 112}, \"114\": {\"frequency\": 1, \"value\": 114}, \"115\": {\"frequency\": 3, \"value\": 115}, \"117\": {\"frequency\": 1, \"value\": 117}, \"118\": {\"frequency\": 7, \"value\": 118}, \"120\": {\"frequency\": 37, \"value\": 120}, \"122\": {\"frequency\": 4, \"value\": 122}, \"123\": {\"frequency\": 1, \"value\": 123}, \"124\": {\"frequency\": 6, \"value\": 124}, \"125\": {\"frequency\": 11, \"value\": 125}, \"126\": {\"frequency\": 3, \"value\": 126}}, \"mean\": 131.6237623762376}, \"chest pain type\": {\"std\": 1.0303480250839463, \"complete\": true, \"min\": 0.0, \"max\": 3.0, \"quantile\": [0.0, 0.0, 0.0, 0.0, 0.0, 0.0, 0.0, 0.0, 0.0, 0.0, 0.0, 0.0, 0.0, 0.0, 0.0, 0.0, 0.0, 0.0, 0.0, 0.0, 0.0, 0.0, 0.0, 0.0, 0.0, 0.0, 0.0, 0.0, 0.0, 0.0, 0.0, 0.0, 0.0, 0.0, 0.0, 0.0, 0.0, 0.0, 0.0, 0.0, 0.0, 0.0, 0.0, 0.0, 0.0, 0.0, 0.0, 0.0, 1.0, 1.0, 1.0, 1.0, 1.0, 1.0, 1.0, 1.0, 1.0, 1.0, 1.0, 1.0, 1.0, 1.0, 1.0, 1.0, 2.0, 2.0, 2.0, 2.0, 2.0, 2.0, 2.0, 2.0, 2.0, 2.0, 2.0, 2.0, 2.0, 2.0, 2.0, 2.0, 2.0, 2.0, 2.0, 2.0, 2.0, 2.0, 2.0, 2.0, 2.0, 2.0, 2.0, 2.0, 2.0, 3.0, 3.0, 3.0, 3.0, 3.0, 3.0, 3.0, 3.0], \"median\": 1.0, \"numeric\": true, \"num_unique\": 4, \"num_undefined\": 0, \"var\": 1.0616170527943882, \"progress\": 1.0, \"size\": 303, \"frequent_items\": {\"0\": {\"frequency\": 143, \"value\": 0}, \"1\": {\"frequency\": 50, \"value\": 1}, \"2\": {\"frequency\": 87, \"value\": 2}, \"3\": {\"frequency\": 23, \"value\": 3}}, \"mean\": 0.9669966996699668}, \"target\": {\"std\": 0.49801094415680364, \"complete\": true, \"min\": 0.0, \"max\": 1.0, \"quantile\": [0.0, 0.0, 0.0, 0.0, 0.0, 0.0, 0.0, 0.0, 0.0, 0.0, 0.0, 0.0, 0.0, 0.0, 0.0, 0.0, 0.0, 0.0, 0.0, 0.0, 0.0, 0.0, 0.0, 0.0, 0.0, 0.0, 0.0, 0.0, 0.0, 0.0, 0.0, 0.0, 0.0, 0.0, 0.0, 0.0, 0.0, 0.0, 0.0, 0.0, 0.0, 0.0, 0.0, 0.0, 0.0, 0.0, 1.0, 1.0, 1.0, 1.0, 1.0, 1.0, 1.0, 1.0, 1.0, 1.0, 1.0, 1.0, 1.0, 1.0, 1.0, 1.0, 1.0, 1.0, 1.0, 1.0, 1.0, 1.0, 1.0, 1.0, 1.0, 1.0, 1.0, 1.0, 1.0, 1.0, 1.0, 1.0, 1.0, 1.0, 1.0, 1.0, 1.0, 1.0, 1.0, 1.0, 1.0, 1.0, 1.0, 1.0, 1.0, 1.0, 1.0, 1.0, 1.0, 1.0, 1.0, 1.0, 1.0, 1.0, 1.0], \"median\": 1.0, \"numeric\": true, \"num_unique\": 2, \"num_undefined\": 0, \"var\": 0.24801490049995098, \"progress\": 1.0, \"size\": 303, \"frequent_items\": {\"0\": {\"frequency\": 138, \"value\": 0}, \"1\": {\"frequency\": 165, \"value\": 1}}, \"mean\": 0.5445544554455445}, \"chol\": {\"std\": 51.74515101045714, \"complete\": true, \"min\": 126.0, \"max\": 564.0, \"quantile\": [126.0, 149.0, 160.0, 167.0, 172.0, 175.0, 177.0, 177.0, 182.0, 185.0, 188.0, 192.0, 195.0, 197.0, 197.0, 198.0, 199.0, 201.0, 203.0, 204.0, 204.0, 205.0, 206.0, 208.0, 209.0, 211.0, 212.0, 212.0, 213.0, 215.0, 217.0, 219.0, 220.0, 221.0, 223.0, 224.0, 226.0, 226.0, 228.0, 229.0, 230.0, 231.0, 232.0, 233.0, 234.0, 234.0, 235.0, 236.0, 239.0, 240.0, 240.0, 243.0, 243.0, 244.0, 245.0, 246.0, 248.0, 249.0, 250.0, 253.0, 254.0, 254.0, 256.0, 257.0, 258.0, 260.0, 262.0, 264.0, 265.0, 267.0, 268.0, 269.0, 270.0, 271.0, 274.0, 275.0, 277.0, 281.0, 282.0, 283.0, 286.0, 288.0, 289.0, 294.0, 295.0, 299.0, 302.0, 303.0, 304.0, 307.0, 309.0, 311.0, 315.0, 319.0, 325.0, 327.0, 335.0, 341.0, 354.0, 407.0, 564.0], \"median\": 240.0, \"numeric\": true, \"num_unique\": 152, \"num_undefined\": 0, \"var\": 2677.560653095014, \"progress\": 1.0, \"size\": 303, \"frequent_items\": {\"564\": {\"frequency\": 1, \"value\": 564}, \"126\": {\"frequency\": 1, \"value\": 126}, \"131\": {\"frequency\": 1, \"value\": 131}, \"141\": {\"frequency\": 1, \"value\": 141}, \"149\": {\"frequency\": 2, \"value\": 149}, \"157\": {\"frequency\": 1, \"value\": 157}, \"160\": {\"frequency\": 1, \"value\": 160}, \"164\": {\"frequency\": 1, \"value\": 164}, \"166\": {\"frequency\": 1, \"value\": 166}, \"167\": {\"frequency\": 1, \"value\": 167}, \"168\": {\"frequency\": 1, \"value\": 168}, \"169\": {\"frequency\": 1, \"value\": 169}, \"172\": {\"frequency\": 1, \"value\": 172}, \"174\": {\"frequency\": 1, \"value\": 174}, \"175\": {\"frequency\": 3, \"value\": 175}, \"176\": {\"frequency\": 1, \"value\": 176}, \"177\": {\"frequency\": 4, \"value\": 177}, \"178\": {\"frequency\": 1, \"value\": 178}, \"180\": {\"frequency\": 1, \"value\": 180}, \"182\": {\"frequency\": 1, \"value\": 182}, \"183\": {\"frequency\": 1, \"value\": 183}, \"184\": {\"frequency\": 1, \"value\": 184}, \"185\": {\"frequency\": 1, \"value\": 185}, \"186\": {\"frequency\": 1, \"value\": 186}, \"187\": {\"frequency\": 1, \"value\": 187}, \"188\": {\"frequency\": 2, \"value\": 188}, \"192\": {\"frequency\": 2, \"value\": 192}, \"193\": {\"frequency\": 2, \"value\": 193}, \"195\": {\"frequency\": 1, \"value\": 195}, \"196\": {\"frequency\": 2, \"value\": 196}, \"197\": {\"frequency\": 6, \"value\": 197}, \"198\": {\"frequency\": 2, \"value\": 198}, \"199\": {\"frequency\": 3, \"value\": 199}, \"200\": {\"frequency\": 1, \"value\": 200}, \"201\": {\"frequency\": 3, \"value\": 201}, \"203\": {\"frequency\": 3, \"value\": 203}, \"204\": {\"frequency\": 6, \"value\": 204}, \"205\": {\"frequency\": 2, \"value\": 205}, \"206\": {\"frequency\": 2, \"value\": 206}, \"207\": {\"frequency\": 2, \"value\": 207}, \"208\": {\"frequency\": 2, \"value\": 208}, \"209\": {\"frequency\": 2, \"value\": 209}, \"210\": {\"frequency\": 1, \"value\": 210}, \"211\": {\"frequency\": 4, \"value\": 211}, \"212\": {\"frequency\": 5, \"value\": 212}, \"213\": {\"frequency\": 2, \"value\": 213}, \"214\": {\"frequency\": 2, \"value\": 214}, \"215\": {\"frequency\": 1, \"value\": 215}, \"216\": {\"frequency\": 2, \"value\": 216}, \"217\": {\"frequency\": 1, \"value\": 217}, \"218\": {\"frequency\": 2, \"value\": 218}, \"219\": {\"frequency\": 3, \"value\": 219}, \"220\": {\"frequency\": 3, \"value\": 220}, \"221\": {\"frequency\": 2, \"value\": 221}, \"222\": {\"frequency\": 2, \"value\": 222}, \"223\": {\"frequency\": 3, \"value\": 223}, \"224\": {\"frequency\": 1, \"value\": 224}, \"225\": {\"frequency\": 2, \"value\": 225}, \"226\": {\"frequency\": 4, \"value\": 226}, \"227\": {\"frequency\": 2, \"value\": 227}, \"228\": {\"frequency\": 2, \"value\": 228}, \"229\": {\"frequency\": 3, \"value\": 229}, \"230\": {\"frequency\": 3, \"value\": 230}, \"231\": {\"frequency\": 3, \"value\": 231}, \"232\": {\"frequency\": 2, \"value\": 232}, \"233\": {\"frequency\": 4, \"value\": 233}, \"234\": {\"frequency\": 6, \"value\": 234}, \"235\": {\"frequency\": 2, \"value\": 235}, \"236\": {\"frequency\": 3, \"value\": 236}, \"237\": {\"frequency\": 1, \"value\": 237}, \"239\": {\"frequency\": 4, \"value\": 239}, \"240\": {\"frequency\": 4, \"value\": 240}, \"241\": {\"frequency\": 1, \"value\": 241}, \"242\": {\"frequency\": 1, \"value\": 242}, \"243\": {\"frequency\": 4, \"value\": 243}, \"244\": {\"frequency\": 3, \"value\": 244}, \"245\": {\"frequency\": 3, \"value\": 245}, \"246\": {\"frequency\": 3, \"value\": 246}, \"247\": {\"frequency\": 2, \"value\": 247}, \"248\": {\"frequency\": 2, \"value\": 248}, \"249\": {\"frequency\": 3, \"value\": 249}, \"250\": {\"frequency\": 3, \"value\": 250}, \"252\": {\"frequency\": 1, \"value\": 252}, \"253\": {\"frequency\": 2, \"value\": 253}, \"254\": {\"frequency\": 5, \"value\": 254}, \"255\": {\"frequency\": 2, \"value\": 255}, \"256\": {\"frequency\": 3, \"value\": 256}, \"257\": {\"frequency\": 1, \"value\": 257}, \"258\": {\"frequency\": 3, \"value\": 258}, \"259\": {\"frequency\": 1, \"value\": 259}, \"260\": {\"frequency\": 2, \"value\": 260}, \"261\": {\"frequency\": 2, \"value\": 261}, \"262\": {\"frequency\": 1, \"value\": 262}, \"263\": {\"frequency\": 3, \"value\": 263}, \"264\": {\"frequency\": 2, \"value\": 264}, \"265\": {\"frequency\": 2, \"value\": 265}, \"266\": {\"frequency\": 2, \"value\": 266}, \"267\": {\"frequency\": 2, \"value\": 267}, \"268\": {\"frequency\": 2, \"value\": 268}, \"269\": {\"frequency\": 5, \"value\": 269}, \"270\": {\"frequency\": 2, \"value\": 270}, \"271\": {\"frequency\": 2, \"value\": 271}, \"273\": {\"frequency\": 2, \"value\": 273}, \"274\": {\"frequency\": 3, \"value\": 274}, \"275\": {\"frequency\": 2, \"value\": 275}, \"276\": {\"frequency\": 1, \"value\": 276}, \"277\": {\"frequency\": 2, \"value\": 277}, \"278\": {\"frequency\": 1, \"value\": 278}, \"281\": {\"frequency\": 1, \"value\": 281}, \"282\": {\"frequency\": 4, \"value\": 282}, \"283\": {\"frequency\": 3, \"value\": 283}, \"284\": {\"frequency\": 1, \"value\": 284}, \"286\": {\"frequency\": 2, \"value\": 286}, \"288\": {\"frequency\": 3, \"value\": 288}, \"289\": {\"frequency\": 2, \"value\": 289}, \"290\": {\"frequency\": 1, \"value\": 290}, \"293\": {\"frequency\": 1, \"value\": 293}, \"294\": {\"frequency\": 2, \"value\": 294}, \"295\": {\"frequency\": 2, \"value\": 295}, \"298\": {\"frequency\": 2, \"value\": 298}, \"299\": {\"frequency\": 2, \"value\": 299}, \"300\": {\"frequency\": 1, \"value\": 300}, \"302\": {\"frequency\": 2, \"value\": 302}, \"303\": {\"frequency\": 3, \"value\": 303}, \"304\": {\"frequency\": 2, \"value\": 304}, \"305\": {\"frequency\": 1, \"value\": 305}, \"306\": {\"frequency\": 1, \"value\": 306}, \"307\": {\"frequency\": 1, \"value\": 307}, \"308\": {\"frequency\": 2, \"value\": 308}, \"309\": {\"frequency\": 3, \"value\": 309}, \"311\": {\"frequency\": 1, \"value\": 311}, \"313\": {\"frequency\": 1, \"value\": 313}, \"315\": {\"frequency\": 2, \"value\": 315}, \"318\": {\"frequency\": 2, \"value\": 318}, \"319\": {\"frequency\": 1, \"value\": 319}, \"321\": {\"frequency\": 1, \"value\": 321}, \"322\": {\"frequency\": 1, \"value\": 322}, \"325\": {\"frequency\": 2, \"value\": 325}, \"326\": {\"frequency\": 1, \"value\": 326}, \"327\": {\"frequency\": 1, \"value\": 327}, \"330\": {\"frequency\": 2, \"value\": 330}, \"335\": {\"frequency\": 2, \"value\": 335}, \"340\": {\"frequency\": 1, \"value\": 340}, \"341\": {\"frequency\": 1, \"value\": 341}, \"342\": {\"frequency\": 1, \"value\": 342}, \"353\": {\"frequency\": 1, \"value\": 353}, \"354\": {\"frequency\": 1, \"value\": 354}, \"360\": {\"frequency\": 1, \"value\": 360}, \"394\": {\"frequency\": 1, \"value\": 394}, \"407\": {\"frequency\": 1, \"value\": 407}, \"409\": {\"frequency\": 1, \"value\": 409}, \"417\": {\"frequency\": 1, \"value\": 417}}, \"mean\": 246.26402640264027}, \"\\ufeffage\": {\"std\": 9.067101638577872, \"complete\": true, \"min\": 29.0, \"max\": 77.0, \"quantile\": [29.0, 35.0, 35.0, 38.0, 39.0, 39.0, 40.0, 41.0, 41.0, 41.0, 42.0, 42.0, 42.0, 43.0, 43.0, 44.0, 44.0, 44.0, 44.0, 45.0, 45.0, 45.0, 46.0, 46.0, 47.0, 47.0, 48.0, 48.0, 49.0, 49.0, 50.0, 50.0, 51.0, 51.0, 51.0, 51.0, 52.0, 52.0, 52.0, 52.0, 53.0, 53.0, 53.0, 54.0, 54.0, 54.0, 54.0, 54.0, 55.0, 55.0, 55.0, 56.0, 56.0, 56.0, 57.0, 57.0, 57.0, 57.0, 57.0, 57.0, 58.0, 58.0, 58.0, 58.0, 58.0, 58.0, 59.0, 59.0, 59.0, 59.0, 59.0, 60.0, 60.0, 60.0, 61.0, 61.0, 61.0, 62.0, 62.0, 62.0, 62.0, 63.0, 63.0, 63.0, 64.0, 64.0, 64.0, 65.0, 65.0, 65.0, 66.0, 66.0, 67.0, 67.0, 67.0, 68.0, 69.0, 70.0, 70.0, 71.0, 77.0], \"median\": 55.0, \"numeric\": true, \"num_unique\": 41, \"num_undefined\": 0, \"var\": 82.21233212430154, \"progress\": 1.0, \"size\": 303, \"frequent_items\": {\"29\": {\"frequency\": 1, \"value\": 29}, \"34\": {\"frequency\": 2, \"value\": 34}, \"35\": {\"frequency\": 4, \"value\": 35}, \"37\": {\"frequency\": 2, \"value\": 37}, \"38\": {\"frequency\": 3, \"value\": 38}, \"39\": {\"frequency\": 4, \"value\": 39}, \"40\": {\"frequency\": 3, \"value\": 40}, \"41\": {\"frequency\": 10, \"value\": 41}, \"42\": {\"frequency\": 8, \"value\": 42}, \"43\": {\"frequency\": 8, \"value\": 43}, \"44\": {\"frequency\": 11, \"value\": 44}, \"45\": {\"frequency\": 8, \"value\": 45}, \"46\": {\"frequency\": 7, \"value\": 46}, \"47\": {\"frequency\": 5, \"value\": 47}, \"48\": {\"frequency\": 7, \"value\": 48}, \"49\": {\"frequency\": 5, \"value\": 49}, \"50\": {\"frequency\": 7, \"value\": 50}, \"51\": {\"frequency\": 12, \"value\": 51}, \"52\": {\"frequency\": 13, \"value\": 52}, \"53\": {\"frequency\": 8, \"value\": 53}, \"54\": {\"frequency\": 16, \"value\": 54}, \"55\": {\"frequency\": 8, \"value\": 55}, \"56\": {\"frequency\": 11, \"value\": 56}, \"57\": {\"frequency\": 17, \"value\": 57}, \"58\": {\"frequency\": 19, \"value\": 58}, \"59\": {\"frequency\": 14, \"value\": 59}, \"60\": {\"frequency\": 11, \"value\": 60}, \"61\": {\"frequency\": 8, \"value\": 61}, \"62\": {\"frequency\": 11, \"value\": 62}, \"63\": {\"frequency\": 9, \"value\": 63}, \"64\": {\"frequency\": 10, \"value\": 64}, \"65\": {\"frequency\": 8, \"value\": 65}, \"66\": {\"frequency\": 7, \"value\": 66}, \"67\": {\"frequency\": 9, \"value\": 67}, \"68\": {\"frequency\": 4, \"value\": 68}, \"69\": {\"frequency\": 3, \"value\": 69}, \"70\": {\"frequency\": 4, \"value\": 70}, \"71\": {\"frequency\": 3, \"value\": 71}, \"74\": {\"frequency\": 1, \"value\": 74}, \"76\": {\"frequency\": 1, \"value\": 76}, \"77\": {\"frequency\": 1, \"value\": 77}}, \"mean\": 54.36633663366335}, \"sex\": {\"std\": 0.46524119304834577, \"complete\": true, \"min\": 0.0, \"max\": 1.0, \"quantile\": [0.0, 0.0, 0.0, 0.0, 0.0, 0.0, 0.0, 0.0, 0.0, 0.0, 0.0, 0.0, 0.0, 0.0, 0.0, 0.0, 0.0, 0.0, 0.0, 0.0, 0.0, 0.0, 0.0, 0.0, 0.0, 0.0, 0.0, 0.0, 0.0, 0.0, 0.0, 0.0, 1.0, 1.0, 1.0, 1.0, 1.0, 1.0, 1.0, 1.0, 1.0, 1.0, 1.0, 1.0, 1.0, 1.0, 1.0, 1.0, 1.0, 1.0, 1.0, 1.0, 1.0, 1.0, 1.0, 1.0, 1.0, 1.0, 1.0, 1.0, 1.0, 1.0, 1.0, 1.0, 1.0, 1.0, 1.0, 1.0, 1.0, 1.0, 1.0, 1.0, 1.0, 1.0, 1.0, 1.0, 1.0, 1.0, 1.0, 1.0, 1.0, 1.0, 1.0, 1.0, 1.0, 1.0, 1.0, 1.0, 1.0, 1.0, 1.0, 1.0, 1.0, 1.0, 1.0, 1.0, 1.0, 1.0, 1.0, 1.0, 1.0], \"median\": 1.0, \"numeric\": true, \"num_unique\": 2, \"num_undefined\": 0, \"var\": 0.21644936770904813, \"progress\": 1.0, \"size\": 303, \"frequent_items\": {\"0\": {\"frequency\": 96, \"value\": 0}, \"1\": {\"frequency\": 207, \"value\": 1}}, \"mean\": 0.6831683168316832}, \"oldpeak\": {\"std\": 1.1591574732421364, \"complete\": true, \"min\": 0.0, \"max\": 6.2, \"quantile\": [0.0, 0.0, 0.0, 0.0, 0.0, 0.0, 0.0, 0.0, 0.0, 0.0, 0.0, 0.0, 0.0, 0.0, 0.0, 0.0, 0.0, 0.0, 0.0, 0.0, 0.0, 0.0, 0.0, 0.0, 0.0, 0.0, 0.0, 0.0, 0.0, 0.0, 0.0, 0.0, 0.0, 0.1, 0.1, 0.2, 0.2, 0.2, 0.2, 0.3, 0.4, 0.4, 0.4, 0.5, 0.5, 0.6, 0.6, 0.6, 0.6, 0.6, 0.8, 0.8, 0.8, 0.8, 0.9, 1.0, 1.0, 1.0, 1.0, 1.0, 1.1, 1.2, 1.2, 1.2, 1.2, 1.2, 1.3, 1.4, 1.4, 1.4, 1.4, 1.5, 1.6, 1.6, 1.6, 1.6, 1.8, 1.8, 1.8, 1.9, 1.9, 2.0, 2.0, 2.0, 2.2, 2.2, 2.4, 2.5, 2.6, 2.6, 2.8, 2.8, 3.0, 3.0, 3.2, 3.4, 3.6, 3.6, 4.0, 4.2, 6.2], \"median\": 0.8, \"numeric\": true, \"num_unique\": 40, \"num_undefined\": 0, \"var\": 1.3436460477730943, \"progress\": 1.0, \"size\": 303, \"frequent_items\": {\"3.5\": {\"frequency\": 1, \"value\": 3.5}, \"0.0\": {\"frequency\": 99, \"value\": 0.0}, \"2.0\": {\"frequency\": 9, \"value\": 2.0}, \"3.0\": {\"frequency\": 5, \"value\": 3.0}, \"3.4\": {\"frequency\": 3, \"value\": 3.4}, \"1.5\": {\"frequency\": 5, \"value\": 1.5}, \"1.0\": {\"frequency\": 14, \"value\": 1.0}, \"1.6\": {\"frequency\": 11, \"value\": 1.6}, \"3.6\": {\"frequency\": 4, \"value\": 3.6}, \"0.7\": {\"frequency\": 1, \"value\": 0.7}, \"3.8\": {\"frequency\": 1, \"value\": 3.8}, \"5.6\": {\"frequency\": 1, \"value\": 5.6}, \"0.5\": {\"frequency\": 5, \"value\": 0.5}, \"1.9\": {\"frequency\": 5, \"value\": 1.9}, \"6.2\": {\"frequency\": 1, \"value\": 6.2}, \"3.2\": {\"frequency\": 2, \"value\": 3.2}, \"0.6\": {\"frequency\": 14, \"value\": 0.6}, \"2.3\": {\"frequency\": 2, \"value\": 2.3}, \"0.9\": {\"frequency\": 3, \"value\": 0.9}, \"4.4\": {\"frequency\": 1, \"value\": 4.4}, \"0.3\": {\"frequency\": 3, \"value\": 0.3}, \"4.2\": {\"frequency\": 2, \"value\": 4.2}, \"0.4\": {\"frequency\": 9, \"value\": 0.4}, \"2.4\": {\"frequency\": 3, \"value\": 2.4}, \"2.9\": {\"frequency\": 1, \"value\": 2.9}, \"2.2\": {\"frequency\": 4, \"value\": 2.2}, \"1.4\": {\"frequency\": 13, \"value\": 1.4}, \"1.1\": {\"frequency\": 2, \"value\": 1.1}, \"2.5\": {\"frequency\": 2, \"value\": 2.5}, \"1.3\": {\"frequency\": 1, \"value\": 1.3}, \"0.2\": {\"frequency\": 12, \"value\": 0.2}, \"0.1\": {\"frequency\": 7, \"value\": 0.1}, \"1.8\": {\"frequency\": 10, \"value\": 1.8}, \"0.8\": {\"frequency\": 13, \"value\": 0.8}, \"2.6\": {\"frequency\": 6, \"value\": 2.6}, \"1.2\": {\"frequency\": 17, \"value\": 1.2}, \"2.1\": {\"frequency\": 1, \"value\": 2.1}, \"3.1\": {\"frequency\": 1, \"value\": 3.1}, \"2.8\": {\"frequency\": 6, \"value\": 2.8}, \"4.0\": {\"frequency\": 3, \"value\": 4.0}}, \"mean\": 1.0396039603960396}, \"num_major_vessels\": {\"std\": 1.020917501116565, \"complete\": true, \"min\": 0.0, \"max\": 4.0, \"quantile\": [0.0, 0.0, 0.0, 0.0, 0.0, 0.0, 0.0, 0.0, 0.0, 0.0, 0.0, 0.0, 0.0, 0.0, 0.0, 0.0, 0.0, 0.0, 0.0, 0.0, 0.0, 0.0, 0.0, 0.0, 0.0, 0.0, 0.0, 0.0, 0.0, 0.0, 0.0, 0.0, 0.0, 0.0, 0.0, 0.0, 0.0, 0.0, 0.0, 0.0, 0.0, 0.0, 0.0, 0.0, 0.0, 0.0, 0.0, 0.0, 0.0, 0.0, 0.0, 0.0, 0.0, 0.0, 0.0, 0.0, 0.0, 0.0, 1.0, 1.0, 1.0, 1.0, 1.0, 1.0, 1.0, 1.0, 1.0, 1.0, 1.0, 1.0, 1.0, 1.0, 1.0, 1.0, 1.0, 1.0, 1.0, 1.0, 1.0, 1.0, 2.0, 2.0, 2.0, 2.0, 2.0, 2.0, 2.0, 2.0, 2.0, 2.0, 2.0, 2.0, 3.0, 3.0, 3.0, 3.0, 3.0, 3.0, 3.0, 4.0, 4.0], \"median\": 0.0, \"numeric\": true, \"num_unique\": 5, \"num_undefined\": 0, \"var\": 1.0422725440860916, \"progress\": 1.0, \"size\": 303, \"frequent_items\": {\"0\": {\"frequency\": 175, \"value\": 0}, \"1\": {\"frequency\": 65, \"value\": 1}, \"2\": {\"frequency\": 38, \"value\": 2}, \"3\": {\"frequency\": 20, \"value\": 3}, \"4\": {\"frequency\": 5, \"value\": 4}}, \"mean\": 0.7293729372937292}, \"restecg\": {\"std\": 0.5249911240963214, \"complete\": true, \"min\": 0.0, \"max\": 2.0, \"quantile\": [0.0, 0.0, 0.0, 0.0, 0.0, 0.0, 0.0, 0.0, 0.0, 0.0, 0.0, 0.0, 0.0, 0.0, 0.0, 0.0, 0.0, 0.0, 0.0, 0.0, 0.0, 0.0, 0.0, 0.0, 0.0, 0.0, 0.0, 0.0, 0.0, 0.0, 0.0, 0.0, 0.0, 0.0, 0.0, 0.0, 0.0, 0.0, 0.0, 0.0, 0.0, 0.0, 0.0, 0.0, 0.0, 0.0, 0.0, 0.0, 0.0, 1.0, 1.0, 1.0, 1.0, 1.0, 1.0, 1.0, 1.0, 1.0, 1.0, 1.0, 1.0, 1.0, 1.0, 1.0, 1.0, 1.0, 1.0, 1.0, 1.0, 1.0, 1.0, 1.0, 1.0, 1.0, 1.0, 1.0, 1.0, 1.0, 1.0, 1.0, 1.0, 1.0, 1.0, 1.0, 1.0, 1.0, 1.0, 1.0, 1.0, 1.0, 1.0, 1.0, 1.0, 1.0, 1.0, 1.0, 1.0, 1.0, 1.0, 2.0, 2.0], \"median\": 1.0, \"numeric\": true, \"num_unique\": 3, \"num_undefined\": 0, \"var\": 0.2756156803799191, \"progress\": 1.0, \"size\": 303, \"frequent_items\": {\"0\": {\"frequency\": 147, \"value\": 0}, \"1\": {\"frequency\": 152, \"value\": 1}, \"2\": {\"frequency\": 4, \"value\": 2}}, \"mean\": 0.5280528052805279}, \"exercise induced agina\": {\"std\": 0.4690185854386935, \"complete\": true, \"min\": 0.0, \"max\": 1.0, \"quantile\": [0.0, 0.0, 0.0, 0.0, 0.0, 0.0, 0.0, 0.0, 0.0, 0.0, 0.0, 0.0, 0.0, 0.0, 0.0, 0.0, 0.0, 0.0, 0.0, 0.0, 0.0, 0.0, 0.0, 0.0, 0.0, 0.0, 0.0, 0.0, 0.0, 0.0, 0.0, 0.0, 0.0, 0.0, 0.0, 0.0, 0.0, 0.0, 0.0, 0.0, 0.0, 0.0, 0.0, 0.0, 0.0, 0.0, 0.0, 0.0, 0.0, 0.0, 0.0, 0.0, 0.0, 0.0, 0.0, 0.0, 0.0, 0.0, 0.0, 0.0, 0.0, 0.0, 0.0, 0.0, 0.0, 0.0, 0.0, 0.0, 1.0, 1.0, 1.0, 1.0, 1.0, 1.0, 1.0, 1.0, 1.0, 1.0, 1.0, 1.0, 1.0, 1.0, 1.0, 1.0, 1.0, 1.0, 1.0, 1.0, 1.0, 1.0, 1.0, 1.0, 1.0, 1.0, 1.0, 1.0, 1.0, 1.0, 1.0, 1.0, 1.0], \"median\": 0.0, \"numeric\": true, \"num_unique\": 2, \"num_undefined\": 0, \"var\": 0.21997843348691307, \"progress\": 1.0, \"size\": 303, \"frequent_items\": {\"0\": {\"frequency\": 204, \"value\": 0}, \"1\": {\"frequency\": 99, \"value\": 1}}, \"mean\": 0.3267326732673268}, \"fasting blood sugar\": {\"std\": 0.3556096038825341, \"complete\": true, \"min\": 0.0, \"max\": 1.0, \"quantile\": [0.0, 0.0, 0.0, 0.0, 0.0, 0.0, 0.0, 0.0, 0.0, 0.0, 0.0, 0.0, 0.0, 0.0, 0.0, 0.0, 0.0, 0.0, 0.0, 0.0, 0.0, 0.0, 0.0, 0.0, 0.0, 0.0, 0.0, 0.0, 0.0, 0.0, 0.0, 0.0, 0.0, 0.0, 0.0, 0.0, 0.0, 0.0, 0.0, 0.0, 0.0, 0.0, 0.0, 0.0, 0.0, 0.0, 0.0, 0.0, 0.0, 0.0, 0.0, 0.0, 0.0, 0.0, 0.0, 0.0, 0.0, 0.0, 0.0, 0.0, 0.0, 0.0, 0.0, 0.0, 0.0, 0.0, 0.0, 0.0, 0.0, 0.0, 0.0, 0.0, 0.0, 0.0, 0.0, 0.0, 0.0, 0.0, 0.0, 0.0, 0.0, 0.0, 0.0, 0.0, 0.0, 0.0, 1.0, 1.0, 1.0, 1.0, 1.0, 1.0, 1.0, 1.0, 1.0, 1.0, 1.0, 1.0, 1.0, 1.0, 1.0], \"median\": 0.0, \"numeric\": true, \"num_unique\": 2, \"num_undefined\": 0, \"var\": 0.12645819037349282, \"progress\": 1.0, \"size\": 303, \"frequent_items\": {\"0\": {\"frequency\": 258, \"value\": 0}, \"1\": {\"frequency\": 45, \"value\": 1}}, \"mean\": 0.1485148514851485}, \"thalach\": {\"std\": 22.867332581889215, \"complete\": true, \"min\": 71.0, \"max\": 202.0, \"quantile\": [71.0, 95.0, 97.0, 103.0, 105.0, 108.0, 111.0, 112.0, 114.0, 115.0, 116.0, 118.0, 120.0, 122.0, 123.0, 125.0, 125.0, 125.0, 126.0, 128.0, 130.0, 131.0, 131.0, 132.0, 132.0, 133.0, 136.0, 138.0, 139.0, 140.0, 140.0, 141.0, 142.0, 142.0, 143.0, 143.0, 144.0, 144.0, 145.0, 146.0, 146.0, 147.0, 148.0, 149.0, 150.0, 150.0, 151.0, 151.0, 152.0, 152.0, 153.0, 154.0, 154.0, 155.0, 156.0, 156.0, 157.0, 157.0, 158.0, 158.0, 159.0, 160.0, 160.0, 160.0, 161.0, 161.0, 162.0, 162.0, 162.0, 163.0, 163.0, 163.0, 164.0, 165.0, 165.0, 166.0, 168.0, 168.0, 169.0, 169.0, 170.0, 171.0, 171.0, 172.0, 172.0, 173.0, 173.0, 173.0, 174.0, 175.0, 177.0, 178.0, 179.0, 179.0, 180.0, 182.0, 182.0, 185.0, 187.0, 192.0, 202.0], \"median\": 153.0, \"numeric\": true, \"num_unique\": 91, \"num_undefined\": 0, \"var\": 522.914899410732, \"progress\": 1.0, \"size\": 303, \"frequent_items\": {\"71\": {\"frequency\": 1, \"value\": 71}, \"88\": {\"frequency\": 1, \"value\": 88}, \"90\": {\"frequency\": 1, \"value\": 90}, \"95\": {\"frequency\": 1, \"value\": 95}, \"96\": {\"frequency\": 2, \"value\": 96}, \"97\": {\"frequency\": 1, \"value\": 97}, \"99\": {\"frequency\": 1, \"value\": 99}, \"103\": {\"frequency\": 2, \"value\": 103}, \"105\": {\"frequency\": 3, \"value\": 105}, \"106\": {\"frequency\": 1, \"value\": 106}, \"108\": {\"frequency\": 2, \"value\": 108}, \"109\": {\"frequency\": 2, \"value\": 109}, \"111\": {\"frequency\": 3, \"value\": 111}, \"112\": {\"frequency\": 2, \"value\": 112}, \"113\": {\"frequency\": 1, \"value\": 113}, \"114\": {\"frequency\": 3, \"value\": 114}, \"115\": {\"frequency\": 3, \"value\": 115}, \"116\": {\"frequency\": 2, \"value\": 116}, \"117\": {\"frequency\": 1, \"value\": 117}, \"118\": {\"frequency\": 1, \"value\": 118}, \"120\": {\"frequency\": 3, \"value\": 120}, \"121\": {\"frequency\": 1, \"value\": 121}, \"122\": {\"frequency\": 4, \"value\": 122}, \"123\": {\"frequency\": 2, \"value\": 123}, \"124\": {\"frequency\": 1, \"value\": 124}, \"125\": {\"frequency\": 7, \"value\": 125}, \"126\": {\"frequency\": 4, \"value\": 126}, \"127\": {\"frequency\": 1, \"value\": 127}, \"128\": {\"frequency\": 1, \"value\": 128}, \"129\": {\"frequency\": 1, \"value\": 129}, \"130\": {\"frequency\": 4, \"value\": 130}, \"131\": {\"frequency\": 4, \"value\": 131}, \"132\": {\"frequency\": 7, \"value\": 132}, \"133\": {\"frequency\": 2, \"value\": 133}, \"134\": {\"frequency\": 1, \"value\": 134}, \"136\": {\"frequency\": 2, \"value\": 136}, \"137\": {\"frequency\": 1, \"value\": 137}, \"138\": {\"frequency\": 3, \"value\": 138}, \"139\": {\"frequency\": 2, \"value\": 139}, \"140\": {\"frequency\": 6, \"value\": 140}, \"141\": {\"frequency\": 3, \"value\": 141}, \"142\": {\"frequency\": 6, \"value\": 142}, \"143\": {\"frequency\": 7, \"value\": 143}, \"144\": {\"frequency\": 7, \"value\": 144}, \"145\": {\"frequency\": 4, \"value\": 145}, \"146\": {\"frequency\": 4, \"value\": 146}, \"147\": {\"frequency\": 5, \"value\": 147}, \"148\": {\"frequency\": 3, \"value\": 148}, \"149\": {\"frequency\": 2, \"value\": 149}, \"150\": {\"frequency\": 7, \"value\": 150}, \"151\": {\"frequency\": 4, \"value\": 151}, \"152\": {\"frequency\": 8, \"value\": 152}, \"153\": {\"frequency\": 3, \"value\": 153}, \"154\": {\"frequency\": 5, \"value\": 154}, \"155\": {\"frequency\": 4, \"value\": 155}, \"156\": {\"frequency\": 6, \"value\": 156}, \"157\": {\"frequency\": 5, \"value\": 157}, \"158\": {\"frequency\": 6, \"value\": 158}, \"159\": {\"frequency\": 4, \"value\": 159}, \"160\": {\"frequency\": 9, \"value\": 160}, \"161\": {\"frequency\": 5, \"value\": 161}, \"162\": {\"frequency\": 11, \"value\": 162}, \"163\": {\"frequency\": 9, \"value\": 163}, \"164\": {\"frequency\": 2, \"value\": 164}, \"165\": {\"frequency\": 5, \"value\": 165}, \"166\": {\"frequency\": 3, \"value\": 166}, \"167\": {\"frequency\": 1, \"value\": 167}, \"168\": {\"frequency\": 5, \"value\": 168}, \"169\": {\"frequency\": 6, \"value\": 169}, \"170\": {\"frequency\": 5, \"value\": 170}, \"171\": {\"frequency\": 4, \"value\": 171}, \"172\": {\"frequency\": 7, \"value\": 172}, \"173\": {\"frequency\": 8, \"value\": 173}, \"174\": {\"frequency\": 5, \"value\": 174}, \"175\": {\"frequency\": 3, \"value\": 175}, \"177\": {\"frequency\": 1, \"value\": 177}, \"178\": {\"frequency\": 5, \"value\": 178}, \"179\": {\"frequency\": 5, \"value\": 179}, \"180\": {\"frequency\": 2, \"value\": 180}, \"181\": {\"frequency\": 2, \"value\": 181}, \"182\": {\"frequency\": 5, \"value\": 182}, \"184\": {\"frequency\": 1, \"value\": 184}, \"185\": {\"frequency\": 1, \"value\": 185}, \"186\": {\"frequency\": 2, \"value\": 186}, \"187\": {\"frequency\": 1, \"value\": 187}, \"188\": {\"frequency\": 1, \"value\": 188}, \"190\": {\"frequency\": 1, \"value\": 190}, \"192\": {\"frequency\": 1, \"value\": 192}, \"194\": {\"frequency\": 1, \"value\": 194}, \"195\": {\"frequency\": 1, \"value\": 195}, \"202\": {\"frequency\": 1, \"value\": 202}}, \"mean\": 149.6468646864686}, \"thal\": {\"std\": 0.6112653149988236, \"complete\": true, \"min\": 0.0, \"max\": 3.0, \"quantile\": [0.0, 1.0, 1.0, 1.0, 1.0, 1.0, 1.0, 2.0, 2.0, 2.0, 2.0, 2.0, 2.0, 2.0, 2.0, 2.0, 2.0, 2.0, 2.0, 2.0, 2.0, 2.0, 2.0, 2.0, 2.0, 2.0, 2.0, 2.0, 2.0, 2.0, 2.0, 2.0, 2.0, 2.0, 2.0, 2.0, 2.0, 2.0, 2.0, 2.0, 2.0, 2.0, 2.0, 2.0, 2.0, 2.0, 2.0, 2.0, 2.0, 2.0, 2.0, 2.0, 2.0, 2.0, 2.0, 2.0, 2.0, 2.0, 2.0, 2.0, 2.0, 2.0, 3.0, 3.0, 3.0, 3.0, 3.0, 3.0, 3.0, 3.0, 3.0, 3.0, 3.0, 3.0, 3.0, 3.0, 3.0, 3.0, 3.0, 3.0, 3.0, 3.0, 3.0, 3.0, 3.0, 3.0, 3.0, 3.0, 3.0, 3.0, 3.0, 3.0, 3.0, 3.0, 3.0, 3.0, 3.0, 3.0, 3.0, 3.0, 3.0], \"median\": 2.0, \"numeric\": true, \"num_unique\": 4, \"num_undefined\": 0, \"var\": 0.37364528532061114, \"progress\": 1.0, \"size\": 303, \"frequent_items\": {\"0\": {\"frequency\": 2, \"value\": 0}, \"1\": {\"frequency\": 18, \"value\": 1}, \"2\": {\"frequency\": 166, \"value\": 2}, \"3\": {\"frequency\": 117, \"value\": 3}}, \"mean\": 2.3135313531353137}}, \"selected_variable\": {\"name\": [\"ht\"], \"descriptives\": {\"rows\": 303, \"columns\": 14}, \"view_component\": \"Summary\", \"view_file\": \"sframe\", \"view_params\": {\"y\": null, \"x\": null, \"columns\": [\"\\ufeffage\", \"sex\", \"chest pain type\", \"trestbps\", \"chol\", \"fasting blood sugar\", \"restecg\", \"thalach\", \"exercise induced agina\", \"oldpeak\", \"slope\", \"num_major_vessels\", \"thal\", \"target\"], \"view\": null}, \"view_components\": [\"Summary\", \"Table\", \"Bar Chart\", \"BoxWhisker Plot\", \"Line Chart\", \"Scatter Plot\", \"Heat Map\", \"Plots\"], \"type\": \"SFrame\", \"columns\": [{\"dtype\": \"int\", \"name\": \"\\ufeffage\"}, {\"dtype\": \"int\", \"name\": \"sex\"}, {\"dtype\": \"int\", \"name\": \"chest pain type\"}, {\"dtype\": \"int\", \"name\": \"trestbps\"}, {\"dtype\": \"int\", \"name\": \"chol\"}, {\"dtype\": \"int\", \"name\": \"fasting blood sugar\"}, {\"dtype\": \"int\", \"name\": \"restecg\"}, {\"dtype\": \"int\", \"name\": \"thalach\"}, {\"dtype\": \"int\", \"name\": \"exercise induced agina\"}, {\"dtype\": \"float\", \"name\": \"oldpeak\"}, {\"dtype\": \"int\", \"name\": \"slope\"}, {\"dtype\": \"int\", \"name\": \"num_major_vessels\"}, {\"dtype\": \"int\", \"name\": \"thal\"}, {\"dtype\": \"int\", \"name\": \"target\"}], \"column_identifiers\": [\"slope\", \"trestbps\", \"chest pain type\", \"target\", \"chol\", \"\\ufeffage\", \"sex\", \"oldpeak\", \"num_major_vessels\", \"restecg\", \"exercise induced agina\", \"fasting blood sugar\", \"thalach\", \"thal\"]}, \"columns\": [{\"dtype\": \"int\", \"name\": \"\\ufeffage\"}, {\"dtype\": \"int\", \"name\": \"sex\"}, {\"dtype\": \"int\", \"name\": \"chest pain type\"}, {\"dtype\": \"int\", \"name\": \"trestbps\"}, {\"dtype\": \"int\", \"name\": \"chol\"}, {\"dtype\": \"int\", \"name\": \"fasting blood sugar\"}, {\"dtype\": \"int\", \"name\": \"restecg\"}, {\"dtype\": \"int\", \"name\": \"thalach\"}, {\"dtype\": \"int\", \"name\": \"exercise induced agina\"}, {\"dtype\": \"float\", \"name\": \"oldpeak\"}, {\"dtype\": \"int\", \"name\": \"slope\"}, {\"dtype\": \"int\", \"name\": \"num_major_vessels\"}, {\"dtype\": \"int\", \"name\": \"thal\"}, {\"dtype\": \"int\", \"name\": \"target\"}]}, e);\n",
       "                });\n",
       "            })();\n",
       "        "
      ]
     },
     "metadata": {},
     "output_type": "display_data"
    }
   ],
   "source": [
    "ht.show() # directs to graphlab"
   ]
  },
  {
   "cell_type": "code",
   "execution_count": 71,
   "metadata": {
    "collapsed": true
   },
   "outputs": [],
   "source": [
    "feat=['restecg','fasting blood sugar','exercise induced agina'] # a feature list"
   ]
  },
  {
   "cell_type": "code",
   "execution_count": 72,
   "metadata": {},
   "outputs": [
    {
     "name": "stderr",
     "output_type": "stream",
     "text": [
      "[WARNING] graphlab.data_structures.sframe: Column selection for SFrame.show is deprecated. To show only certain columns, use the sf[['column1', 'column2']] syntax or construct a new SFrame with the desired columns.\n"
     ]
    },
    {
     "data": {
      "application/javascript": [
       "$(\"head\").append($(\"<link/>\").attr({\n",
       "  rel:  \"stylesheet\",\n",
       "  type: \"text/css\",\n",
       "  href: \"//cdnjs.cloudflare.com/ajax/libs/font-awesome/4.1.0/css/font-awesome.min.css\"\n",
       "}));\n",
       "$(\"head\").append($(\"<link/>\").attr({\n",
       "  rel:  \"stylesheet\",\n",
       "  type: \"text/css\",\n",
       "  href: \"https://static.turi.com/products/graphlab-create/2.1/canvas/css/canvas.css\"\n",
       "}));\n",
       "\n",
       "            (function(){\n",
       "\n",
       "                var e = null;\n",
       "                if (typeof element == 'undefined') {\n",
       "                    var scripts = document.getElementsByTagName('script');\n",
       "                    var thisScriptTag = scripts[scripts.length-1];\n",
       "                    var parentDiv = thisScriptTag.parentNode;\n",
       "                    e = document.createElement('div');\n",
       "                    parentDiv.appendChild(e);\n",
       "                } else {\n",
       "                    e = element[0];\n",
       "                }\n",
       "\n",
       "                if (typeof requirejs !== 'undefined') {\n",
       "                    // disable load timeout; ipython_app.js is large and can take a while to load.\n",
       "                    requirejs.config({waitSeconds: 0});\n",
       "                }\n",
       "\n",
       "                require(['https://static.turi.com/products/graphlab-create/2.1/canvas/js/ipython_app.js'], function(IPythonApp){\n",
       "                    var app = new IPythonApp();\n",
       "                    app.attachView('sframe','Summary', {\"ipython\": true, \"sketch\": {\"exercise induced agina\": {\"std\": 0.4690185854386935, \"complete\": true, \"min\": 0.0, \"max\": 1.0, \"quantile\": [0.0, 0.0, 0.0, 0.0, 0.0, 0.0, 0.0, 0.0, 0.0, 0.0, 0.0, 0.0, 0.0, 0.0, 0.0, 0.0, 0.0, 0.0, 0.0, 0.0, 0.0, 0.0, 0.0, 0.0, 0.0, 0.0, 0.0, 0.0, 0.0, 0.0, 0.0, 0.0, 0.0, 0.0, 0.0, 0.0, 0.0, 0.0, 0.0, 0.0, 0.0, 0.0, 0.0, 0.0, 0.0, 0.0, 0.0, 0.0, 0.0, 0.0, 0.0, 0.0, 0.0, 0.0, 0.0, 0.0, 0.0, 0.0, 0.0, 0.0, 0.0, 0.0, 0.0, 0.0, 0.0, 0.0, 0.0, 0.0, 1.0, 1.0, 1.0, 1.0, 1.0, 1.0, 1.0, 1.0, 1.0, 1.0, 1.0, 1.0, 1.0, 1.0, 1.0, 1.0, 1.0, 1.0, 1.0, 1.0, 1.0, 1.0, 1.0, 1.0, 1.0, 1.0, 1.0, 1.0, 1.0, 1.0, 1.0, 1.0, 1.0], \"median\": 0.0, \"numeric\": true, \"num_unique\": 2, \"num_undefined\": 0, \"var\": 0.21997843348691307, \"progress\": 1.0, \"size\": 303, \"frequent_items\": {\"0\": {\"frequency\": 204, \"value\": 0}, \"1\": {\"frequency\": 99, \"value\": 1}}, \"mean\": 0.3267326732673268}, \"fasting blood sugar\": {\"std\": 0.3556096038825341, \"complete\": true, \"min\": 0.0, \"max\": 1.0, \"quantile\": [0.0, 0.0, 0.0, 0.0, 0.0, 0.0, 0.0, 0.0, 0.0, 0.0, 0.0, 0.0, 0.0, 0.0, 0.0, 0.0, 0.0, 0.0, 0.0, 0.0, 0.0, 0.0, 0.0, 0.0, 0.0, 0.0, 0.0, 0.0, 0.0, 0.0, 0.0, 0.0, 0.0, 0.0, 0.0, 0.0, 0.0, 0.0, 0.0, 0.0, 0.0, 0.0, 0.0, 0.0, 0.0, 0.0, 0.0, 0.0, 0.0, 0.0, 0.0, 0.0, 0.0, 0.0, 0.0, 0.0, 0.0, 0.0, 0.0, 0.0, 0.0, 0.0, 0.0, 0.0, 0.0, 0.0, 0.0, 0.0, 0.0, 0.0, 0.0, 0.0, 0.0, 0.0, 0.0, 0.0, 0.0, 0.0, 0.0, 0.0, 0.0, 0.0, 0.0, 0.0, 0.0, 0.0, 1.0, 1.0, 1.0, 1.0, 1.0, 1.0, 1.0, 1.0, 1.0, 1.0, 1.0, 1.0, 1.0, 1.0, 1.0], \"median\": 0.0, \"numeric\": true, \"num_unique\": 2, \"num_undefined\": 0, \"var\": 0.12645819037349282, \"progress\": 1.0, \"size\": 303, \"frequent_items\": {\"0\": {\"frequency\": 258, \"value\": 0}, \"1\": {\"frequency\": 45, \"value\": 1}}, \"mean\": 0.1485148514851485}, \"restecg\": {\"std\": 0.5249911240963214, \"complete\": true, \"min\": 0.0, \"max\": 2.0, \"quantile\": [0.0, 0.0, 0.0, 0.0, 0.0, 0.0, 0.0, 0.0, 0.0, 0.0, 0.0, 0.0, 0.0, 0.0, 0.0, 0.0, 0.0, 0.0, 0.0, 0.0, 0.0, 0.0, 0.0, 0.0, 0.0, 0.0, 0.0, 0.0, 0.0, 0.0, 0.0, 0.0, 0.0, 0.0, 0.0, 0.0, 0.0, 0.0, 0.0, 0.0, 0.0, 0.0, 0.0, 0.0, 0.0, 0.0, 0.0, 0.0, 0.0, 1.0, 1.0, 1.0, 1.0, 1.0, 1.0, 1.0, 1.0, 1.0, 1.0, 1.0, 1.0, 1.0, 1.0, 1.0, 1.0, 1.0, 1.0, 1.0, 1.0, 1.0, 1.0, 1.0, 1.0, 1.0, 1.0, 1.0, 1.0, 1.0, 1.0, 1.0, 1.0, 1.0, 1.0, 1.0, 1.0, 1.0, 1.0, 1.0, 1.0, 1.0, 1.0, 1.0, 1.0, 1.0, 1.0, 1.0, 1.0, 1.0, 1.0, 2.0, 2.0], \"median\": 1.0, \"numeric\": true, \"num_unique\": 3, \"num_undefined\": 0, \"var\": 0.2756156803799191, \"progress\": 1.0, \"size\": 303, \"frequent_items\": {\"0\": {\"frequency\": 147, \"value\": 0}, \"1\": {\"frequency\": 152, \"value\": 1}, \"2\": {\"frequency\": 4, \"value\": 2}}, \"mean\": 0.5280528052805279}}, \"selected_variable\": {\"name\": [\"<SFrame>\"], \"descriptives\": {\"rows\": 303, \"columns\": 3}, \"view_component\": \"Summary\", \"view_file\": \"sframe\", \"view_params\": {\"y\": null, \"x\": null, \"columns\": [\"restecg\", \"fasting blood sugar\", \"exercise induced agina\"], \"view\": null}, \"view_components\": [\"Summary\", \"Table\", \"Bar Chart\", \"BoxWhisker Plot\", \"Line Chart\", \"Scatter Plot\", \"Heat Map\", \"Plots\"], \"type\": \"SFrame\", \"columns\": [{\"dtype\": \"int\", \"name\": \"restecg\"}, {\"dtype\": \"int\", \"name\": \"fasting blood sugar\"}, {\"dtype\": \"int\", \"name\": \"exercise induced agina\"}], \"column_identifiers\": [\"exercise induced agina\", \"fasting blood sugar\", \"restecg\"]}, \"columns\": [{\"dtype\": \"int\", \"name\": \"restecg\"}, {\"dtype\": \"int\", \"name\": \"fasting blood sugar\"}, {\"dtype\": \"int\", \"name\": \"exercise induced agina\"}]}, e);\n",
       "                });\n",
       "            })();\n",
       "        "
      ]
     },
     "metadata": {},
     "output_type": "display_data"
    },
    {
     "name": "stdout",
     "output_type": "stream",
     "text": [
      "None\n"
     ]
    }
   ],
   "source": [
    "print ht[feat].show('target'== 1) # will show only those "
   ]
  },
  {
   "cell_type": "code",
   "execution_count": 78,
   "metadata": {
    "collapsed": true
   },
   "outputs": [],
   "source": [
    "feat1=['oldpeak','slope','thal'] # another feature list"
   ]
  },
  {
   "cell_type": "code",
   "execution_count": 79,
   "metadata": {},
   "outputs": [
    {
     "name": "stdout",
     "output_type": "stream",
     "text": [
      "PROGRESS: Creating a validation set from 5 percent of training data. This may take a while.\n",
      "          You can set ``validation_set=None`` to disable validation tracking.\n",
      "\n"
     ]
    },
    {
     "data": {
      "text/html": [
       "<pre>Linear regression:</pre>"
      ],
      "text/plain": [
       "Linear regression:"
      ]
     },
     "metadata": {},
     "output_type": "display_data"
    },
    {
     "data": {
      "text/html": [
       "<pre>--------------------------------------------------------</pre>"
      ],
      "text/plain": [
       "--------------------------------------------------------"
      ]
     },
     "metadata": {},
     "output_type": "display_data"
    },
    {
     "data": {
      "text/html": [
       "<pre>Number of examples          : 244</pre>"
      ],
      "text/plain": [
       "Number of examples          : 244"
      ]
     },
     "metadata": {},
     "output_type": "display_data"
    },
    {
     "data": {
      "text/html": [
       "<pre>Number of features          : 3</pre>"
      ],
      "text/plain": [
       "Number of features          : 3"
      ]
     },
     "metadata": {},
     "output_type": "display_data"
    },
    {
     "data": {
      "text/html": [
       "<pre>Number of unpacked features : 3</pre>"
      ],
      "text/plain": [
       "Number of unpacked features : 3"
      ]
     },
     "metadata": {},
     "output_type": "display_data"
    },
    {
     "data": {
      "text/html": [
       "<pre>Number of coefficients    : 4</pre>"
      ],
      "text/plain": [
       "Number of coefficients    : 4"
      ]
     },
     "metadata": {},
     "output_type": "display_data"
    },
    {
     "data": {
      "text/html": [
       "<pre>Starting Newton Method</pre>"
      ],
      "text/plain": [
       "Starting Newton Method"
      ]
     },
     "metadata": {},
     "output_type": "display_data"
    },
    {
     "data": {
      "text/html": [
       "<pre>--------------------------------------------------------</pre>"
      ],
      "text/plain": [
       "--------------------------------------------------------"
      ]
     },
     "metadata": {},
     "output_type": "display_data"
    },
    {
     "data": {
      "text/html": [
       "<pre>+-----------+----------+--------------+--------------------+----------------------+---------------+-----------------+</pre>"
      ],
      "text/plain": [
       "+-----------+----------+--------------+--------------------+----------------------+---------------+-----------------+"
      ]
     },
     "metadata": {},
     "output_type": "display_data"
    },
    {
     "data": {
      "text/html": [
       "<pre>| Iteration | Passes   | Elapsed Time | Training-max_error | Validation-max_error | Training-rmse | Validation-rmse |</pre>"
      ],
      "text/plain": [
       "| Iteration | Passes   | Elapsed Time | Training-max_error | Validation-max_error | Training-rmse | Validation-rmse |"
      ]
     },
     "metadata": {},
     "output_type": "display_data"
    },
    {
     "data": {
      "text/html": [
       "<pre>+-----------+----------+--------------+--------------------+----------------------+---------------+-----------------+</pre>"
      ],
      "text/plain": [
       "+-----------+----------+--------------+--------------------+----------------------+---------------+-----------------+"
      ]
     },
     "metadata": {},
     "output_type": "display_data"
    },
    {
     "data": {
      "text/html": [
       "<pre>| 1         | 2        | 0.000000     | 1.116985           | 0.346165             | 0.431885      | 0.250332        |</pre>"
      ],
      "text/plain": [
       "| 1         | 2        | 0.000000     | 1.116985           | 0.346165             | 0.431885      | 0.250332        |"
      ]
     },
     "metadata": {},
     "output_type": "display_data"
    },
    {
     "data": {
      "text/html": [
       "<pre>+-----------+----------+--------------+--------------------+----------------------+---------------+-----------------+</pre>"
      ],
      "text/plain": [
       "+-----------+----------+--------------+--------------------+----------------------+---------------+-----------------+"
      ]
     },
     "metadata": {},
     "output_type": "display_data"
    },
    {
     "data": {
      "text/html": [
       "<pre>SUCCESS: Optimal solution found.</pre>"
      ],
      "text/plain": [
       "SUCCESS: Optimal solution found."
      ]
     },
     "metadata": {},
     "output_type": "display_data"
    },
    {
     "data": {
      "text/html": [
       "<pre></pre>"
      ],
      "text/plain": []
     },
     "metadata": {},
     "output_type": "display_data"
    }
   ],
   "source": [
    "my_features_model = graphlab.linear_regression.create(trd,target='target',features=feat1) # model created according to 'feat1'"
   ]
  },
  {
   "cell_type": "code",
   "execution_count": 80,
   "metadata": {},
   "outputs": [
    {
     "name": "stdout",
     "output_type": "stream",
     "text": [
      "{'max_error': 1.0976214953241648, 'rmse': 0.4298746544821219}\n"
     ]
    }
   ],
   "source": [
    "print (my_features_model.evaluate(tsd)) # evaluates the model on the test data set"
   ]
  },
  {
   "cell_type": "code",
   "execution_count": 81,
   "metadata": {},
   "outputs": [
    {
     "name": "stdout",
     "output_type": "stream",
     "text": [
      "{'max_error': 1.1144078220120204, 'rmse': 0.4622186668036501}\n"
     ]
    }
   ],
   "source": [
    "print (model1.evaluate(tsd)) "
   ]
  },
  {
   "cell_type": "code",
   "execution_count": 83,
   "metadata": {},
   "outputs": [],
   "source": [
    "p1 = ht[ht['chest pain type']==3]\n",
    "# stores the  entries of only those who are suffering from chest pain type 3"
   ]
  },
  {
   "cell_type": "code",
   "execution_count": 86,
   "metadata": {},
   "outputs": [
    {
     "data": {
      "application/javascript": [
       "$(\"head\").append($(\"<link/>\").attr({\n",
       "  rel:  \"stylesheet\",\n",
       "  type: \"text/css\",\n",
       "  href: \"//cdnjs.cloudflare.com/ajax/libs/font-awesome/4.1.0/css/font-awesome.min.css\"\n",
       "}));\n",
       "$(\"head\").append($(\"<link/>\").attr({\n",
       "  rel:  \"stylesheet\",\n",
       "  type: \"text/css\",\n",
       "  href: \"https://static.turi.com/products/graphlab-create/2.1/canvas/css/canvas.css\"\n",
       "}));\n",
       "\n",
       "            (function(){\n",
       "\n",
       "                var e = null;\n",
       "                if (typeof element == 'undefined') {\n",
       "                    var scripts = document.getElementsByTagName('script');\n",
       "                    var thisScriptTag = scripts[scripts.length-1];\n",
       "                    var parentDiv = thisScriptTag.parentNode;\n",
       "                    e = document.createElement('div');\n",
       "                    parentDiv.appendChild(e);\n",
       "                } else {\n",
       "                    e = element[0];\n",
       "                }\n",
       "\n",
       "                if (typeof requirejs !== 'undefined') {\n",
       "                    // disable load timeout; ipython_app.js is large and can take a while to load.\n",
       "                    requirejs.config({waitSeconds: 0});\n",
       "                }\n",
       "\n",
       "                require(['https://static.turi.com/products/graphlab-create/2.1/canvas/js/ipython_app.js'], function(IPythonApp){\n",
       "                    var app = new IPythonApp();\n",
       "                    app.attachView('sarray','Numeric', {\"ipython\": true, \"sketch\": {\"std\": 0.4601306627938418, \"complete\": true, \"min\": 0.0, \"max\": 1.0, \"quantile\": [0.0, 0.0, 0.0, 0.0, 0.0, 0.0, 0.0, 0.0, 0.0, 0.0, 0.0, 0.0, 0.0, 0.0, 0.0, 0.0, 0.0, 0.0, 0.0, 0.0, 0.0, 0.0, 0.0, 0.0, 0.0, 0.0, 0.0, 0.0, 0.0, 0.0, 0.0, 1.0, 1.0, 1.0, 1.0, 1.0, 1.0, 1.0, 1.0, 1.0, 1.0, 1.0, 1.0, 1.0, 1.0, 1.0, 1.0, 1.0, 1.0, 1.0, 1.0, 1.0, 1.0, 1.0, 1.0, 1.0, 1.0, 1.0, 1.0, 1.0, 1.0, 1.0, 1.0, 1.0, 1.0, 1.0, 1.0, 1.0, 1.0, 1.0, 1.0, 1.0, 1.0, 1.0, 1.0, 1.0, 1.0, 1.0, 1.0, 1.0, 1.0, 1.0, 1.0, 1.0, 1.0, 1.0, 1.0, 1.0, 1.0, 1.0, 1.0, 1.0, 1.0, 1.0, 1.0, 1.0, 1.0, 1.0, 1.0, 1.0, 1.0], \"median\": 1.0, \"numeric\": true, \"num_unique\": 2, \"num_undefined\": 0, \"var\": 0.21172022684310016, \"progress\": 1.0, \"size\": 23, \"frequent_items\": {\"0\": {\"frequency\": 7, \"value\": 0}, \"1\": {\"frequency\": 16, \"value\": 1}}, \"mean\": 0.6956521739130435}, \"selected_variable\": {\"name\": [\"<SArray>\"], \"dtype\": \"int\", \"view_component\": \"Numeric\", \"view_file\": \"sarray\", \"descriptives\": {\"rows\": 23}, \"type\": \"SArray\", \"view_components\": [\"Numeric\", \"Categorical\"]}, \"histogram\": {\"progress\": 1.0, \"histogram\": {\"max\": 1.0075600000000002, \"bins\": [7, 0, 0, 0, 0, 0, 0, 0, 0, 0, 0, 16], \"min\": -0.006200000000008199}, \"min\": 0, \"complete\": 1, \"max\": 1}}, e);\n",
       "                });\n",
       "            })();\n",
       "        "
      ]
     },
     "metadata": {},
     "output_type": "display_data"
    },
    {
     "name": "stdout",
     "output_type": "stream",
     "text": [
      "None\n"
     ]
    }
   ],
   "source": [
    "print p1['target'].show()"
   ]
  },
  {
   "cell_type": "code",
   "execution_count": 88,
   "metadata": {},
   "outputs": [
    {
     "data": {
      "application/javascript": [
       "$(\"head\").append($(\"<link/>\").attr({\n",
       "  rel:  \"stylesheet\",\n",
       "  type: \"text/css\",\n",
       "  href: \"//cdnjs.cloudflare.com/ajax/libs/font-awesome/4.1.0/css/font-awesome.min.css\"\n",
       "}));\n",
       "$(\"head\").append($(\"<link/>\").attr({\n",
       "  rel:  \"stylesheet\",\n",
       "  type: \"text/css\",\n",
       "  href: \"https://static.turi.com/products/graphlab-create/2.1/canvas/css/canvas.css\"\n",
       "}));\n",
       "\n",
       "            (function(){\n",
       "\n",
       "                var e = null;\n",
       "                if (typeof element == 'undefined') {\n",
       "                    var scripts = document.getElementsByTagName('script');\n",
       "                    var thisScriptTag = scripts[scripts.length-1];\n",
       "                    var parentDiv = thisScriptTag.parentNode;\n",
       "                    e = document.createElement('div');\n",
       "                    parentDiv.appendChild(e);\n",
       "                } else {\n",
       "                    e = element[0];\n",
       "                }\n",
       "\n",
       "                if (typeof requirejs !== 'undefined') {\n",
       "                    // disable load timeout; ipython_app.js is large and can take a while to load.\n",
       "                    requirejs.config({waitSeconds: 0});\n",
       "                }\n",
       "\n",
       "                require(['https://static.turi.com/products/graphlab-create/2.1/canvas/js/ipython_app.js'], function(IPythonApp){\n",
       "                    var app = new IPythonApp();\n",
       "                    app.attachView('sarray','Numeric', {\"ipython\": true, \"sketch\": {\"std\": 0.2537117742555601, \"complete\": true, \"min\": -0.11698538923765112, \"max\": 0.9383900896832116, \"quantile\": [-0.11698538923765112, -0.11698538923765112, -0.11698538923765112, -0.11698538923765112, -0.11698538923765112, 0.05284903097136695, 0.05284903097136695, 0.05284903097136695, 0.05284903097136695, 0.23861604306048456, 0.23861604306048456, 0.23861604306048456, 0.23861604306048456, 0.23861604306048456, 0.29645350663051573, 0.29645350663051573, 0.29645350663051573, 0.29645350663051573, 0.3070565211985805, 0.3070565211985805, 0.3070565211985805, 0.3070565211985805, 0.3070565211985805, 0.3070565211985805, 0.3070565211985805, 0.3070565211985805, 0.3070565211985805, 0.36571978817409134, 0.36571978817409134, 0.36571978817409134, 0.36571978817409134, 0.40482863282443193, 0.40482863282443193, 0.40482863282443193, 0.40482863282443193, 0.41822767443208786, 0.41822767443208786, 0.41822767443208786, 0.41822767443208786, 0.41822767443208786, 0.4271790821891933, 0.4271790821891933, 0.4271790821891933, 0.4271790821891933, 0.5053967714898744, 0.5053967714898744, 0.5053967714898744, 0.5053967714898744, 0.544505616140215, 0.544505616140215, 0.544505616140215, 0.544505616140215, 0.544505616140215, 0.5827886573850758, 0.5827886573850758, 0.5827886573850758, 0.5827886573850758, 0.636122347048552, 0.636122347048552, 0.636122347048552, 0.636122347048552, 0.6716093612538218, 0.6716093612538218, 0.6716093612538218, 0.6716093612538218, 0.6716093612538218, 0.6752311916988926, 0.6752311916988926, 0.6752311916988926, 0.6752311916988926, 0.7143400363492332, 0.7143400363492332, 0.7143400363492332, 0.7143400363492332, 0.7241172475118183, 0.7241172475118183, 0.7241172475118183, 0.7241172475118183, 0.7241172475118183, 0.7338944586744034, 0.7338944586744034, 0.7338944586744034, 0.7338944586744034, 0.7338944586744034, 0.7338944586744034, 0.7338944586744034, 0.7338944586744034, 0.8121121479750845, 0.8121121479750845, 0.8121121479750845, 0.8121121479750845, 0.8121121479750845, 0.8121121479750845, 0.8121121479750845, 0.8121121479750845, 0.8121121479750845, 0.9383900896832116, 0.9383900896832116, 0.9383900896832116, 0.9383900896832116, 0.9383900896832116], \"median\": 0.544505616140215, \"numeric\": true, \"num_unique\": 20, \"num_undefined\": 0, \"var\": 0.06436966439590427, \"progress\": 1.0, \"size\": 23, \"frequent_items\": {\"0.36571978817409134\": {\"frequency\": 1, \"value\": 0.36571978817409134}, \"0.636122347048552\": {\"frequency\": 1, \"value\": 0.636122347048552}, \"0.29645350663051573\": {\"frequency\": 1, \"value\": 0.29645350663051573}, \"0.6752311916988926\": {\"frequency\": 1, \"value\": 0.6752311916988926}, \"0.5053967714898744\": {\"frequency\": 1, \"value\": 0.5053967714898744}, \"0.41822767443208786\": {\"frequency\": 1, \"value\": 0.41822767443208786}, \"0.6716093612538218\": {\"frequency\": 1, \"value\": 0.6716093612538218}, \"0.23861604306048456\": {\"frequency\": 1, \"value\": 0.23861604306048456}, \"0.7143400363492332\": {\"frequency\": 1, \"value\": 0.7143400363492332}, \"0.7338944586744034\": {\"frequency\": 2, \"value\": 0.7338944586744034}, \"-0.11698538923765112\": {\"frequency\": 1, \"value\": -0.11698538923765112}, \"0.05284903097136695\": {\"frequency\": 1, \"value\": 0.05284903097136695}, \"0.3070565211985805\": {\"frequency\": 2, \"value\": 0.3070565211985805}, \"0.8121121479750845\": {\"frequency\": 2, \"value\": 0.8121121479750845}, \"0.5827886573850758\": {\"frequency\": 1, \"value\": 0.5827886573850758}, \"0.544505616140215\": {\"frequency\": 1, \"value\": 0.544505616140215}, \"0.4271790821891933\": {\"frequency\": 1, \"value\": 0.4271790821891933}, \"0.7241172475118183\": {\"frequency\": 1, \"value\": 0.7241172475118183}, \"0.9383900896832116\": {\"frequency\": 1, \"value\": 0.9383900896832116}, \"0.40482863282443193\": {\"frequency\": 1, \"value\": 0.40482863282443193}}, \"mean\": 0.5124137366652761}, \"selected_variable\": {\"name\": [\"<SArray>\"], \"dtype\": \"float\", \"view_component\": \"Numeric\", \"view_file\": \"sarray\", \"descriptives\": {\"rows\": 23}, \"type\": \"SArray\", \"view_components\": [\"Numeric\", \"Categorical\"]}, \"histogram\": {\"progress\": 1.0, \"histogram\": {\"max\": 0.9477687912668457, \"bins\": [1, 1, 0, 0, 4, 2, 2, 3, 3, 4, 2, 1], \"min\": -0.12209663934841863}, \"min\": -0.11698538923765112, \"complete\": 1, \"max\": 0.9383900896832116}}, e);\n",
       "                });\n",
       "            })();\n",
       "        "
      ]
     },
     "metadata": {},
     "output_type": "display_data"
    },
    {
     "name": "stdout",
     "output_type": "stream",
     "text": [
      "None\n"
     ]
    }
   ],
   "source": [
    "print (my_features_model.predict(p1)).show() # prediction of p1 according to the my_features_model"
   ]
  },
  {
   "cell_type": "code",
   "execution_count": 89,
   "metadata": {},
   "outputs": [
    {
     "data": {
      "application/javascript": [
       "$(\"head\").append($(\"<link/>\").attr({\n",
       "  rel:  \"stylesheet\",\n",
       "  type: \"text/css\",\n",
       "  href: \"//cdnjs.cloudflare.com/ajax/libs/font-awesome/4.1.0/css/font-awesome.min.css\"\n",
       "}));\n",
       "$(\"head\").append($(\"<link/>\").attr({\n",
       "  rel:  \"stylesheet\",\n",
       "  type: \"text/css\",\n",
       "  href: \"https://static.turi.com/products/graphlab-create/2.1/canvas/css/canvas.css\"\n",
       "}));\n",
       "\n",
       "            (function(){\n",
       "\n",
       "                var e = null;\n",
       "                if (typeof element == 'undefined') {\n",
       "                    var scripts = document.getElementsByTagName('script');\n",
       "                    var thisScriptTag = scripts[scripts.length-1];\n",
       "                    var parentDiv = thisScriptTag.parentNode;\n",
       "                    e = document.createElement('div');\n",
       "                    parentDiv.appendChild(e);\n",
       "                } else {\n",
       "                    e = element[0];\n",
       "                }\n",
       "\n",
       "                if (typeof requirejs !== 'undefined') {\n",
       "                    // disable load timeout; ipython_app.js is large and can take a while to load.\n",
       "                    requirejs.config({waitSeconds: 0});\n",
       "                }\n",
       "\n",
       "                require(['https://static.turi.com/products/graphlab-create/2.1/canvas/js/ipython_app.js'], function(IPythonApp){\n",
       "                    var app = new IPythonApp();\n",
       "                    app.attachView('sarray','Numeric', {\"ipython\": true, \"sketch\": {\"std\": 0.20431983457340241, \"complete\": true, \"min\": 0.4943991260963152, \"max\": 1.3292741737615446, \"quantile\": [0.4943991260963152, 0.4943991260963152, 0.4943991260963152, 0.4943991260963152, 0.4943991260963152, 0.5164258526604306, 0.5164258526604306, 0.5164258526604306, 0.5164258526604306, 0.5520068430481877, 0.5520068430481877, 0.5520068430481877, 0.5520068430481877, 0.5520068430481877, 0.5837764826235685, 0.5837764826235685, 0.5837764826235685, 0.5837764826235685, 0.6903117329428139, 0.6903117329428139, 0.6903117329428139, 0.6903117329428139, 0.7529613833701648, 0.7529613833701648, 0.7529613833701648, 0.7529613833701648, 0.7529613833701648, 0.7743701948692195, 0.7743701948692195, 0.7743701948692195, 0.7743701948692195, 0.7751265904969645, 0.7751265904969645, 0.7751265904969645, 0.7751265904969645, 0.8367993255267157, 0.8367993255267157, 0.8367993255267157, 0.8367993255267157, 0.8367993255267157, 0.8595478275779047, 0.8595478275779047, 0.8595478275779047, 0.8595478275779047, 0.871623920286728, 0.871623920286728, 0.871623920286728, 0.871623920286728, 0.8967056020354749, 0.8967056020354749, 0.8967056020354749, 0.8967056020354749, 0.8967056020354749, 0.9025039311386984, 0.9025039311386984, 0.9025039311386984, 0.9025039311386984, 0.9048717309769274, 0.9048717309769274, 0.9048717309769274, 0.9048717309769274, 0.9209962680158058, 0.9209962680158058, 0.9209962680158058, 0.9209962680158058, 0.9209962680158058, 0.9379464409637714, 0.9379464409637714, 0.9379464409637714, 0.9379464409637714, 0.9652574419880628, 0.9652574419880628, 0.9652574419880628, 0.9652574419880628, 0.9827562897197468, 0.9827562897197468, 0.9827562897197468, 0.9827562897197468, 0.9827562897197468, 1.014098425003758, 1.014098425003758, 1.014098425003758, 1.014098425003758, 1.0606408484625662, 1.0606408484625662, 1.0606408484625662, 1.0606408484625662, 1.0762513308583972, 1.0762513308583972, 1.0762513308583972, 1.0762513308583972, 1.0762513308583972, 1.1920839435046908, 1.1920839435046908, 1.1920839435046908, 1.1920839435046908, 1.3292741737615446, 1.3292741737615446, 1.3292741737615446, 1.3292741737615446, 1.3292741737615446], \"median\": 0.8967056020354749, \"numeric\": true, \"num_unique\": 23, \"num_undefined\": 0, \"var\": 0.041746594800102524, \"progress\": 1.0, \"size\": 23, \"frequent_items\": {\"0.7743701948692195\": {\"frequency\": 1, \"value\": 0.7743701948692195}, \"0.9379464409637714\": {\"frequency\": 1, \"value\": 0.9379464409637714}, \"0.5520068430481877\": {\"frequency\": 1, \"value\": 0.5520068430481877}, \"0.6903117329428139\": {\"frequency\": 1, \"value\": 0.6903117329428139}, \"0.5164258526604306\": {\"frequency\": 1, \"value\": 0.5164258526604306}, \"0.5837764826235685\": {\"frequency\": 1, \"value\": 0.5837764826235685}, \"1.014098425003758\": {\"frequency\": 1, \"value\": 1.014098425003758}, \"0.8367993255267157\": {\"frequency\": 1, \"value\": 0.8367993255267157}, \"0.7751265904969645\": {\"frequency\": 1, \"value\": 0.7751265904969645}, \"1.0606408484625662\": {\"frequency\": 1, \"value\": 1.0606408484625662}, \"0.9209962680158058\": {\"frequency\": 1, \"value\": 0.9209962680158058}, \"0.9025039311386984\": {\"frequency\": 1, \"value\": 0.9025039311386984}, \"0.9048717309769274\": {\"frequency\": 1, \"value\": 0.9048717309769274}, \"1.0762513308583972\": {\"frequency\": 1, \"value\": 1.0762513308583972}, \"0.9827562897197468\": {\"frequency\": 1, \"value\": 0.9827562897197468}, \"0.8595478275779047\": {\"frequency\": 1, \"value\": 0.8595478275779047}, \"0.8967056020354749\": {\"frequency\": 1, \"value\": 0.8967056020354749}, \"0.9652574419880628\": {\"frequency\": 1, \"value\": 0.9652574419880628}, \"0.7529613833701648\": {\"frequency\": 1, \"value\": 0.7529613833701648}, \"0.871623920286728\": {\"frequency\": 1, \"value\": 0.871623920286728}, \"0.4943991260963152\": {\"frequency\": 1, \"value\": 0.4943991260963152}, \"1.1920839435046908\": {\"frequency\": 1, \"value\": 1.1920839435046908}, \"1.3292741737615446\": {\"frequency\": 1, \"value\": 1.3292741737615446}}, \"mean\": 0.8648145959099329}, \"selected_variable\": {\"name\": [\"<SArray>\"], \"dtype\": \"float\", \"view_component\": \"Numeric\", \"view_file\": \"sarray\", \"descriptives\": {\"rows\": 23}, \"type\": \"SArray\", \"view_components\": [\"Numeric\", \"Categorical\"]}, \"histogram\": {\"progress\": 1.0, \"histogram\": {\"max\": 1.334326391834339, \"bins\": [3, 1, 1, 1, 3, 5, 3, 2, 2, 1, 0, 1], \"min\": 0.4892116499669809}, \"min\": 0.4943991260963152, \"complete\": 1, \"max\": 1.3292741737615446}}, e);\n",
       "                });\n",
       "            })();\n",
       "        "
      ]
     },
     "metadata": {},
     "output_type": "display_data"
    },
    {
     "name": "stdout",
     "output_type": "stream",
     "text": [
      "None\n"
     ]
    }
   ],
   "source": [
    "print (model1.predict(p1)).show() "
   ]
  },
  {
   "cell_type": "code",
   "execution_count": 92,
   "metadata": {},
   "outputs": [
    {
     "name": "stdout",
     "output_type": "stream",
     "text": [
      "+-----------------+-------+--------------------+-------------------+\n",
      "|       name      | index |       value        |       stderr      |\n",
      "+-----------------+-------+--------------------+-------------------+\n",
      "|   (intercept)   |  None |   1.69746791704    |   0.251259526297  |\n",
      "|       thal      |  None |  -0.270966504997   |  0.0467748711855  |\n",
      "|     trestbps    |  None | -0.00406575440039  |  0.00155003369603 |\n",
      "|       chol      |  None | -0.000583294924389 | 0.000542052675718 |\n",
      "| chest pain type |  None |   0.163674878966   |  0.0266092121733  |\n",
      "+-----------------+-------+--------------------+-------------------+\n",
      "[5 rows x 4 columns]\n",
      "\n"
     ]
    }
   ],
   "source": [
    "example_weight_summary = model1.get(\"coefficients\")\n",
    "print example_weight_summary # coefficients of model1"
   ]
  },
  {
   "cell_type": "code",
   "execution_count": 94,
   "metadata": {},
   "outputs": [
    {
     "name": "stdout",
     "output_type": "stream",
     "text": [
      "+-------------+-------+------------------+-----------------+\n",
      "|     name    | index |      value       |      stderr     |\n",
      "+-------------+-------+------------------+-----------------+\n",
      "| (intercept) |  None |  1.06466803139   |  0.152629615623 |\n",
      "|   oldpeak   |  None | -0.0977721116259 | 0.0317886238774 |\n",
      "|    slope    |  None |  0.130725575559  | 0.0565620873612 |\n",
      "|     thal    |  None | -0.257003517267  | 0.0481699983159 |\n",
      "+-------------+-------+------------------+-----------------+\n",
      "[4 rows x 4 columns]\n",
      "\n"
     ]
    }
   ],
   "source": [
    "example_weight_summary1 = my_features_model.get(\"coefficients\")\n",
    "print example_weight_summary1"
   ]
  },
  {
   "cell_type": "code",
   "execution_count": 97,
   "metadata": {},
   "outputs": [
    {
     "data": {
      "text/html": [
       "<pre>Linear regression:</pre>"
      ],
      "text/plain": [
       "Linear regression:"
      ]
     },
     "metadata": {},
     "output_type": "display_data"
    },
    {
     "data": {
      "text/html": [
       "<pre>--------------------------------------------------------</pre>"
      ],
      "text/plain": [
       "--------------------------------------------------------"
      ]
     },
     "metadata": {},
     "output_type": "display_data"
    },
    {
     "data": {
      "text/html": [
       "<pre>Number of examples          : 253</pre>"
      ],
      "text/plain": [
       "Number of examples          : 253"
      ]
     },
     "metadata": {},
     "output_type": "display_data"
    },
    {
     "data": {
      "text/html": [
       "<pre>Number of features          : 3</pre>"
      ],
      "text/plain": [
       "Number of features          : 3"
      ]
     },
     "metadata": {},
     "output_type": "display_data"
    },
    {
     "data": {
      "text/html": [
       "<pre>Number of unpacked features : 3</pre>"
      ],
      "text/plain": [
       "Number of unpacked features : 3"
      ]
     },
     "metadata": {},
     "output_type": "display_data"
    },
    {
     "data": {
      "text/html": [
       "<pre>Number of coefficients    : 4</pre>"
      ],
      "text/plain": [
       "Number of coefficients    : 4"
      ]
     },
     "metadata": {},
     "output_type": "display_data"
    },
    {
     "data": {
      "text/html": [
       "<pre>Starting Newton Method</pre>"
      ],
      "text/plain": [
       "Starting Newton Method"
      ]
     },
     "metadata": {},
     "output_type": "display_data"
    },
    {
     "data": {
      "text/html": [
       "<pre>--------------------------------------------------------</pre>"
      ],
      "text/plain": [
       "--------------------------------------------------------"
      ]
     },
     "metadata": {},
     "output_type": "display_data"
    },
    {
     "data": {
      "text/html": [
       "<pre>+-----------+----------+--------------+--------------------+---------------+</pre>"
      ],
      "text/plain": [
       "+-----------+----------+--------------+--------------------+---------------+"
      ]
     },
     "metadata": {},
     "output_type": "display_data"
    },
    {
     "data": {
      "text/html": [
       "<pre>| Iteration | Passes   | Elapsed Time | Training-max_error | Training-rmse |</pre>"
      ],
      "text/plain": [
       "| Iteration | Passes   | Elapsed Time | Training-max_error | Training-rmse |"
      ]
     },
     "metadata": {},
     "output_type": "display_data"
    },
    {
     "data": {
      "text/html": [
       "<pre>+-----------+----------+--------------+--------------------+---------------+</pre>"
      ],
      "text/plain": [
       "+-----------+----------+--------------+--------------------+---------------+"
      ]
     },
     "metadata": {},
     "output_type": "display_data"
    },
    {
     "data": {
      "text/html": [
       "<pre>| 1         | 2        | 0.001379     | 1.136587           | 0.426671      |</pre>"
      ],
      "text/plain": [
       "| 1         | 2        | 0.001379     | 1.136587           | 0.426671      |"
      ]
     },
     "metadata": {},
     "output_type": "display_data"
    },
    {
     "data": {
      "text/html": [
       "<pre>+-----------+----------+--------------+--------------------+---------------+</pre>"
      ],
      "text/plain": [
       "+-----------+----------+--------------+--------------------+---------------+"
      ]
     },
     "metadata": {},
     "output_type": "display_data"
    },
    {
     "data": {
      "text/html": [
       "<pre>SUCCESS: Optimal solution found.</pre>"
      ],
      "text/plain": [
       "SUCCESS: Optimal solution found."
      ]
     },
     "metadata": {},
     "output_type": "display_data"
    },
    {
     "data": {
      "text/html": [
       "<pre></pre>"
      ],
      "text/plain": []
     },
     "metadata": {},
     "output_type": "display_data"
    }
   ],
   "source": [
    "example_model = graphlab.linear_regression.create(trd, target = 'target', features = feat1, \n",
    "                                                  validation_set = None) # model created according to feat1"
   ]
  },
  {
   "cell_type": "code",
   "execution_count": 98,
   "metadata": {},
   "outputs": [
    {
     "name": "stdout",
     "output_type": "stream",
     "text": [
      "+-------------+-------+------------------+-----------------+\n",
      "|     name    | index |      value       |      stderr     |\n",
      "+-------------+-------+------------------+-----------------+\n",
      "| (intercept) |  None |  1.08488655083   |  0.149465799788 |\n",
      "|   oldpeak   |  None | -0.0997052662588 | 0.0309395151653 |\n",
      "|    slope    |  None |  0.135487793443  | 0.0552055723609 |\n",
      "|     thal    |  None | -0.267570505752  |  0.047096936823 |\n",
      "+-------------+-------+------------------+-----------------+\n",
      "[4 rows x 4 columns]\n",
      "\n"
     ]
    }
   ],
   "source": [
    "example_weight_summary = example_model.get(\"coefficients\")\n",
    "print example_weight_summary"
   ]
  },
  {
   "cell_type": "code",
   "execution_count": 99,
   "metadata": {},
   "outputs": [
    {
     "name": "stdout",
     "output_type": "stream",
     "text": [
      "0.587993932684\n"
     ]
    }
   ],
   "source": [
    "example_predictions = example_model.predict(trd)\n",
    "print example_predictions[0]"
   ]
  },
  {
   "cell_type": "code",
   "execution_count": 100,
   "metadata": {
    "collapsed": true
   },
   "outputs": [],
   "source": [
    "def get_residual_sum_of_squares(model, data, outcome):\n",
    "    # First get the predictions\n",
    "    predictions = model.predict(data)\n",
    "    # Then compute the residuals/errors\n",
    "    residuals = outcome - predictions\n",
    "    # Then square and add them up\n",
    "    RSS = (residuals * residuals).sum()\n",
    "    return(RSS)    "
   ]
  },
  {
   "cell_type": "code",
   "execution_count": 102,
   "metadata": {},
   "outputs": [
    {
     "name": "stdout",
     "output_type": "stream",
     "text": [
      "9.30499489693\n"
     ]
    }
   ],
   "source": [
    "rss_example_train = get_residual_sum_of_squares(example_model, tsd, tsd['target'])\n",
    "print rss_example_train"
   ]
  },
  {
   "cell_type": "code",
   "execution_count": 103,
   "metadata": {
    "collapsed": true
   },
   "outputs": [],
   "source": [
    "from math import log"
   ]
  },
  {
   "cell_type": "code",
   "execution_count": 105,
   "metadata": {},
   "outputs": [],
   "source": [
    "trd['oldpeak_squared'] = trd['oldpeak'].apply(lambda x: x**2) "
   ]
  },
  {
   "cell_type": "code",
   "execution_count": 120,
   "metadata": {},
   "outputs": [],
   "source": [
    "tsd['oldpeak_squared'] = tsd['oldpeak'].apply(lambda x: x**2)\n",
    "trd['thal_thal_lach'] = trd['thal'] * trd['thalach']\n",
    "tsd['thal_thal_lach'] = tsd['trestbps'] * tsd['chol']\n",
    "trd['rest_num_chest'] = trd['restecg'] + trd['num_major_vessels']+trd['chest pain type']\n",
    "tsd['rest_num_chest'] = tsd['restecg'] + tsd['num_major_vessels']+tsd['chest pain type']\n",
    "# a separate list of a combination of features are generated (training and test dataset) to give a more detailed insight"
   ]
  },
  {
   "cell_type": "code",
   "execution_count": 121,
   "metadata": {
    "collapsed": true
   },
   "outputs": [],
   "source": [
    "trd['trest_chol'] = trd['trestbps'] * trd['chol']\n",
    "tsd['trest_chol'] = tsd['trestbps'] * tsd['chol']\n",
    "# these datasets are according to trestbps and cholestrol"
   ]
  },
  {
   "cell_type": "code",
   "execution_count": 122,
   "metadata": {},
   "outputs": [
    {
     "data": {
      "text/html": [
       "<div style=\"max-height:1000px;max-width:1500px;overflow:auto;\"><table frame=\"box\" rules=\"cols\">\n",
       "    <tr>\n",
       "        <th style=\"padding-left: 1em; padding-right: 1em; text-align: center\">oldpeak</th>\n",
       "        <th style=\"padding-left: 1em; padding-right: 1em; text-align: center\">oldpeak_squared</th>\n",
       "        <th style=\"padding-left: 1em; padding-right: 1em; text-align: center\">thal_thal_lach</th>\n",
       "        <th style=\"padding-left: 1em; padding-right: 1em; text-align: center\">restecg</th>\n",
       "        <th style=\"padding-left: 1em; padding-right: 1em; text-align: center\">num_major_vessels</th>\n",
       "        <th style=\"padding-left: 1em; padding-right: 1em; text-align: center\">chest pain type</th>\n",
       "        <th style=\"padding-left: 1em; padding-right: 1em; text-align: center\">rest_num_chest</th>\n",
       "        <th style=\"padding-left: 1em; padding-right: 1em; text-align: center\">trestbps</th>\n",
       "    </tr>\n",
       "    <tr>\n",
       "        <td style=\"padding-left: 1em; padding-right: 1em; text-align: center; vertical-align: top\">2.3</td>\n",
       "        <td style=\"padding-left: 1em; padding-right: 1em; text-align: center; vertical-align: top\">5.29</td>\n",
       "        <td style=\"padding-left: 1em; padding-right: 1em; text-align: center; vertical-align: top\">150</td>\n",
       "        <td style=\"padding-left: 1em; padding-right: 1em; text-align: center; vertical-align: top\">0</td>\n",
       "        <td style=\"padding-left: 1em; padding-right: 1em; text-align: center; vertical-align: top\">0</td>\n",
       "        <td style=\"padding-left: 1em; padding-right: 1em; text-align: center; vertical-align: top\">3</td>\n",
       "        <td style=\"padding-left: 1em; padding-right: 1em; text-align: center; vertical-align: top\">3</td>\n",
       "        <td style=\"padding-left: 1em; padding-right: 1em; text-align: center; vertical-align: top\">145</td>\n",
       "    </tr>\n",
       "    <tr>\n",
       "        <td style=\"padding-left: 1em; padding-right: 1em; text-align: center; vertical-align: top\">3.5</td>\n",
       "        <td style=\"padding-left: 1em; padding-right: 1em; text-align: center; vertical-align: top\">12.25</td>\n",
       "        <td style=\"padding-left: 1em; padding-right: 1em; text-align: center; vertical-align: top\">374</td>\n",
       "        <td style=\"padding-left: 1em; padding-right: 1em; text-align: center; vertical-align: top\">1</td>\n",
       "        <td style=\"padding-left: 1em; padding-right: 1em; text-align: center; vertical-align: top\">0</td>\n",
       "        <td style=\"padding-left: 1em; padding-right: 1em; text-align: center; vertical-align: top\">2</td>\n",
       "        <td style=\"padding-left: 1em; padding-right: 1em; text-align: center; vertical-align: top\">3</td>\n",
       "        <td style=\"padding-left: 1em; padding-right: 1em; text-align: center; vertical-align: top\">130</td>\n",
       "    </tr>\n",
       "    <tr>\n",
       "        <td style=\"padding-left: 1em; padding-right: 1em; text-align: center; vertical-align: top\">1.4</td>\n",
       "        <td style=\"padding-left: 1em; padding-right: 1em; text-align: center; vertical-align: top\">1.96</td>\n",
       "        <td style=\"padding-left: 1em; padding-right: 1em; text-align: center; vertical-align: top\">344</td>\n",
       "        <td style=\"padding-left: 1em; padding-right: 1em; text-align: center; vertical-align: top\">0</td>\n",
       "        <td style=\"padding-left: 1em; padding-right: 1em; text-align: center; vertical-align: top\">0</td>\n",
       "        <td style=\"padding-left: 1em; padding-right: 1em; text-align: center; vertical-align: top\">1</td>\n",
       "        <td style=\"padding-left: 1em; padding-right: 1em; text-align: center; vertical-align: top\">1</td>\n",
       "        <td style=\"padding-left: 1em; padding-right: 1em; text-align: center; vertical-align: top\">130</td>\n",
       "    </tr>\n",
       "    <tr>\n",
       "        <td style=\"padding-left: 1em; padding-right: 1em; text-align: center; vertical-align: top\">0.8</td>\n",
       "        <td style=\"padding-left: 1em; padding-right: 1em; text-align: center; vertical-align: top\">0.64</td>\n",
       "        <td style=\"padding-left: 1em; padding-right: 1em; text-align: center; vertical-align: top\">356</td>\n",
       "        <td style=\"padding-left: 1em; padding-right: 1em; text-align: center; vertical-align: top\">1</td>\n",
       "        <td style=\"padding-left: 1em; padding-right: 1em; text-align: center; vertical-align: top\">0</td>\n",
       "        <td style=\"padding-left: 1em; padding-right: 1em; text-align: center; vertical-align: top\">1</td>\n",
       "        <td style=\"padding-left: 1em; padding-right: 1em; text-align: center; vertical-align: top\">2</td>\n",
       "        <td style=\"padding-left: 1em; padding-right: 1em; text-align: center; vertical-align: top\">120</td>\n",
       "    </tr>\n",
       "    <tr>\n",
       "        <td style=\"padding-left: 1em; padding-right: 1em; text-align: center; vertical-align: top\">0.6</td>\n",
       "        <td style=\"padding-left: 1em; padding-right: 1em; text-align: center; vertical-align: top\">0.36</td>\n",
       "        <td style=\"padding-left: 1em; padding-right: 1em; text-align: center; vertical-align: top\">326</td>\n",
       "        <td style=\"padding-left: 1em; padding-right: 1em; text-align: center; vertical-align: top\">1</td>\n",
       "        <td style=\"padding-left: 1em; padding-right: 1em; text-align: center; vertical-align: top\">0</td>\n",
       "        <td style=\"padding-left: 1em; padding-right: 1em; text-align: center; vertical-align: top\">0</td>\n",
       "        <td style=\"padding-left: 1em; padding-right: 1em; text-align: center; vertical-align: top\">1</td>\n",
       "        <td style=\"padding-left: 1em; padding-right: 1em; text-align: center; vertical-align: top\">120</td>\n",
       "    </tr>\n",
       "    <tr>\n",
       "        <td style=\"padding-left: 1em; padding-right: 1em; text-align: center; vertical-align: top\">0.4</td>\n",
       "        <td style=\"padding-left: 1em; padding-right: 1em; text-align: center; vertical-align: top\">0.16</td>\n",
       "        <td style=\"padding-left: 1em; padding-right: 1em; text-align: center; vertical-align: top\">148</td>\n",
       "        <td style=\"padding-left: 1em; padding-right: 1em; text-align: center; vertical-align: top\">1</td>\n",
       "        <td style=\"padding-left: 1em; padding-right: 1em; text-align: center; vertical-align: top\">0</td>\n",
       "        <td style=\"padding-left: 1em; padding-right: 1em; text-align: center; vertical-align: top\">0</td>\n",
       "        <td style=\"padding-left: 1em; padding-right: 1em; text-align: center; vertical-align: top\">1</td>\n",
       "        <td style=\"padding-left: 1em; padding-right: 1em; text-align: center; vertical-align: top\">140</td>\n",
       "    </tr>\n",
       "    <tr>\n",
       "        <td style=\"padding-left: 1em; padding-right: 1em; text-align: center; vertical-align: top\">1.3</td>\n",
       "        <td style=\"padding-left: 1em; padding-right: 1em; text-align: center; vertical-align: top\">1.69</td>\n",
       "        <td style=\"padding-left: 1em; padding-right: 1em; text-align: center; vertical-align: top\">306</td>\n",
       "        <td style=\"padding-left: 1em; padding-right: 1em; text-align: center; vertical-align: top\">0</td>\n",
       "        <td style=\"padding-left: 1em; padding-right: 1em; text-align: center; vertical-align: top\">0</td>\n",
       "        <td style=\"padding-left: 1em; padding-right: 1em; text-align: center; vertical-align: top\">1</td>\n",
       "        <td style=\"padding-left: 1em; padding-right: 1em; text-align: center; vertical-align: top\">1</td>\n",
       "        <td style=\"padding-left: 1em; padding-right: 1em; text-align: center; vertical-align: top\">140</td>\n",
       "    </tr>\n",
       "    <tr>\n",
       "        <td style=\"padding-left: 1em; padding-right: 1em; text-align: center; vertical-align: top\">0.0</td>\n",
       "        <td style=\"padding-left: 1em; padding-right: 1em; text-align: center; vertical-align: top\">0.0</td>\n",
       "        <td style=\"padding-left: 1em; padding-right: 1em; text-align: center; vertical-align: top\">519</td>\n",
       "        <td style=\"padding-left: 1em; padding-right: 1em; text-align: center; vertical-align: top\">1</td>\n",
       "        <td style=\"padding-left: 1em; padding-right: 1em; text-align: center; vertical-align: top\">0</td>\n",
       "        <td style=\"padding-left: 1em; padding-right: 1em; text-align: center; vertical-align: top\">1</td>\n",
       "        <td style=\"padding-left: 1em; padding-right: 1em; text-align: center; vertical-align: top\">2</td>\n",
       "        <td style=\"padding-left: 1em; padding-right: 1em; text-align: center; vertical-align: top\">120</td>\n",
       "    </tr>\n",
       "    <tr>\n",
       "        <td style=\"padding-left: 1em; padding-right: 1em; text-align: center; vertical-align: top\">0.5</td>\n",
       "        <td style=\"padding-left: 1em; padding-right: 1em; text-align: center; vertical-align: top\">0.25</td>\n",
       "        <td style=\"padding-left: 1em; padding-right: 1em; text-align: center; vertical-align: top\">486</td>\n",
       "        <td style=\"padding-left: 1em; padding-right: 1em; text-align: center; vertical-align: top\">1</td>\n",
       "        <td style=\"padding-left: 1em; padding-right: 1em; text-align: center; vertical-align: top\">0</td>\n",
       "        <td style=\"padding-left: 1em; padding-right: 1em; text-align: center; vertical-align: top\">2</td>\n",
       "        <td style=\"padding-left: 1em; padding-right: 1em; text-align: center; vertical-align: top\">3</td>\n",
       "        <td style=\"padding-left: 1em; padding-right: 1em; text-align: center; vertical-align: top\">172</td>\n",
       "    </tr>\n",
       "    <tr>\n",
       "        <td style=\"padding-left: 1em; padding-right: 1em; text-align: center; vertical-align: top\">1.6</td>\n",
       "        <td style=\"padding-left: 1em; padding-right: 1em; text-align: center; vertical-align: top\">2.56</td>\n",
       "        <td style=\"padding-left: 1em; padding-right: 1em; text-align: center; vertical-align: top\">348</td>\n",
       "        <td style=\"padding-left: 1em; padding-right: 1em; text-align: center; vertical-align: top\">1</td>\n",
       "        <td style=\"padding-left: 1em; padding-right: 1em; text-align: center; vertical-align: top\">0</td>\n",
       "        <td style=\"padding-left: 1em; padding-right: 1em; text-align: center; vertical-align: top\">2</td>\n",
       "        <td style=\"padding-left: 1em; padding-right: 1em; text-align: center; vertical-align: top\">3</td>\n",
       "        <td style=\"padding-left: 1em; padding-right: 1em; text-align: center; vertical-align: top\">150</td>\n",
       "    </tr>\n",
       "</table>\n",
       "<table frame=\"box\" rules=\"cols\">\n",
       "    <tr>\n",
       "        <th style=\"padding-left: 1em; padding-right: 1em; text-align: center\">chol</th>\n",
       "        <th style=\"padding-left: 1em; padding-right: 1em; text-align: center\">trest_chol</th>\n",
       "    </tr>\n",
       "    <tr>\n",
       "        <td style=\"padding-left: 1em; padding-right: 1em; text-align: center; vertical-align: top\">233</td>\n",
       "        <td style=\"padding-left: 1em; padding-right: 1em; text-align: center; vertical-align: top\">33785</td>\n",
       "    </tr>\n",
       "    <tr>\n",
       "        <td style=\"padding-left: 1em; padding-right: 1em; text-align: center; vertical-align: top\">250</td>\n",
       "        <td style=\"padding-left: 1em; padding-right: 1em; text-align: center; vertical-align: top\">32500</td>\n",
       "    </tr>\n",
       "    <tr>\n",
       "        <td style=\"padding-left: 1em; padding-right: 1em; text-align: center; vertical-align: top\">204</td>\n",
       "        <td style=\"padding-left: 1em; padding-right: 1em; text-align: center; vertical-align: top\">26520</td>\n",
       "    </tr>\n",
       "    <tr>\n",
       "        <td style=\"padding-left: 1em; padding-right: 1em; text-align: center; vertical-align: top\">236</td>\n",
       "        <td style=\"padding-left: 1em; padding-right: 1em; text-align: center; vertical-align: top\">28320</td>\n",
       "    </tr>\n",
       "    <tr>\n",
       "        <td style=\"padding-left: 1em; padding-right: 1em; text-align: center; vertical-align: top\">354</td>\n",
       "        <td style=\"padding-left: 1em; padding-right: 1em; text-align: center; vertical-align: top\">42480</td>\n",
       "    </tr>\n",
       "    <tr>\n",
       "        <td style=\"padding-left: 1em; padding-right: 1em; text-align: center; vertical-align: top\">192</td>\n",
       "        <td style=\"padding-left: 1em; padding-right: 1em; text-align: center; vertical-align: top\">26880</td>\n",
       "    </tr>\n",
       "    <tr>\n",
       "        <td style=\"padding-left: 1em; padding-right: 1em; text-align: center; vertical-align: top\">294</td>\n",
       "        <td style=\"padding-left: 1em; padding-right: 1em; text-align: center; vertical-align: top\">41160</td>\n",
       "    </tr>\n",
       "    <tr>\n",
       "        <td style=\"padding-left: 1em; padding-right: 1em; text-align: center; vertical-align: top\">263</td>\n",
       "        <td style=\"padding-left: 1em; padding-right: 1em; text-align: center; vertical-align: top\">31560</td>\n",
       "    </tr>\n",
       "    <tr>\n",
       "        <td style=\"padding-left: 1em; padding-right: 1em; text-align: center; vertical-align: top\">199</td>\n",
       "        <td style=\"padding-left: 1em; padding-right: 1em; text-align: center; vertical-align: top\">34228</td>\n",
       "    </tr>\n",
       "    <tr>\n",
       "        <td style=\"padding-left: 1em; padding-right: 1em; text-align: center; vertical-align: top\">168</td>\n",
       "        <td style=\"padding-left: 1em; padding-right: 1em; text-align: center; vertical-align: top\">25200</td>\n",
       "    </tr>\n",
       "</table>\n",
       "[10 rows x 10 columns]<br/>\n",
       "</div>"
      ],
      "text/plain": [
       "Columns:\n",
       "\toldpeak\tfloat\n",
       "\toldpeak_squared\tfloat\n",
       "\tthal_thal_lach\tint\n",
       "\trestecg\tint\n",
       "\tnum_major_vessels\tint\n",
       "\tchest pain type\tint\n",
       "\trest_num_chest\tint\n",
       "\ttrestbps\tint\n",
       "\tchol\tint\n",
       "\ttrest_chol\tint\n",
       "\n",
       "Rows: 10\n",
       "\n",
       "Data:\n",
       "+---------+-----------------+----------------+---------+-------------------+-----------------+\n",
       "| oldpeak | oldpeak_squared | thal_thal_lach | restecg | num_major_vessels | chest pain type |\n",
       "+---------+-----------------+----------------+---------+-------------------+-----------------+\n",
       "|   2.3   |       5.29      |      150       |    0    |         0         |        3        |\n",
       "|   3.5   |      12.25      |      374       |    1    |         0         |        2        |\n",
       "|   1.4   |       1.96      |      344       |    0    |         0         |        1        |\n",
       "|   0.8   |       0.64      |      356       |    1    |         0         |        1        |\n",
       "|   0.6   |       0.36      |      326       |    1    |         0         |        0        |\n",
       "|   0.4   |       0.16      |      148       |    1    |         0         |        0        |\n",
       "|   1.3   |       1.69      |      306       |    0    |         0         |        1        |\n",
       "|   0.0   |       0.0       |      519       |    1    |         0         |        1        |\n",
       "|   0.5   |       0.25      |      486       |    1    |         0         |        2        |\n",
       "|   1.6   |       2.56      |      348       |    1    |         0         |        2        |\n",
       "+---------+-----------------+----------------+---------+-------------------+-----------------+\n",
       "+----------------+----------+------+------------+\n",
       "| rest_num_chest | trestbps | chol | trest_chol |\n",
       "+----------------+----------+------+------------+\n",
       "|       3        |   145    | 233  |   33785    |\n",
       "|       3        |   130    | 250  |   32500    |\n",
       "|       1        |   130    | 204  |   26520    |\n",
       "|       2        |   120    | 236  |   28320    |\n",
       "|       1        |   120    | 354  |   42480    |\n",
       "|       1        |   140    | 192  |   26880    |\n",
       "|       1        |   140    | 294  |   41160    |\n",
       "|       2        |   120    | 263  |   31560    |\n",
       "|       3        |   172    | 199  |   34228    |\n",
       "|       3        |   150    | 168  |   25200    |\n",
       "+----------------+----------+------+------------+\n",
       "[10 rows x 10 columns]"
      ]
     },
     "execution_count": 122,
     "metadata": {},
     "output_type": "execute_result"
    }
   ],
   "source": [
    "trd[['oldpeak','oldpeak_squared','thal_thal_lach','restecg','num_major_vessels','chest pain type','rest_num_chest','trestbps','chol','trest_chol']].head()"
   ]
  },
  {
   "cell_type": "code",
   "execution_count": 123,
   "metadata": {},
   "outputs": [
    {
     "name": "stdout",
     "output_type": "stream",
     "text": [
      "3.7258\n",
      "32865.68\n",
      "2.04\n",
      "32865.68\n"
     ]
    }
   ],
   "source": [
    "print tsd['oldpeak_squared'].mean()\n",
    "print tsd['thal_thal_lach'].mean()\n",
    "print tsd['rest_num_chest'].mean()\n",
    "print tsd['trest_chol'].mean()\n",
    "# mean of these combinational features are obtained"
   ]
  },
  {
   "cell_type": "code",
   "execution_count": 124,
   "metadata": {
    "collapsed": true
   },
   "outputs": [],
   "source": [
    "model_1_features = ['sex', 'oldpeak', 'chest pain type']\n",
    "model_2_features = model_1_features + ['restecg']\n",
    "model_3_features = model_2_features + ['trest_chol', 'rest_num_chest']\n",
    "# we create model_1...add an additional feature in model_2...and another in model_3"
   ]
  },
  {
   "cell_type": "code",
   "execution_count": 126,
   "metadata": {},
   "outputs": [
    {
     "data": {
      "text/html": [
       "<pre>Linear regression:</pre>"
      ],
      "text/plain": [
       "Linear regression:"
      ]
     },
     "metadata": {},
     "output_type": "display_data"
    },
    {
     "data": {
      "text/html": [
       "<pre>--------------------------------------------------------</pre>"
      ],
      "text/plain": [
       "--------------------------------------------------------"
      ]
     },
     "metadata": {},
     "output_type": "display_data"
    },
    {
     "data": {
      "text/html": [
       "<pre>Number of examples          : 253</pre>"
      ],
      "text/plain": [
       "Number of examples          : 253"
      ]
     },
     "metadata": {},
     "output_type": "display_data"
    },
    {
     "data": {
      "text/html": [
       "<pre>Number of features          : 3</pre>"
      ],
      "text/plain": [
       "Number of features          : 3"
      ]
     },
     "metadata": {},
     "output_type": "display_data"
    },
    {
     "data": {
      "text/html": [
       "<pre>Number of unpacked features : 3</pre>"
      ],
      "text/plain": [
       "Number of unpacked features : 3"
      ]
     },
     "metadata": {},
     "output_type": "display_data"
    },
    {
     "data": {
      "text/html": [
       "<pre>Number of coefficients    : 4</pre>"
      ],
      "text/plain": [
       "Number of coefficients    : 4"
      ]
     },
     "metadata": {},
     "output_type": "display_data"
    },
    {
     "data": {
      "text/html": [
       "<pre>Starting Newton Method</pre>"
      ],
      "text/plain": [
       "Starting Newton Method"
      ]
     },
     "metadata": {},
     "output_type": "display_data"
    },
    {
     "data": {
      "text/html": [
       "<pre>--------------------------------------------------------</pre>"
      ],
      "text/plain": [
       "--------------------------------------------------------"
      ]
     },
     "metadata": {},
     "output_type": "display_data"
    },
    {
     "data": {
      "text/html": [
       "<pre>+-----------+----------+--------------+--------------------+---------------+</pre>"
      ],
      "text/plain": [
       "+-----------+----------+--------------+--------------------+---------------+"
      ]
     },
     "metadata": {},
     "output_type": "display_data"
    },
    {
     "data": {
      "text/html": [
       "<pre>| Iteration | Passes   | Elapsed Time | Training-max_error | Training-rmse |</pre>"
      ],
      "text/plain": [
       "| Iteration | Passes   | Elapsed Time | Training-max_error | Training-rmse |"
      ]
     },
     "metadata": {},
     "output_type": "display_data"
    },
    {
     "data": {
      "text/html": [
       "<pre>+-----------+----------+--------------+--------------------+---------------+</pre>"
      ],
      "text/plain": [
       "+-----------+----------+--------------+--------------------+---------------+"
      ]
     },
     "metadata": {},
     "output_type": "display_data"
    },
    {
     "data": {
      "text/html": [
       "<pre>| 1         | 2        | 0.001937     | 0.986096           | 0.403249      |</pre>"
      ],
      "text/plain": [
       "| 1         | 2        | 0.001937     | 0.986096           | 0.403249      |"
      ]
     },
     "metadata": {},
     "output_type": "display_data"
    },
    {
     "data": {
      "text/html": [
       "<pre>+-----------+----------+--------------+--------------------+---------------+</pre>"
      ],
      "text/plain": [
       "+-----------+----------+--------------+--------------------+---------------+"
      ]
     },
     "metadata": {},
     "output_type": "display_data"
    },
    {
     "data": {
      "text/html": [
       "<pre>SUCCESS: Optimal solution found.</pre>"
      ],
      "text/plain": [
       "SUCCESS: Optimal solution found."
      ]
     },
     "metadata": {},
     "output_type": "display_data"
    },
    {
     "data": {
      "text/html": [
       "<pre></pre>"
      ],
      "text/plain": []
     },
     "metadata": {},
     "output_type": "display_data"
    },
    {
     "data": {
      "text/html": [
       "<pre>Linear regression:</pre>"
      ],
      "text/plain": [
       "Linear regression:"
      ]
     },
     "metadata": {},
     "output_type": "display_data"
    },
    {
     "data": {
      "text/html": [
       "<pre>--------------------------------------------------------</pre>"
      ],
      "text/plain": [
       "--------------------------------------------------------"
      ]
     },
     "metadata": {},
     "output_type": "display_data"
    },
    {
     "data": {
      "text/html": [
       "<pre>Number of examples          : 253</pre>"
      ],
      "text/plain": [
       "Number of examples          : 253"
      ]
     },
     "metadata": {},
     "output_type": "display_data"
    },
    {
     "data": {
      "text/html": [
       "<pre>Number of features          : 4</pre>"
      ],
      "text/plain": [
       "Number of features          : 4"
      ]
     },
     "metadata": {},
     "output_type": "display_data"
    },
    {
     "data": {
      "text/html": [
       "<pre>Number of unpacked features : 4</pre>"
      ],
      "text/plain": [
       "Number of unpacked features : 4"
      ]
     },
     "metadata": {},
     "output_type": "display_data"
    },
    {
     "data": {
      "text/html": [
       "<pre>Number of coefficients    : 5</pre>"
      ],
      "text/plain": [
       "Number of coefficients    : 5"
      ]
     },
     "metadata": {},
     "output_type": "display_data"
    },
    {
     "data": {
      "text/html": [
       "<pre>Starting Newton Method</pre>"
      ],
      "text/plain": [
       "Starting Newton Method"
      ]
     },
     "metadata": {},
     "output_type": "display_data"
    },
    {
     "data": {
      "text/html": [
       "<pre>--------------------------------------------------------</pre>"
      ],
      "text/plain": [
       "--------------------------------------------------------"
      ]
     },
     "metadata": {},
     "output_type": "display_data"
    },
    {
     "data": {
      "text/html": [
       "<pre>+-----------+----------+--------------+--------------------+---------------+</pre>"
      ],
      "text/plain": [
       "+-----------+----------+--------------+--------------------+---------------+"
      ]
     },
     "metadata": {},
     "output_type": "display_data"
    },
    {
     "data": {
      "text/html": [
       "<pre>| Iteration | Passes   | Elapsed Time | Training-max_error | Training-rmse |</pre>"
      ],
      "text/plain": [
       "| Iteration | Passes   | Elapsed Time | Training-max_error | Training-rmse |"
      ]
     },
     "metadata": {},
     "output_type": "display_data"
    },
    {
     "data": {
      "text/html": [
       "<pre>+-----------+----------+--------------+--------------------+---------------+</pre>"
      ],
      "text/plain": [
       "+-----------+----------+--------------+--------------------+---------------+"
      ]
     },
     "metadata": {},
     "output_type": "display_data"
    },
    {
     "data": {
      "text/html": [
       "<pre>| 1         | 2        | 0.000997     | 1.023986           | 0.400761      |</pre>"
      ],
      "text/plain": [
       "| 1         | 2        | 0.000997     | 1.023986           | 0.400761      |"
      ]
     },
     "metadata": {},
     "output_type": "display_data"
    },
    {
     "data": {
      "text/html": [
       "<pre>+-----------+----------+--------------+--------------------+---------------+</pre>"
      ],
      "text/plain": [
       "+-----------+----------+--------------+--------------------+---------------+"
      ]
     },
     "metadata": {},
     "output_type": "display_data"
    },
    {
     "data": {
      "text/html": [
       "<pre>SUCCESS: Optimal solution found.</pre>"
      ],
      "text/plain": [
       "SUCCESS: Optimal solution found."
      ]
     },
     "metadata": {},
     "output_type": "display_data"
    },
    {
     "data": {
      "text/html": [
       "<pre></pre>"
      ],
      "text/plain": []
     },
     "metadata": {},
     "output_type": "display_data"
    },
    {
     "data": {
      "text/html": [
       "<pre>Linear regression:</pre>"
      ],
      "text/plain": [
       "Linear regression:"
      ]
     },
     "metadata": {},
     "output_type": "display_data"
    },
    {
     "data": {
      "text/html": [
       "<pre>--------------------------------------------------------</pre>"
      ],
      "text/plain": [
       "--------------------------------------------------------"
      ]
     },
     "metadata": {},
     "output_type": "display_data"
    },
    {
     "data": {
      "text/html": [
       "<pre>Number of examples          : 253</pre>"
      ],
      "text/plain": [
       "Number of examples          : 253"
      ]
     },
     "metadata": {},
     "output_type": "display_data"
    },
    {
     "data": {
      "text/html": [
       "<pre>Number of features          : 6</pre>"
      ],
      "text/plain": [
       "Number of features          : 6"
      ]
     },
     "metadata": {},
     "output_type": "display_data"
    },
    {
     "data": {
      "text/html": [
       "<pre>Number of unpacked features : 6</pre>"
      ],
      "text/plain": [
       "Number of unpacked features : 6"
      ]
     },
     "metadata": {},
     "output_type": "display_data"
    },
    {
     "data": {
      "text/html": [
       "<pre>Number of coefficients    : 7</pre>"
      ],
      "text/plain": [
       "Number of coefficients    : 7"
      ]
     },
     "metadata": {},
     "output_type": "display_data"
    },
    {
     "data": {
      "text/html": [
       "<pre>Starting Newton Method</pre>"
      ],
      "text/plain": [
       "Starting Newton Method"
      ]
     },
     "metadata": {},
     "output_type": "display_data"
    },
    {
     "data": {
      "text/html": [
       "<pre>--------------------------------------------------------</pre>"
      ],
      "text/plain": [
       "--------------------------------------------------------"
      ]
     },
     "metadata": {},
     "output_type": "display_data"
    },
    {
     "data": {
      "text/html": [
       "<pre>+-----------+----------+--------------+--------------------+---------------+</pre>"
      ],
      "text/plain": [
       "+-----------+----------+--------------+--------------------+---------------+"
      ]
     },
     "metadata": {},
     "output_type": "display_data"
    },
    {
     "data": {
      "text/html": [
       "<pre>| Iteration | Passes   | Elapsed Time | Training-max_error | Training-rmse |</pre>"
      ],
      "text/plain": [
       "| Iteration | Passes   | Elapsed Time | Training-max_error | Training-rmse |"
      ]
     },
     "metadata": {},
     "output_type": "display_data"
    },
    {
     "data": {
      "text/html": [
       "<pre>+-----------+----------+--------------+--------------------+---------------+</pre>"
      ],
      "text/plain": [
       "+-----------+----------+--------------+--------------------+---------------+"
      ]
     },
     "metadata": {},
     "output_type": "display_data"
    },
    {
     "data": {
      "text/html": [
       "<pre>| 1         | 2        | 0.001971     | 0.904357           | 0.375212      |</pre>"
      ],
      "text/plain": [
       "| 1         | 2        | 0.001971     | 0.904357           | 0.375212      |"
      ]
     },
     "metadata": {},
     "output_type": "display_data"
    },
    {
     "data": {
      "text/html": [
       "<pre>+-----------+----------+--------------+--------------------+---------------+</pre>"
      ],
      "text/plain": [
       "+-----------+----------+--------------+--------------------+---------------+"
      ]
     },
     "metadata": {},
     "output_type": "display_data"
    },
    {
     "data": {
      "text/html": [
       "<pre>SUCCESS: Optimal solution found.</pre>"
      ],
      "text/plain": [
       "SUCCESS: Optimal solution found."
      ]
     },
     "metadata": {},
     "output_type": "display_data"
    },
    {
     "data": {
      "text/html": [
       "<pre></pre>"
      ],
      "text/plain": []
     },
     "metadata": {},
     "output_type": "display_data"
    }
   ],
   "source": [
    "model_1 = graphlab.linear_regression.create(trd, target = 'target', features = model_1_features, \n",
    "                                                  validation_set = None)\n",
    "model_2 = graphlab.linear_regression.create(trd, target = 'target', features = model_2_features, \n",
    "                                                  validation_set = None)\n",
    "model_3 = graphlab.linear_regression.create(trd, target = 'target', features = model_3_features, \n",
    "                                                  validation_set = None)\n",
    "# regression models of these three are generated"
   ]
  },
  {
   "cell_type": "code",
   "execution_count": 127,
   "metadata": {},
   "outputs": [
    {
     "name": "stdout",
     "output_type": "stream",
     "text": [
      "+-----------------+-------+-----------------+-----------------+\n",
      "|       name      | index |      value      |      stderr     |\n",
      "+-----------------+-------+-----------------+-----------------+\n",
      "|   (intercept)   |  None |  0.679393789841 | 0.0563064766536 |\n",
      "|       sex       |  None | -0.240603965635 | 0.0553885710013 |\n",
      "|     oldpeak     |  None | -0.141628482896 | 0.0238792353718 |\n",
      "| chest pain type |  None |  0.178637562059 |  0.024472616798 |\n",
      "+-----------------+-------+-----------------+-----------------+\n",
      "[4 rows x 4 columns]\n",
      "\n",
      "+-----------------+-------+-----------------+-----------------+\n",
      "|       name      | index |      value      |      stderr     |\n",
      "+-----------------+-------+-----------------+-----------------+\n",
      "|   (intercept)   |  None |  0.63067455994  |  0.062549779592 |\n",
      "|       sex       |  None | -0.232238854353 | 0.0553626922872 |\n",
      "|     oldpeak     |  None | -0.140807148814 | 0.0237842796277 |\n",
      "| chest pain type |  None |  0.176636652467 | 0.0243971774002 |\n",
      "|     restecg     |  None | 0.0848257533664 | 0.0482642734803 |\n",
      "+-----------------+-------+-----------------+-----------------+\n",
      "[5 rows x 4 columns]\n",
      "\n",
      "+-----------------+-------+--------------------+-------------------+\n",
      "|       name      | index |       value        |       stderr      |\n",
      "+-----------------+-------+--------------------+-------------------+\n",
      "|   (intercept)   |  None |   0.969521958744   |   0.121850574128  |\n",
      "|       sex       |  None |  -0.228060079684   |  0.0542778204236  |\n",
      "|     oldpeak     |  None |  -0.111524030055   |  0.0229806941902  |\n",
      "| chest pain type |  None |   0.277571498719   |  0.0305652409648  |\n",
      "|     restecg     |  None |   0.174401400414   |  0.0517642129414  |\n",
      "|    trest_chol   |  None | -7.36553877399e-06 | 3.00672202302e-06 |\n",
      "|  rest_num_chest |  None |  -0.124449518389   |  0.0246661275977  |\n",
      "+-----------------+-------+--------------------+-------------------+\n",
      "[7 rows x 4 columns]\n",
      "\n"
     ]
    }
   ],
   "source": [
    "model_1_weight_summary = model_1.get(\"coefficients\")\n",
    "model_2_weight_summary = model_2.get(\"coefficients\")\n",
    "model_3_weight_summary = model_3.get(\"coefficients\")\n",
    "print model_1_weight_summary \n",
    "print model_2_weight_summary\n",
    "print model_3_weight_summary\n",
    "# a summary of these models are obtained"
   ]
  },
  {
   "cell_type": "code",
   "execution_count": 128,
   "metadata": {},
   "outputs": [
    {
     "name": "stdout",
     "output_type": "stream",
     "text": [
      "41.1402686607\n",
      "40.6341275583\n",
      "35.6184175772\n"
     ]
    }
   ],
   "source": [
    "rss_model_1_train = get_residual_sum_of_squares(model_1, trd, trd['target'])\n",
    "rss_model_2_train = get_residual_sum_of_squares(model_2, trd, trd['target'])\n",
    "rss_model_3_train = get_residual_sum_of_squares(model_3, trd, trd['target'])\n",
    "print rss_model_1_train\n",
    "print rss_model_2_train\n",
    "print rss_model_3_train\n",
    "# here 3rd model has the least residual error in the training dataset"
   ]
  },
  {
   "cell_type": "code",
   "execution_count": 145,
   "metadata": {},
   "outputs": [
    {
     "name": "stdout",
     "output_type": "stream",
     "text": [
      "5.73366357845\n",
      "5.66507471941\n",
      "6.3672783415\n"
     ]
    }
   ],
   "source": [
    "rss_model_1_test = get_residual_sum_of_squares(model_1, tsd, tsd['target'])\n",
    "rss_model_2_test = get_residual_sum_of_squares(model_2, tsd, tsd['target'])\n",
    "rss_model_3_test = get_residual_sum_of_squares(model_3, tsd, tsd['target'])\n",
    "print rss_model_1_test\n",
    "print rss_model_2_test\n",
    "print rss_model_3_test\n",
    "# model 2 has the least error on the test dataset ...so considering both model2 is more appropriate"
   ]
  },
  {
   "cell_type": "code",
   "execution_count": 146,
   "metadata": {},
   "outputs": [
    {
     "data": {
      "application/javascript": [
       "$(\"head\").append($(\"<link/>\").attr({\n",
       "  rel:  \"stylesheet\",\n",
       "  type: \"text/css\",\n",
       "  href: \"//cdnjs.cloudflare.com/ajax/libs/font-awesome/4.1.0/css/font-awesome.min.css\"\n",
       "}));\n",
       "$(\"head\").append($(\"<link/>\").attr({\n",
       "  rel:  \"stylesheet\",\n",
       "  type: \"text/css\",\n",
       "  href: \"https://static.turi.com/products/graphlab-create/2.1/canvas/css/canvas.css\"\n",
       "}));\n",
       "\n",
       "            (function(){\n",
       "\n",
       "                var e = null;\n",
       "                if (typeof element == 'undefined') {\n",
       "                    var scripts = document.getElementsByTagName('script');\n",
       "                    var thisScriptTag = scripts[scripts.length-1];\n",
       "                    var parentDiv = thisScriptTag.parentNode;\n",
       "                    e = document.createElement('div');\n",
       "                    parentDiv.appendChild(e);\n",
       "                } else {\n",
       "                    e = element[0];\n",
       "                }\n",
       "\n",
       "                if (typeof requirejs !== 'undefined') {\n",
       "                    // disable load timeout; ipython_app.js is large and can take a while to load.\n",
       "                    requirejs.config({waitSeconds: 0});\n",
       "                }\n",
       "\n",
       "                require(['https://static.turi.com/products/graphlab-create/2.1/canvas/js/ipython_app.js'], function(IPythonApp){\n",
       "                    var app = new IPythonApp();\n",
       "                    app.attachView('model','Summary', {\"comparison\": null, \"selected_variable\": {\"comparison\": null, \"name\": [\"model_1\"], \"view_file\": \"model\", \"view_component\": \"Summary\", \"view_params\": {\"model_type\": \"regression\", \"view\": \"Summary\"}, \"view_components\": [\"Summary\", \"Evaluation\", \"Comparison\"], \"model_type\": \"regression\", \"attributes\": {\"section_titles\": [\"Schema\", \"Hyperparameters\", \"Training Summary\", \"Settings\", \"Highest Positive Coefficients\", \"Lowest Negative Coefficients\"], \"sections\": [[[\"Number of coefficients\", 4], [\"Number of examples\", 253], [\"Number of feature columns\", 3], [\"Number of unpacked features\", 3]], [[\"L1 penalty\", 0.0], [\"L2 penalty\", 0.01]], [[\"Solver\", \"newton\"], [\"Solver iterations\", 1], [\"Solver status\", \"SUCCESS: Optimal solution found.\"], [\"Training time (sec)\", 0.0112]], [[\"Residual sum of squares\", 41.1403], [\"Training RMSE\", 0.4032]], [[\"(intercept)\", 0.6794], [\"chest pain type\", 0.1786]], [[\"sex\", -0.2406], [\"oldpeak\", -0.1416]]]}, \"evaluations\": [], \"type\": \"Model\"}, \"ipython\": true, \"view_params\": {\"model_type\": \"regression\", \"view\": \"Summary\"}, \"model_type\": \"regression\", \"attributes\": {\"section_titles\": [\"Schema\", \"Hyperparameters\", \"Training Summary\", \"Settings\", \"Highest Positive Coefficients\", \"Lowest Negative Coefficients\"], \"sections\": [[[\"Number of coefficients\", 4], [\"Number of examples\", 253], [\"Number of feature columns\", 3], [\"Number of unpacked features\", 3]], [[\"L1 penalty\", 0.0], [\"L2 penalty\", 0.01]], [[\"Solver\", \"newton\"], [\"Solver iterations\", 1], [\"Solver status\", \"SUCCESS: Optimal solution found.\"], [\"Training time (sec)\", 0.0112]], [[\"Residual sum of squares\", 41.1403], [\"Training RMSE\", 0.4032]], [[\"(intercept)\", 0.6794], [\"chest pain type\", 0.1786]], [[\"sex\", -0.2406], [\"oldpeak\", -0.1416]]]}, \"evaluations\": []}, e);\n",
       "                });\n",
       "            })();\n",
       "        "
      ]
     },
     "metadata": {},
     "output_type": "display_data"
    }
   ],
   "source": [
    "model_1.show()"
   ]
  },
  {
   "cell_type": "code",
   "execution_count": 147,
   "metadata": {},
   "outputs": [
    {
     "data": {
      "application/javascript": [
       "$(\"head\").append($(\"<link/>\").attr({\n",
       "  rel:  \"stylesheet\",\n",
       "  type: \"text/css\",\n",
       "  href: \"//cdnjs.cloudflare.com/ajax/libs/font-awesome/4.1.0/css/font-awesome.min.css\"\n",
       "}));\n",
       "$(\"head\").append($(\"<link/>\").attr({\n",
       "  rel:  \"stylesheet\",\n",
       "  type: \"text/css\",\n",
       "  href: \"https://static.turi.com/products/graphlab-create/2.1/canvas/css/canvas.css\"\n",
       "}));\n",
       "\n",
       "            (function(){\n",
       "\n",
       "                var e = null;\n",
       "                if (typeof element == 'undefined') {\n",
       "                    var scripts = document.getElementsByTagName('script');\n",
       "                    var thisScriptTag = scripts[scripts.length-1];\n",
       "                    var parentDiv = thisScriptTag.parentNode;\n",
       "                    e = document.createElement('div');\n",
       "                    parentDiv.appendChild(e);\n",
       "                } else {\n",
       "                    e = element[0];\n",
       "                }\n",
       "\n",
       "                if (typeof requirejs !== 'undefined') {\n",
       "                    // disable load timeout; ipython_app.js is large and can take a while to load.\n",
       "                    requirejs.config({waitSeconds: 0});\n",
       "                }\n",
       "\n",
       "                require(['https://static.turi.com/products/graphlab-create/2.1/canvas/js/ipython_app.js'], function(IPythonApp){\n",
       "                    var app = new IPythonApp();\n",
       "                    app.attachView('model','Summary', {\"comparison\": null, \"selected_variable\": {\"comparison\": null, \"name\": [\"model_2\"], \"view_file\": \"model\", \"view_component\": \"Summary\", \"view_params\": {\"model_type\": \"regression\", \"view\": \"Summary\"}, \"view_components\": [\"Summary\", \"Evaluation\", \"Comparison\"], \"model_type\": \"regression\", \"attributes\": {\"section_titles\": [\"Schema\", \"Hyperparameters\", \"Training Summary\", \"Settings\", \"Highest Positive Coefficients\", \"Lowest Negative Coefficients\"], \"sections\": [[[\"Number of coefficients\", 5], [\"Number of examples\", 253], [\"Number of feature columns\", 4], [\"Number of unpacked features\", 4]], [[\"L1 penalty\", 0.0], [\"L2 penalty\", 0.01]], [[\"Solver\", \"newton\"], [\"Solver iterations\", 1], [\"Solver status\", \"SUCCESS: Optimal solution found.\"], [\"Training time (sec)\", 0.001]], [[\"Residual sum of squares\", 40.6341], [\"Training RMSE\", 0.4008]], [[\"(intercept)\", 0.6307], [\"chest pain type\", 0.1766], [\"restecg\", 0.0848]], [[\"sex\", -0.2322], [\"oldpeak\", -0.1408]]]}, \"evaluations\": [], \"type\": \"Model\"}, \"ipython\": true, \"view_params\": {\"model_type\": \"regression\", \"view\": \"Summary\"}, \"model_type\": \"regression\", \"attributes\": {\"section_titles\": [\"Schema\", \"Hyperparameters\", \"Training Summary\", \"Settings\", \"Highest Positive Coefficients\", \"Lowest Negative Coefficients\"], \"sections\": [[[\"Number of coefficients\", 5], [\"Number of examples\", 253], [\"Number of feature columns\", 4], [\"Number of unpacked features\", 4]], [[\"L1 penalty\", 0.0], [\"L2 penalty\", 0.01]], [[\"Solver\", \"newton\"], [\"Solver iterations\", 1], [\"Solver status\", \"SUCCESS: Optimal solution found.\"], [\"Training time (sec)\", 0.001]], [[\"Residual sum of squares\", 40.6341], [\"Training RMSE\", 0.4008]], [[\"(intercept)\", 0.6307], [\"chest pain type\", 0.1766], [\"restecg\", 0.0848]], [[\"sex\", -0.2322], [\"oldpeak\", -0.1408]]]}, \"evaluations\": []}, e);\n",
       "                });\n",
       "            })();\n",
       "        "
      ]
     },
     "metadata": {},
     "output_type": "display_data"
    }
   ],
   "source": [
    "model_2.show()"
   ]
  },
  {
   "cell_type": "code",
   "execution_count": 148,
   "metadata": {},
   "outputs": [
    {
     "data": {
      "application/javascript": [
       "$(\"head\").append($(\"<link/>\").attr({\n",
       "  rel:  \"stylesheet\",\n",
       "  type: \"text/css\",\n",
       "  href: \"//cdnjs.cloudflare.com/ajax/libs/font-awesome/4.1.0/css/font-awesome.min.css\"\n",
       "}));\n",
       "$(\"head\").append($(\"<link/>\").attr({\n",
       "  rel:  \"stylesheet\",\n",
       "  type: \"text/css\",\n",
       "  href: \"https://static.turi.com/products/graphlab-create/2.1/canvas/css/canvas.css\"\n",
       "}));\n",
       "\n",
       "            (function(){\n",
       "\n",
       "                var e = null;\n",
       "                if (typeof element == 'undefined') {\n",
       "                    var scripts = document.getElementsByTagName('script');\n",
       "                    var thisScriptTag = scripts[scripts.length-1];\n",
       "                    var parentDiv = thisScriptTag.parentNode;\n",
       "                    e = document.createElement('div');\n",
       "                    parentDiv.appendChild(e);\n",
       "                } else {\n",
       "                    e = element[0];\n",
       "                }\n",
       "\n",
       "                if (typeof requirejs !== 'undefined') {\n",
       "                    // disable load timeout; ipython_app.js is large and can take a while to load.\n",
       "                    requirejs.config({waitSeconds: 0});\n",
       "                }\n",
       "\n",
       "                require(['https://static.turi.com/products/graphlab-create/2.1/canvas/js/ipython_app.js'], function(IPythonApp){\n",
       "                    var app = new IPythonApp();\n",
       "                    app.attachView('model','Summary', {\"comparison\": null, \"selected_variable\": {\"comparison\": null, \"name\": [\"model_3\"], \"view_file\": \"model\", \"view_component\": \"Summary\", \"view_params\": {\"model_type\": \"regression\", \"view\": \"Summary\"}, \"view_components\": [\"Summary\", \"Evaluation\", \"Comparison\"], \"model_type\": \"regression\", \"attributes\": {\"section_titles\": [\"Schema\", \"Hyperparameters\", \"Training Summary\", \"Settings\", \"Highest Positive Coefficients\", \"Lowest Negative Coefficients\"], \"sections\": [[[\"Number of coefficients\", 7], [\"Number of examples\", 253], [\"Number of feature columns\", 6], [\"Number of unpacked features\", 6]], [[\"L1 penalty\", 0.0], [\"L2 penalty\", 0.01]], [[\"Solver\", \"newton\"], [\"Solver iterations\", 1], [\"Solver status\", \"SUCCESS: Optimal solution found.\"], [\"Training time (sec)\", 0.003]], [[\"Residual sum of squares\", 35.6184], [\"Training RMSE\", 0.3752]], [[\"(intercept)\", 0.9695], [\"chest pain type\", 0.2776], [\"restecg\", 0.1744]], [[\"sex\", -0.2281], [\"rest_num_chest\", -0.1244], [\"oldpeak\", -0.1115], [\"trest_chol\", -0.0]]]}, \"evaluations\": [], \"type\": \"Model\"}, \"ipython\": true, \"view_params\": {\"model_type\": \"regression\", \"view\": \"Summary\"}, \"model_type\": \"regression\", \"attributes\": {\"section_titles\": [\"Schema\", \"Hyperparameters\", \"Training Summary\", \"Settings\", \"Highest Positive Coefficients\", \"Lowest Negative Coefficients\"], \"sections\": [[[\"Number of coefficients\", 7], [\"Number of examples\", 253], [\"Number of feature columns\", 6], [\"Number of unpacked features\", 6]], [[\"L1 penalty\", 0.0], [\"L2 penalty\", 0.01]], [[\"Solver\", \"newton\"], [\"Solver iterations\", 1], [\"Solver status\", \"SUCCESS: Optimal solution found.\"], [\"Training time (sec)\", 0.003]], [[\"Residual sum of squares\", 35.6184], [\"Training RMSE\", 0.3752]], [[\"(intercept)\", 0.9695], [\"chest pain type\", 0.2776], [\"restecg\", 0.1744]], [[\"sex\", -0.2281], [\"rest_num_chest\", -0.1244], [\"oldpeak\", -0.1115], [\"trest_chol\", -0.0]]]}, \"evaluations\": []}, e);\n",
       "                });\n",
       "            })();\n",
       "        "
      ]
     },
     "metadata": {},
     "output_type": "display_data"
    }
   ],
   "source": [
    "model_3.show()"
   ]
  },
  {
   "cell_type": "code",
   "execution_count": 149,
   "metadata": {},
   "outputs": [
    {
     "data": {
      "application/javascript": [
       "$(\"head\").append($(\"<link/>\").attr({\n",
       "  rel:  \"stylesheet\",\n",
       "  type: \"text/css\",\n",
       "  href: \"//cdnjs.cloudflare.com/ajax/libs/font-awesome/4.1.0/css/font-awesome.min.css\"\n",
       "}));\n",
       "$(\"head\").append($(\"<link/>\").attr({\n",
       "  rel:  \"stylesheet\",\n",
       "  type: \"text/css\",\n",
       "  href: \"https://static.turi.com/products/graphlab-create/2.1/canvas/css/canvas.css\"\n",
       "}));\n",
       "\n",
       "            (function(){\n",
       "\n",
       "                var e = null;\n",
       "                if (typeof element == 'undefined') {\n",
       "                    var scripts = document.getElementsByTagName('script');\n",
       "                    var thisScriptTag = scripts[scripts.length-1];\n",
       "                    var parentDiv = thisScriptTag.parentNode;\n",
       "                    e = document.createElement('div');\n",
       "                    parentDiv.appendChild(e);\n",
       "                } else {\n",
       "                    e = element[0];\n",
       "                }\n",
       "\n",
       "                if (typeof requirejs !== 'undefined') {\n",
       "                    // disable load timeout; ipython_app.js is large and can take a while to load.\n",
       "                    requirejs.config({waitSeconds: 0});\n",
       "                }\n",
       "\n",
       "                require(['https://static.turi.com/products/graphlab-create/2.1/canvas/js/ipython_app.js'], function(IPythonApp){\n",
       "                    var app = new IPythonApp();\n",
       "                    app.attachView('model','Summary', {\"comparison\": null, \"selected_variable\": {\"comparison\": null, \"name\": [\"model1\"], \"view_file\": \"model\", \"view_component\": \"Summary\", \"view_params\": {\"model_type\": \"regression\", \"view\": \"Summary\"}, \"view_components\": [\"Summary\", \"Evaluation\", \"Comparison\"], \"model_type\": \"regression\", \"attributes\": {\"section_titles\": [\"Schema\", \"Hyperparameters\", \"Training Summary\", \"Settings\", \"Highest Positive Coefficients\", \"Lowest Negative Coefficients\"], \"sections\": [[[\"Number of coefficients\", 5], [\"Number of examples\", 242], [\"Number of feature columns\", 4], [\"Number of unpacked features\", 4]], [[\"L1 penalty\", 0.0], [\"L2 penalty\", 0.01]], [[\"Solver\", \"newton\"], [\"Solver iterations\", 1], [\"Solver status\", \"SUCCESS: Optimal solution found.\"], [\"Training time (sec)\", 0.0323]], [[\"Residual sum of squares\", 42.404], [\"Training RMSE\", 0.4186]], [[\"(intercept)\", 1.6975], [\"chest pain type\", 0.1637]], [[\"thal\", -0.271], [\"trestbps\", -0.0041], [\"chol\", -0.0006]]]}, \"evaluations\": [[\"tsd\", {\"max_error\": 1.1144078220120204, \"rmse\": 0.4622186668036501}]], \"type\": \"Model\"}, \"ipython\": true, \"view_params\": {\"model_type\": \"regression\", \"view\": \"Summary\"}, \"model_type\": \"regression\", \"attributes\": {\"section_titles\": [\"Schema\", \"Hyperparameters\", \"Training Summary\", \"Settings\", \"Highest Positive Coefficients\", \"Lowest Negative Coefficients\"], \"sections\": [[[\"Number of coefficients\", 5], [\"Number of examples\", 242], [\"Number of feature columns\", 4], [\"Number of unpacked features\", 4]], [[\"L1 penalty\", 0.0], [\"L2 penalty\", 0.01]], [[\"Solver\", \"newton\"], [\"Solver iterations\", 1], [\"Solver status\", \"SUCCESS: Optimal solution found.\"], [\"Training time (sec)\", 0.0323]], [[\"Residual sum of squares\", 42.404], [\"Training RMSE\", 0.4186]], [[\"(intercept)\", 1.6975], [\"chest pain type\", 0.1637]], [[\"thal\", -0.271], [\"trestbps\", -0.0041], [\"chol\", -0.0006]]]}, \"evaluations\": [[\"tsd\", {\"max_error\": 1.1144078220120204, \"rmse\": 0.4622186668036501}]]}, e);\n",
       "                });\n",
       "            })();\n",
       "        "
      ]
     },
     "metadata": {},
     "output_type": "display_data"
    }
   ],
   "source": [
    "model1.show()"
   ]
  },
  {
   "cell_type": "code",
   "execution_count": 150,
   "metadata": {},
   "outputs": [
    {
     "data": {
      "application/javascript": [
       "$(\"head\").append($(\"<link/>\").attr({\n",
       "  rel:  \"stylesheet\",\n",
       "  type: \"text/css\",\n",
       "  href: \"//cdnjs.cloudflare.com/ajax/libs/font-awesome/4.1.0/css/font-awesome.min.css\"\n",
       "}));\n",
       "$(\"head\").append($(\"<link/>\").attr({\n",
       "  rel:  \"stylesheet\",\n",
       "  type: \"text/css\",\n",
       "  href: \"https://static.turi.com/products/graphlab-create/2.1/canvas/css/canvas.css\"\n",
       "}));\n",
       "\n",
       "            (function(){\n",
       "\n",
       "                var e = null;\n",
       "                if (typeof element == 'undefined') {\n",
       "                    var scripts = document.getElementsByTagName('script');\n",
       "                    var thisScriptTag = scripts[scripts.length-1];\n",
       "                    var parentDiv = thisScriptTag.parentNode;\n",
       "                    e = document.createElement('div');\n",
       "                    parentDiv.appendChild(e);\n",
       "                } else {\n",
       "                    e = element[0];\n",
       "                }\n",
       "\n",
       "                if (typeof requirejs !== 'undefined') {\n",
       "                    // disable load timeout; ipython_app.js is large and can take a while to load.\n",
       "                    requirejs.config({waitSeconds: 0});\n",
       "                }\n",
       "\n",
       "                require(['https://static.turi.com/products/graphlab-create/2.1/canvas/js/ipython_app.js'], function(IPythonApp){\n",
       "                    var app = new IPythonApp();\n",
       "                    app.attachView('model','Summary', {\"comparison\": null, \"selected_variable\": {\"comparison\": null, \"name\": [\"my_features_model\"], \"view_file\": \"model\", \"view_component\": \"Summary\", \"view_params\": {\"model_type\": \"regression\", \"view\": \"Summary\"}, \"view_components\": [\"Summary\", \"Evaluation\", \"Comparison\"], \"model_type\": \"regression\", \"attributes\": {\"section_titles\": [\"Schema\", \"Hyperparameters\", \"Training Summary\", \"Settings\", \"Highest Positive Coefficients\", \"Lowest Negative Coefficients\"], \"sections\": [[[\"Number of coefficients\", 4], [\"Number of examples\", 244], [\"Number of feature columns\", 3], [\"Number of unpacked features\", 3]], [[\"L1 penalty\", 0.0], [\"L2 penalty\", 0.01]], [[\"Solver\", \"newton\"], [\"Solver iterations\", 1], [\"Solver status\", \"SUCCESS: Optimal solution found.\"], [\"Training time (sec)\", 0.0]], [[\"Residual sum of squares\", 45.5121], [\"Training RMSE\", 0.4319]], [[\"(intercept)\", 1.0647], [\"slope\", 0.1307]], [[\"thal\", -0.257], [\"oldpeak\", -0.0978]]]}, \"evaluations\": [[\"tsd\", {\"max_error\": 1.0976214953241648, \"rmse\": 0.4298746544821219}]], \"type\": \"Model\"}, \"ipython\": true, \"view_params\": {\"model_type\": \"regression\", \"view\": \"Summary\"}, \"model_type\": \"regression\", \"attributes\": {\"section_titles\": [\"Schema\", \"Hyperparameters\", \"Training Summary\", \"Settings\", \"Highest Positive Coefficients\", \"Lowest Negative Coefficients\"], \"sections\": [[[\"Number of coefficients\", 4], [\"Number of examples\", 244], [\"Number of feature columns\", 3], [\"Number of unpacked features\", 3]], [[\"L1 penalty\", 0.0], [\"L2 penalty\", 0.01]], [[\"Solver\", \"newton\"], [\"Solver iterations\", 1], [\"Solver status\", \"SUCCESS: Optimal solution found.\"], [\"Training time (sec)\", 0.0]], [[\"Residual sum of squares\", 45.5121], [\"Training RMSE\", 0.4319]], [[\"(intercept)\", 1.0647], [\"slope\", 0.1307]], [[\"thal\", -0.257], [\"oldpeak\", -0.0978]]]}, \"evaluations\": [[\"tsd\", {\"max_error\": 1.0976214953241648, \"rmse\": 0.4298746544821219}]]}, e);\n",
       "                });\n",
       "            })();\n",
       "        "
      ]
     },
     "metadata": {},
     "output_type": "display_data"
    }
   ],
   "source": [
    "my_features_model.show()"
   ]
  },
  {
   "cell_type": "code",
   "execution_count": 151,
   "metadata": {},
   "outputs": [
    {
     "data": {
      "application/javascript": [
       "$(\"head\").append($(\"<link/>\").attr({\n",
       "  rel:  \"stylesheet\",\n",
       "  type: \"text/css\",\n",
       "  href: \"//cdnjs.cloudflare.com/ajax/libs/font-awesome/4.1.0/css/font-awesome.min.css\"\n",
       "}));\n",
       "$(\"head\").append($(\"<link/>\").attr({\n",
       "  rel:  \"stylesheet\",\n",
       "  type: \"text/css\",\n",
       "  href: \"https://static.turi.com/products/graphlab-create/2.1/canvas/css/canvas.css\"\n",
       "}));\n",
       "\n",
       "            (function(){\n",
       "\n",
       "                var e = null;\n",
       "                if (typeof element == 'undefined') {\n",
       "                    var scripts = document.getElementsByTagName('script');\n",
       "                    var thisScriptTag = scripts[scripts.length-1];\n",
       "                    var parentDiv = thisScriptTag.parentNode;\n",
       "                    e = document.createElement('div');\n",
       "                    parentDiv.appendChild(e);\n",
       "                } else {\n",
       "                    e = element[0];\n",
       "                }\n",
       "\n",
       "                if (typeof requirejs !== 'undefined') {\n",
       "                    // disable load timeout; ipython_app.js is large and can take a while to load.\n",
       "                    requirejs.config({waitSeconds: 0});\n",
       "                }\n",
       "\n",
       "                require(['https://static.turi.com/products/graphlab-create/2.1/canvas/js/ipython_app.js'], function(IPythonApp){\n",
       "                    var app = new IPythonApp();\n",
       "                    app.attachView('model','Summary', {\"comparison\": null, \"selected_variable\": {\"comparison\": null, \"name\": [\"example_model\"], \"view_file\": \"model\", \"view_component\": \"Summary\", \"view_params\": {\"model_type\": \"regression\", \"view\": \"Summary\"}, \"view_components\": [\"Summary\", \"Evaluation\", \"Comparison\"], \"model_type\": \"regression\", \"attributes\": {\"section_titles\": [\"Schema\", \"Hyperparameters\", \"Training Summary\", \"Settings\", \"Highest Positive Coefficients\", \"Lowest Negative Coefficients\"], \"sections\": [[[\"Number of coefficients\", 4], [\"Number of examples\", 253], [\"Number of feature columns\", 3], [\"Number of unpacked features\", 3]], [[\"L1 penalty\", 0.0], [\"L2 penalty\", 0.01]], [[\"Solver\", \"newton\"], [\"Solver iterations\", 1], [\"Solver status\", \"SUCCESS: Optimal solution found.\"], [\"Training time (sec)\", 0.0014]], [[\"Residual sum of squares\", 46.0581], [\"Training RMSE\", 0.4267]], [[\"(intercept)\", 1.0849], [\"slope\", 0.1355]], [[\"thal\", -0.2676], [\"oldpeak\", -0.0997]]]}, \"evaluations\": [], \"type\": \"Model\"}, \"ipython\": true, \"view_params\": {\"model_type\": \"regression\", \"view\": \"Summary\"}, \"model_type\": \"regression\", \"attributes\": {\"section_titles\": [\"Schema\", \"Hyperparameters\", \"Training Summary\", \"Settings\", \"Highest Positive Coefficients\", \"Lowest Negative Coefficients\"], \"sections\": [[[\"Number of coefficients\", 4], [\"Number of examples\", 253], [\"Number of feature columns\", 3], [\"Number of unpacked features\", 3]], [[\"L1 penalty\", 0.0], [\"L2 penalty\", 0.01]], [[\"Solver\", \"newton\"], [\"Solver iterations\", 1], [\"Solver status\", \"SUCCESS: Optimal solution found.\"], [\"Training time (sec)\", 0.0014]], [[\"Residual sum of squares\", 46.0581], [\"Training RMSE\", 0.4267]], [[\"(intercept)\", 1.0849], [\"slope\", 0.1355]], [[\"thal\", -0.2676], [\"oldpeak\", -0.0997]]]}, \"evaluations\": []}, e);\n",
       "                });\n",
       "            })();\n",
       "        "
      ]
     },
     "metadata": {},
     "output_type": "display_data"
    }
   ],
   "source": [
    "example_model.show()"
   ]
  },
  {
   "cell_type": "code",
   "execution_count": 152,
   "metadata": {
    "collapsed": true
   },
   "outputs": [],
   "source": [
    "from __future__ import division\n",
    "import math"
   ]
  },
  {
   "cell_type": "code",
   "execution_count": 155,
   "metadata": {},
   "outputs": [],
   "source": [
    "ht0 = ht[ht['chest pain type'] == 0]\n",
    "ht1 = ht[ht['chest pain type'] == 1]\n",
    "ht2 = ht[ht['chest pain type'] == 2]\n",
    "ht3 = ht[ht['chest pain type'] == 3]"
   ]
  },
  {
   "cell_type": "code",
   "execution_count": 185,
   "metadata": {},
   "outputs": [
    {
     "data": {
      "text/html": [
       "<pre>Logistic regression:</pre>"
      ],
      "text/plain": [
       "Logistic regression:"
      ]
     },
     "metadata": {},
     "output_type": "display_data"
    },
    {
     "data": {
      "text/html": [
       "<pre>--------------------------------------------------------</pre>"
      ],
      "text/plain": [
       "--------------------------------------------------------"
      ]
     },
     "metadata": {},
     "output_type": "display_data"
    },
    {
     "data": {
      "text/html": [
       "<pre>Number of examples          : 253</pre>"
      ],
      "text/plain": [
       "Number of examples          : 253"
      ]
     },
     "metadata": {},
     "output_type": "display_data"
    },
    {
     "data": {
      "text/html": [
       "<pre>Number of classes           : 2</pre>"
      ],
      "text/plain": [
       "Number of classes           : 2"
      ]
     },
     "metadata": {},
     "output_type": "display_data"
    },
    {
     "data": {
      "text/html": [
       "<pre>Number of feature columns   : 1</pre>"
      ],
      "text/plain": [
       "Number of feature columns   : 1"
      ]
     },
     "metadata": {},
     "output_type": "display_data"
    },
    {
     "data": {
      "text/html": [
       "<pre>Number of unpacked features : 1</pre>"
      ],
      "text/plain": [
       "Number of unpacked features : 1"
      ]
     },
     "metadata": {},
     "output_type": "display_data"
    },
    {
     "data": {
      "text/html": [
       "<pre>Number of coefficients    : 2</pre>"
      ],
      "text/plain": [
       "Number of coefficients    : 2"
      ]
     },
     "metadata": {},
     "output_type": "display_data"
    },
    {
     "data": {
      "text/html": [
       "<pre>Starting Newton Method</pre>"
      ],
      "text/plain": [
       "Starting Newton Method"
      ]
     },
     "metadata": {},
     "output_type": "display_data"
    },
    {
     "data": {
      "text/html": [
       "<pre>--------------------------------------------------------</pre>"
      ],
      "text/plain": [
       "--------------------------------------------------------"
      ]
     },
     "metadata": {},
     "output_type": "display_data"
    },
    {
     "data": {
      "text/html": [
       "<pre>+-----------+----------+--------------+-------------------+</pre>"
      ],
      "text/plain": [
       "+-----------+----------+--------------+-------------------+"
      ]
     },
     "metadata": {},
     "output_type": "display_data"
    },
    {
     "data": {
      "text/html": [
       "<pre>| Iteration | Passes   | Elapsed Time | Training-accuracy |</pre>"
      ],
      "text/plain": [
       "| Iteration | Passes   | Elapsed Time | Training-accuracy |"
      ]
     },
     "metadata": {},
     "output_type": "display_data"
    },
    {
     "data": {
      "text/html": [
       "<pre>+-----------+----------+--------------+-------------------+</pre>"
      ],
      "text/plain": [
       "+-----------+----------+--------------+-------------------+"
      ]
     },
     "metadata": {},
     "output_type": "display_data"
    },
    {
     "data": {
      "text/html": [
       "<pre>| 1         | 2        | 0.001996     | 0.557312          |</pre>"
      ],
      "text/plain": [
       "| 1         | 2        | 0.001996     | 0.557312          |"
      ]
     },
     "metadata": {},
     "output_type": "display_data"
    },
    {
     "data": {
      "text/html": [
       "<pre>| 2         | 3        | 0.009974     | 0.557312          |</pre>"
      ],
      "text/plain": [
       "| 2         | 3        | 0.009974     | 0.557312          |"
      ]
     },
     "metadata": {},
     "output_type": "display_data"
    },
    {
     "data": {
      "text/html": [
       "<pre>+-----------+----------+--------------+-------------------+</pre>"
      ],
      "text/plain": [
       "+-----------+----------+--------------+-------------------+"
      ]
     },
     "metadata": {},
     "output_type": "display_data"
    },
    {
     "data": {
      "text/html": [
       "<pre>SUCCESS: Optimal solution found.</pre>"
      ],
      "text/plain": [
       "SUCCESS: Optimal solution found."
      ]
     },
     "metadata": {},
     "output_type": "display_data"
    },
    {
     "data": {
      "text/html": [
       "<pre></pre>"
      ],
      "text/plain": []
     },
     "metadata": {},
     "output_type": "display_data"
    }
   ],
   "source": [
    "sentiment_model = graphlab.logistic_classifier.create(trd,\n",
    "                                                      target = 'target',\n",
    "                                                      features=['chol'],\n",
    "                                                      validation_set=None)\n",
    "# a logistic classifier according to cholestrol is created"
   ]
  },
  {
   "cell_type": "code",
   "execution_count": 186,
   "metadata": {},
   "outputs": [
    {
     "data": {
      "text/plain": [
       "Class                          : LogisticClassifier\n",
       "\n",
       "Schema\n",
       "------\n",
       "Number of coefficients         : 2\n",
       "Number of examples             : 253\n",
       "Number of classes              : 2\n",
       "Number of feature columns      : 1\n",
       "Number of unpacked features    : 1\n",
       "\n",
       "Hyperparameters\n",
       "---------------\n",
       "L1 penalty                     : 0.0\n",
       "L2 penalty                     : 0.01\n",
       "\n",
       "Training Summary\n",
       "----------------\n",
       "Solver                         : newton\n",
       "Solver iterations              : 2\n",
       "Solver status                  : SUCCESS: Optimal solution found.\n",
       "Training time (sec)            : 0.011\n",
       "\n",
       "Settings\n",
       "--------\n",
       "Log-likelihood                 : 172.1177\n",
       "\n",
       "Highest Positive Coefficients\n",
       "-----------------------------\n",
       "(intercept)                    : 1.3234\n",
       "\n",
       "Lowest Negative Coefficients\n",
       "----------------------------\n",
       "chol                           : -0.0045"
      ]
     },
     "execution_count": 186,
     "metadata": {},
     "output_type": "execute_result"
    }
   ],
   "source": [
    "sentiment_model"
   ]
  },
  {
   "cell_type": "code",
   "execution_count": 187,
   "metadata": {
    "collapsed": true
   },
   "outputs": [],
   "source": [
    "weights = sentiment_model.coefficients"
   ]
  },
  {
   "cell_type": "code",
   "execution_count": 188,
   "metadata": {},
   "outputs": [
    {
     "data": {
      "text/html": [
       "<div style=\"max-height:1000px;max-width:1500px;overflow:auto;\"><table frame=\"box\" rules=\"cols\">\n",
       "    <tr>\n",
       "        <th style=\"padding-left: 1em; padding-right: 1em; text-align: center\">name</th>\n",
       "        <th style=\"padding-left: 1em; padding-right: 1em; text-align: center\">index</th>\n",
       "        <th style=\"padding-left: 1em; padding-right: 1em; text-align: center\">class</th>\n",
       "        <th style=\"padding-left: 1em; padding-right: 1em; text-align: center\">value</th>\n",
       "        <th style=\"padding-left: 1em; padding-right: 1em; text-align: center\">stderr</th>\n",
       "    </tr>\n",
       "    <tr>\n",
       "        <td style=\"padding-left: 1em; padding-right: 1em; text-align: center; vertical-align: top\">(intercept)</td>\n",
       "        <td style=\"padding-left: 1em; padding-right: 1em; text-align: center; vertical-align: top\">None</td>\n",
       "        <td style=\"padding-left: 1em; padding-right: 1em; text-align: center; vertical-align: top\">1</td>\n",
       "        <td style=\"padding-left: 1em; padding-right: 1em; text-align: center; vertical-align: top\">1.32343782384</td>\n",
       "        <td style=\"padding-left: 1em; padding-right: 1em; text-align: center; vertical-align: top\">0.64444781429</td>\n",
       "    </tr>\n",
       "    <tr>\n",
       "        <td style=\"padding-left: 1em; padding-right: 1em; text-align: center; vertical-align: top\">chol</td>\n",
       "        <td style=\"padding-left: 1em; padding-right: 1em; text-align: center; vertical-align: top\">None</td>\n",
       "        <td style=\"padding-left: 1em; padding-right: 1em; text-align: center; vertical-align: top\">1</td>\n",
       "        <td style=\"padding-left: 1em; padding-right: 1em; text-align: center; vertical-align: top\">-0.0044571227618</td>\n",
       "        <td style=\"padding-left: 1em; padding-right: 1em; text-align: center; vertical-align: top\">0.00257374093249</td>\n",
       "    </tr>\n",
       "</table>\n",
       "[2 rows x 5 columns]<br/>\n",
       "</div>"
      ],
      "text/plain": [
       "Columns:\n",
       "\tname\tstr\n",
       "\tindex\tstr\n",
       "\tclass\tint\n",
       "\tvalue\tfloat\n",
       "\tstderr\tfloat\n",
       "\n",
       "Rows: 2\n",
       "\n",
       "Data:\n",
       "+-------------+-------+-------+------------------+------------------+\n",
       "|     name    | index | class |      value       |      stderr      |\n",
       "+-------------+-------+-------+------------------+------------------+\n",
       "| (intercept) |  None |   1   |  1.32343782384   |  0.64444781429   |\n",
       "|     chol    |  None |   1   | -0.0044571227618 | 0.00257374093249 |\n",
       "+-------------+-------+-------+------------------+------------------+\n",
       "[2 rows x 5 columns]"
      ]
     },
     "execution_count": 188,
     "metadata": {},
     "output_type": "execute_result"
    }
   ],
   "source": [
    "weights"
   ]
  },
  {
   "cell_type": "code",
   "execution_count": 189,
   "metadata": {},
   "outputs": [
    {
     "name": "stdout",
     "output_type": "stream",
     "text": [
      "Number of positive weights: 1 \n",
      "Number of negative weights: 1 \n"
     ]
    }
   ],
   "source": [
    "num_positive_weights = (weights['value'] >= 0).sum()\n",
    "num_negative_weights = (weights['value'] < 0).sum()\n",
    "\n",
    "print \"Number of positive weights: %s \" % num_positive_weights\n",
    "print \"Number of negative weights: %s \" % num_negative_weights"
   ]
  },
  {
   "cell_type": "code",
   "execution_count": 205,
   "metadata": {},
   "outputs": [
    {
     "name": "stdout",
     "output_type": "stream",
     "text": [
      "[1L, 1L, 1L, 1L, 1L, 1L, 1L, 1L, 1L, 1L, 1L, 1L, 1L, 1L, 0L, 0L, 0L, 0L, 0L, 0L]\n"
     ]
    },
    {
     "data": {
      "text/html": [
       "<div style=\"max-height:1000px;max-width:1500px;overflow:auto;\"><table frame=\"box\" rules=\"cols\">\n",
       "    <tr>\n",
       "        <th style=\"padding-left: 1em; padding-right: 1em; text-align: center\">﻿age</th>\n",
       "        <th style=\"padding-left: 1em; padding-right: 1em; text-align: center\">sex</th>\n",
       "        <th style=\"padding-left: 1em; padding-right: 1em; text-align: center\">chest pain type</th>\n",
       "        <th style=\"padding-left: 1em; padding-right: 1em; text-align: center\">trestbps</th>\n",
       "        <th style=\"padding-left: 1em; padding-right: 1em; text-align: center\">chol</th>\n",
       "        <th style=\"padding-left: 1em; padding-right: 1em; text-align: center\">fasting blood sugar</th>\n",
       "        <th style=\"padding-left: 1em; padding-right: 1em; text-align: center\">restecg</th>\n",
       "        <th style=\"padding-left: 1em; padding-right: 1em; text-align: center\">thalach</th>\n",
       "        <th style=\"padding-left: 1em; padding-right: 1em; text-align: center\">exercise induced agina</th>\n",
       "    </tr>\n",
       "    <tr>\n",
       "        <td style=\"padding-left: 1em; padding-right: 1em; text-align: center; vertical-align: top\">43</td>\n",
       "        <td style=\"padding-left: 1em; padding-right: 1em; text-align: center; vertical-align: top\">0</td>\n",
       "        <td style=\"padding-left: 1em; padding-right: 1em; text-align: center; vertical-align: top\">2</td>\n",
       "        <td style=\"padding-left: 1em; padding-right: 1em; text-align: center; vertical-align: top\">122</td>\n",
       "        <td style=\"padding-left: 1em; padding-right: 1em; text-align: center; vertical-align: top\">213</td>\n",
       "        <td style=\"padding-left: 1em; padding-right: 1em; text-align: center; vertical-align: top\">0</td>\n",
       "        <td style=\"padding-left: 1em; padding-right: 1em; text-align: center; vertical-align: top\">1</td>\n",
       "        <td style=\"padding-left: 1em; padding-right: 1em; text-align: center; vertical-align: top\">165</td>\n",
       "        <td style=\"padding-left: 1em; padding-right: 1em; text-align: center; vertical-align: top\">0</td>\n",
       "    </tr>\n",
       "    <tr>\n",
       "        <td style=\"padding-left: 1em; padding-right: 1em; text-align: center; vertical-align: top\">45</td>\n",
       "        <td style=\"padding-left: 1em; padding-right: 1em; text-align: center; vertical-align: top\">1</td>\n",
       "        <td style=\"padding-left: 1em; padding-right: 1em; text-align: center; vertical-align: top\">1</td>\n",
       "        <td style=\"padding-left: 1em; padding-right: 1em; text-align: center; vertical-align: top\">128</td>\n",
       "        <td style=\"padding-left: 1em; padding-right: 1em; text-align: center; vertical-align: top\">308</td>\n",
       "        <td style=\"padding-left: 1em; padding-right: 1em; text-align: center; vertical-align: top\">0</td>\n",
       "        <td style=\"padding-left: 1em; padding-right: 1em; text-align: center; vertical-align: top\">0</td>\n",
       "        <td style=\"padding-left: 1em; padding-right: 1em; text-align: center; vertical-align: top\">170</td>\n",
       "        <td style=\"padding-left: 1em; padding-right: 1em; text-align: center; vertical-align: top\">0</td>\n",
       "    </tr>\n",
       "    <tr>\n",
       "        <td style=\"padding-left: 1em; padding-right: 1em; text-align: center; vertical-align: top\">48</td>\n",
       "        <td style=\"padding-left: 1em; padding-right: 1em; text-align: center; vertical-align: top\">1</td>\n",
       "        <td style=\"padding-left: 1em; padding-right: 1em; text-align: center; vertical-align: top\">2</td>\n",
       "        <td style=\"padding-left: 1em; padding-right: 1em; text-align: center; vertical-align: top\">124</td>\n",
       "        <td style=\"padding-left: 1em; padding-right: 1em; text-align: center; vertical-align: top\">255</td>\n",
       "        <td style=\"padding-left: 1em; padding-right: 1em; text-align: center; vertical-align: top\">1</td>\n",
       "        <td style=\"padding-left: 1em; padding-right: 1em; text-align: center; vertical-align: top\">1</td>\n",
       "        <td style=\"padding-left: 1em; padding-right: 1em; text-align: center; vertical-align: top\">175</td>\n",
       "        <td style=\"padding-left: 1em; padding-right: 1em; text-align: center; vertical-align: top\">0</td>\n",
       "    </tr>\n",
       "    <tr>\n",
       "        <td style=\"padding-left: 1em; padding-right: 1em; text-align: center; vertical-align: top\">62</td>\n",
       "        <td style=\"padding-left: 1em; padding-right: 1em; text-align: center; vertical-align: top\">0</td>\n",
       "        <td style=\"padding-left: 1em; padding-right: 1em; text-align: center; vertical-align: top\">0</td>\n",
       "        <td style=\"padding-left: 1em; padding-right: 1em; text-align: center; vertical-align: top\">140</td>\n",
       "        <td style=\"padding-left: 1em; padding-right: 1em; text-align: center; vertical-align: top\">394</td>\n",
       "        <td style=\"padding-left: 1em; padding-right: 1em; text-align: center; vertical-align: top\">0</td>\n",
       "        <td style=\"padding-left: 1em; padding-right: 1em; text-align: center; vertical-align: top\">0</td>\n",
       "        <td style=\"padding-left: 1em; padding-right: 1em; text-align: center; vertical-align: top\">157</td>\n",
       "        <td style=\"padding-left: 1em; padding-right: 1em; text-align: center; vertical-align: top\">0</td>\n",
       "    </tr>\n",
       "    <tr>\n",
       "        <td style=\"padding-left: 1em; padding-right: 1em; text-align: center; vertical-align: top\">50</td>\n",
       "        <td style=\"padding-left: 1em; padding-right: 1em; text-align: center; vertical-align: top\">0</td>\n",
       "        <td style=\"padding-left: 1em; padding-right: 1em; text-align: center; vertical-align: top\">0</td>\n",
       "        <td style=\"padding-left: 1em; padding-right: 1em; text-align: center; vertical-align: top\">110</td>\n",
       "        <td style=\"padding-left: 1em; padding-right: 1em; text-align: center; vertical-align: top\">254</td>\n",
       "        <td style=\"padding-left: 1em; padding-right: 1em; text-align: center; vertical-align: top\">0</td>\n",
       "        <td style=\"padding-left: 1em; padding-right: 1em; text-align: center; vertical-align: top\">0</td>\n",
       "        <td style=\"padding-left: 1em; padding-right: 1em; text-align: center; vertical-align: top\">159</td>\n",
       "        <td style=\"padding-left: 1em; padding-right: 1em; text-align: center; vertical-align: top\">0</td>\n",
       "    </tr>\n",
       "    <tr>\n",
       "        <td style=\"padding-left: 1em; padding-right: 1em; text-align: center; vertical-align: top\">55</td>\n",
       "        <td style=\"padding-left: 1em; padding-right: 1em; text-align: center; vertical-align: top\">1</td>\n",
       "        <td style=\"padding-left: 1em; padding-right: 1em; text-align: center; vertical-align: top\">1</td>\n",
       "        <td style=\"padding-left: 1em; padding-right: 1em; text-align: center; vertical-align: top\">130</td>\n",
       "        <td style=\"padding-left: 1em; padding-right: 1em; text-align: center; vertical-align: top\">262</td>\n",
       "        <td style=\"padding-left: 1em; padding-right: 1em; text-align: center; vertical-align: top\">0</td>\n",
       "        <td style=\"padding-left: 1em; padding-right: 1em; text-align: center; vertical-align: top\">1</td>\n",
       "        <td style=\"padding-left: 1em; padding-right: 1em; text-align: center; vertical-align: top\">155</td>\n",
       "        <td style=\"padding-left: 1em; padding-right: 1em; text-align: center; vertical-align: top\">0</td>\n",
       "    </tr>\n",
       "    <tr>\n",
       "        <td style=\"padding-left: 1em; padding-right: 1em; text-align: center; vertical-align: top\">39</td>\n",
       "        <td style=\"padding-left: 1em; padding-right: 1em; text-align: center; vertical-align: top\">0</td>\n",
       "        <td style=\"padding-left: 1em; padding-right: 1em; text-align: center; vertical-align: top\">2</td>\n",
       "        <td style=\"padding-left: 1em; padding-right: 1em; text-align: center; vertical-align: top\">94</td>\n",
       "        <td style=\"padding-left: 1em; padding-right: 1em; text-align: center; vertical-align: top\">199</td>\n",
       "        <td style=\"padding-left: 1em; padding-right: 1em; text-align: center; vertical-align: top\">0</td>\n",
       "        <td style=\"padding-left: 1em; padding-right: 1em; text-align: center; vertical-align: top\">1</td>\n",
       "        <td style=\"padding-left: 1em; padding-right: 1em; text-align: center; vertical-align: top\">179</td>\n",
       "        <td style=\"padding-left: 1em; padding-right: 1em; text-align: center; vertical-align: top\">0</td>\n",
       "    </tr>\n",
       "    <tr>\n",
       "        <td style=\"padding-left: 1em; padding-right: 1em; text-align: center; vertical-align: top\">64</td>\n",
       "        <td style=\"padding-left: 1em; padding-right: 1em; text-align: center; vertical-align: top\">1</td>\n",
       "        <td style=\"padding-left: 1em; padding-right: 1em; text-align: center; vertical-align: top\">0</td>\n",
       "        <td style=\"padding-left: 1em; padding-right: 1em; text-align: center; vertical-align: top\">128</td>\n",
       "        <td style=\"padding-left: 1em; padding-right: 1em; text-align: center; vertical-align: top\">263</td>\n",
       "        <td style=\"padding-left: 1em; padding-right: 1em; text-align: center; vertical-align: top\">0</td>\n",
       "        <td style=\"padding-left: 1em; padding-right: 1em; text-align: center; vertical-align: top\">1</td>\n",
       "        <td style=\"padding-left: 1em; padding-right: 1em; text-align: center; vertical-align: top\">105</td>\n",
       "        <td style=\"padding-left: 1em; padding-right: 1em; text-align: center; vertical-align: top\">1</td>\n",
       "    </tr>\n",
       "    <tr>\n",
       "        <td style=\"padding-left: 1em; padding-right: 1em; text-align: center; vertical-align: top\">43</td>\n",
       "        <td style=\"padding-left: 1em; padding-right: 1em; text-align: center; vertical-align: top\">1</td>\n",
       "        <td style=\"padding-left: 1em; padding-right: 1em; text-align: center; vertical-align: top\">0</td>\n",
       "        <td style=\"padding-left: 1em; padding-right: 1em; text-align: center; vertical-align: top\">115</td>\n",
       "        <td style=\"padding-left: 1em; padding-right: 1em; text-align: center; vertical-align: top\">303</td>\n",
       "        <td style=\"padding-left: 1em; padding-right: 1em; text-align: center; vertical-align: top\">0</td>\n",
       "        <td style=\"padding-left: 1em; padding-right: 1em; text-align: center; vertical-align: top\">1</td>\n",
       "        <td style=\"padding-left: 1em; padding-right: 1em; text-align: center; vertical-align: top\">181</td>\n",
       "        <td style=\"padding-left: 1em; padding-right: 1em; text-align: center; vertical-align: top\">0</td>\n",
       "    </tr>\n",
       "    <tr>\n",
       "        <td style=\"padding-left: 1em; padding-right: 1em; text-align: center; vertical-align: top\">67</td>\n",
       "        <td style=\"padding-left: 1em; padding-right: 1em; text-align: center; vertical-align: top\">0</td>\n",
       "        <td style=\"padding-left: 1em; padding-right: 1em; text-align: center; vertical-align: top\">0</td>\n",
       "        <td style=\"padding-left: 1em; padding-right: 1em; text-align: center; vertical-align: top\">106</td>\n",
       "        <td style=\"padding-left: 1em; padding-right: 1em; text-align: center; vertical-align: top\">223</td>\n",
       "        <td style=\"padding-left: 1em; padding-right: 1em; text-align: center; vertical-align: top\">0</td>\n",
       "        <td style=\"padding-left: 1em; padding-right: 1em; text-align: center; vertical-align: top\">1</td>\n",
       "        <td style=\"padding-left: 1em; padding-right: 1em; text-align: center; vertical-align: top\">142</td>\n",
       "        <td style=\"padding-left: 1em; padding-right: 1em; text-align: center; vertical-align: top\">0</td>\n",
       "    </tr>\n",
       "</table>\n",
       "<table frame=\"box\" rules=\"cols\">\n",
       "    <tr>\n",
       "        <th style=\"padding-left: 1em; padding-right: 1em; text-align: center\">oldpeak</th>\n",
       "        <th style=\"padding-left: 1em; padding-right: 1em; text-align: center\">slope</th>\n",
       "        <th style=\"padding-left: 1em; padding-right: 1em; text-align: center\">num_major_vessels</th>\n",
       "        <th style=\"padding-left: 1em; padding-right: 1em; text-align: center\">thal</th>\n",
       "        <th style=\"padding-left: 1em; padding-right: 1em; text-align: center\">target</th>\n",
       "        <th style=\"padding-left: 1em; padding-right: 1em; text-align: center\">bed_bath_rooms</th>\n",
       "        <th style=\"padding-left: 1em; padding-right: 1em; text-align: center\">thal_thal_lach</th>\n",
       "        <th style=\"padding-left: 1em; padding-right: 1em; text-align: center\">rest_num</th>\n",
       "        <th style=\"padding-left: 1em; padding-right: 1em; text-align: center\">trest_chol</th>\n",
       "        <th style=\"padding-left: 1em; padding-right: 1em; text-align: center\">rest_num_chest</th>\n",
       "    </tr>\n",
       "    <tr>\n",
       "        <td style=\"padding-left: 1em; padding-right: 1em; text-align: center; vertical-align: top\">0.2</td>\n",
       "        <td style=\"padding-left: 1em; padding-right: 1em; text-align: center; vertical-align: top\">1</td>\n",
       "        <td style=\"padding-left: 1em; padding-right: 1em; text-align: center; vertical-align: top\">0</td>\n",
       "        <td style=\"padding-left: 1em; padding-right: 1em; text-align: center; vertical-align: top\">2</td>\n",
       "        <td style=\"padding-left: 1em; padding-right: 1em; text-align: center; vertical-align: top\">1</td>\n",
       "        <td style=\"padding-left: 1em; padding-right: 1em; text-align: center; vertical-align: top\">25986</td>\n",
       "        <td style=\"padding-left: 1em; padding-right: 1em; text-align: center; vertical-align: top\">25986</td>\n",
       "        <td style=\"padding-left: 1em; padding-right: 1em; text-align: center; vertical-align: top\">1</td>\n",
       "        <td style=\"padding-left: 1em; padding-right: 1em; text-align: center; vertical-align: top\">25986</td>\n",
       "        <td style=\"padding-left: 1em; padding-right: 1em; text-align: center; vertical-align: top\">3</td>\n",
       "    </tr>\n",
       "    <tr>\n",
       "        <td style=\"padding-left: 1em; padding-right: 1em; text-align: center; vertical-align: top\">0.0</td>\n",
       "        <td style=\"padding-left: 1em; padding-right: 1em; text-align: center; vertical-align: top\">2</td>\n",
       "        <td style=\"padding-left: 1em; padding-right: 1em; text-align: center; vertical-align: top\">0</td>\n",
       "        <td style=\"padding-left: 1em; padding-right: 1em; text-align: center; vertical-align: top\">2</td>\n",
       "        <td style=\"padding-left: 1em; padding-right: 1em; text-align: center; vertical-align: top\">1</td>\n",
       "        <td style=\"padding-left: 1em; padding-right: 1em; text-align: center; vertical-align: top\">39424</td>\n",
       "        <td style=\"padding-left: 1em; padding-right: 1em; text-align: center; vertical-align: top\">39424</td>\n",
       "        <td style=\"padding-left: 1em; padding-right: 1em; text-align: center; vertical-align: top\">0</td>\n",
       "        <td style=\"padding-left: 1em; padding-right: 1em; text-align: center; vertical-align: top\">39424</td>\n",
       "        <td style=\"padding-left: 1em; padding-right: 1em; text-align: center; vertical-align: top\">1</td>\n",
       "    </tr>\n",
       "    <tr>\n",
       "        <td style=\"padding-left: 1em; padding-right: 1em; text-align: center; vertical-align: top\">0.0</td>\n",
       "        <td style=\"padding-left: 1em; padding-right: 1em; text-align: center; vertical-align: top\">2</td>\n",
       "        <td style=\"padding-left: 1em; padding-right: 1em; text-align: center; vertical-align: top\">2</td>\n",
       "        <td style=\"padding-left: 1em; padding-right: 1em; text-align: center; vertical-align: top\">2</td>\n",
       "        <td style=\"padding-left: 1em; padding-right: 1em; text-align: center; vertical-align: top\">1</td>\n",
       "        <td style=\"padding-left: 1em; padding-right: 1em; text-align: center; vertical-align: top\">31620</td>\n",
       "        <td style=\"padding-left: 1em; padding-right: 1em; text-align: center; vertical-align: top\">31620</td>\n",
       "        <td style=\"padding-left: 1em; padding-right: 1em; text-align: center; vertical-align: top\">3</td>\n",
       "        <td style=\"padding-left: 1em; padding-right: 1em; text-align: center; vertical-align: top\">31620</td>\n",
       "        <td style=\"padding-left: 1em; padding-right: 1em; text-align: center; vertical-align: top\">5</td>\n",
       "    </tr>\n",
       "    <tr>\n",
       "        <td style=\"padding-left: 1em; padding-right: 1em; text-align: center; vertical-align: top\">1.2</td>\n",
       "        <td style=\"padding-left: 1em; padding-right: 1em; text-align: center; vertical-align: top\">1</td>\n",
       "        <td style=\"padding-left: 1em; padding-right: 1em; text-align: center; vertical-align: top\">0</td>\n",
       "        <td style=\"padding-left: 1em; padding-right: 1em; text-align: center; vertical-align: top\">2</td>\n",
       "        <td style=\"padding-left: 1em; padding-right: 1em; text-align: center; vertical-align: top\">1</td>\n",
       "        <td style=\"padding-left: 1em; padding-right: 1em; text-align: center; vertical-align: top\">55160</td>\n",
       "        <td style=\"padding-left: 1em; padding-right: 1em; text-align: center; vertical-align: top\">55160</td>\n",
       "        <td style=\"padding-left: 1em; padding-right: 1em; text-align: center; vertical-align: top\">0</td>\n",
       "        <td style=\"padding-left: 1em; padding-right: 1em; text-align: center; vertical-align: top\">55160</td>\n",
       "        <td style=\"padding-left: 1em; padding-right: 1em; text-align: center; vertical-align: top\">0</td>\n",
       "    </tr>\n",
       "    <tr>\n",
       "        <td style=\"padding-left: 1em; padding-right: 1em; text-align: center; vertical-align: top\">0.0</td>\n",
       "        <td style=\"padding-left: 1em; padding-right: 1em; text-align: center; vertical-align: top\">2</td>\n",
       "        <td style=\"padding-left: 1em; padding-right: 1em; text-align: center; vertical-align: top\">0</td>\n",
       "        <td style=\"padding-left: 1em; padding-right: 1em; text-align: center; vertical-align: top\">2</td>\n",
       "        <td style=\"padding-left: 1em; padding-right: 1em; text-align: center; vertical-align: top\">1</td>\n",
       "        <td style=\"padding-left: 1em; padding-right: 1em; text-align: center; vertical-align: top\">27940</td>\n",
       "        <td style=\"padding-left: 1em; padding-right: 1em; text-align: center; vertical-align: top\">27940</td>\n",
       "        <td style=\"padding-left: 1em; padding-right: 1em; text-align: center; vertical-align: top\">0</td>\n",
       "        <td style=\"padding-left: 1em; padding-right: 1em; text-align: center; vertical-align: top\">27940</td>\n",
       "        <td style=\"padding-left: 1em; padding-right: 1em; text-align: center; vertical-align: top\">0</td>\n",
       "    </tr>\n",
       "    <tr>\n",
       "        <td style=\"padding-left: 1em; padding-right: 1em; text-align: center; vertical-align: top\">0.0</td>\n",
       "        <td style=\"padding-left: 1em; padding-right: 1em; text-align: center; vertical-align: top\">2</td>\n",
       "        <td style=\"padding-left: 1em; padding-right: 1em; text-align: center; vertical-align: top\">0</td>\n",
       "        <td style=\"padding-left: 1em; padding-right: 1em; text-align: center; vertical-align: top\">2</td>\n",
       "        <td style=\"padding-left: 1em; padding-right: 1em; text-align: center; vertical-align: top\">1</td>\n",
       "        <td style=\"padding-left: 1em; padding-right: 1em; text-align: center; vertical-align: top\">34060</td>\n",
       "        <td style=\"padding-left: 1em; padding-right: 1em; text-align: center; vertical-align: top\">34060</td>\n",
       "        <td style=\"padding-left: 1em; padding-right: 1em; text-align: center; vertical-align: top\">1</td>\n",
       "        <td style=\"padding-left: 1em; padding-right: 1em; text-align: center; vertical-align: top\">34060</td>\n",
       "        <td style=\"padding-left: 1em; padding-right: 1em; text-align: center; vertical-align: top\">2</td>\n",
       "    </tr>\n",
       "    <tr>\n",
       "        <td style=\"padding-left: 1em; padding-right: 1em; text-align: center; vertical-align: top\">0.0</td>\n",
       "        <td style=\"padding-left: 1em; padding-right: 1em; text-align: center; vertical-align: top\">2</td>\n",
       "        <td style=\"padding-left: 1em; padding-right: 1em; text-align: center; vertical-align: top\">0</td>\n",
       "        <td style=\"padding-left: 1em; padding-right: 1em; text-align: center; vertical-align: top\">2</td>\n",
       "        <td style=\"padding-left: 1em; padding-right: 1em; text-align: center; vertical-align: top\">1</td>\n",
       "        <td style=\"padding-left: 1em; padding-right: 1em; text-align: center; vertical-align: top\">18706</td>\n",
       "        <td style=\"padding-left: 1em; padding-right: 1em; text-align: center; vertical-align: top\">18706</td>\n",
       "        <td style=\"padding-left: 1em; padding-right: 1em; text-align: center; vertical-align: top\">1</td>\n",
       "        <td style=\"padding-left: 1em; padding-right: 1em; text-align: center; vertical-align: top\">18706</td>\n",
       "        <td style=\"padding-left: 1em; padding-right: 1em; text-align: center; vertical-align: top\">3</td>\n",
       "    </tr>\n",
       "    <tr>\n",
       "        <td style=\"padding-left: 1em; padding-right: 1em; text-align: center; vertical-align: top\">0.2</td>\n",
       "        <td style=\"padding-left: 1em; padding-right: 1em; text-align: center; vertical-align: top\">1</td>\n",
       "        <td style=\"padding-left: 1em; padding-right: 1em; text-align: center; vertical-align: top\">1</td>\n",
       "        <td style=\"padding-left: 1em; padding-right: 1em; text-align: center; vertical-align: top\">3</td>\n",
       "        <td style=\"padding-left: 1em; padding-right: 1em; text-align: center; vertical-align: top\">1</td>\n",
       "        <td style=\"padding-left: 1em; padding-right: 1em; text-align: center; vertical-align: top\">33664</td>\n",
       "        <td style=\"padding-left: 1em; padding-right: 1em; text-align: center; vertical-align: top\">33664</td>\n",
       "        <td style=\"padding-left: 1em; padding-right: 1em; text-align: center; vertical-align: top\">2</td>\n",
       "        <td style=\"padding-left: 1em; padding-right: 1em; text-align: center; vertical-align: top\">33664</td>\n",
       "        <td style=\"padding-left: 1em; padding-right: 1em; text-align: center; vertical-align: top\">2</td>\n",
       "    </tr>\n",
       "    <tr>\n",
       "        <td style=\"padding-left: 1em; padding-right: 1em; text-align: center; vertical-align: top\">1.2</td>\n",
       "        <td style=\"padding-left: 1em; padding-right: 1em; text-align: center; vertical-align: top\">1</td>\n",
       "        <td style=\"padding-left: 1em; padding-right: 1em; text-align: center; vertical-align: top\">0</td>\n",
       "        <td style=\"padding-left: 1em; padding-right: 1em; text-align: center; vertical-align: top\">2</td>\n",
       "        <td style=\"padding-left: 1em; padding-right: 1em; text-align: center; vertical-align: top\">1</td>\n",
       "        <td style=\"padding-left: 1em; padding-right: 1em; text-align: center; vertical-align: top\">34845</td>\n",
       "        <td style=\"padding-left: 1em; padding-right: 1em; text-align: center; vertical-align: top\">34845</td>\n",
       "        <td style=\"padding-left: 1em; padding-right: 1em; text-align: center; vertical-align: top\">1</td>\n",
       "        <td style=\"padding-left: 1em; padding-right: 1em; text-align: center; vertical-align: top\">34845</td>\n",
       "        <td style=\"padding-left: 1em; padding-right: 1em; text-align: center; vertical-align: top\">1</td>\n",
       "    </tr>\n",
       "    <tr>\n",
       "        <td style=\"padding-left: 1em; padding-right: 1em; text-align: center; vertical-align: top\">0.3</td>\n",
       "        <td style=\"padding-left: 1em; padding-right: 1em; text-align: center; vertical-align: top\">2</td>\n",
       "        <td style=\"padding-left: 1em; padding-right: 1em; text-align: center; vertical-align: top\">2</td>\n",
       "        <td style=\"padding-left: 1em; padding-right: 1em; text-align: center; vertical-align: top\">2</td>\n",
       "        <td style=\"padding-left: 1em; padding-right: 1em; text-align: center; vertical-align: top\">1</td>\n",
       "        <td style=\"padding-left: 1em; padding-right: 1em; text-align: center; vertical-align: top\">23638</td>\n",
       "        <td style=\"padding-left: 1em; padding-right: 1em; text-align: center; vertical-align: top\">23638</td>\n",
       "        <td style=\"padding-left: 1em; padding-right: 1em; text-align: center; vertical-align: top\">3</td>\n",
       "        <td style=\"padding-left: 1em; padding-right: 1em; text-align: center; vertical-align: top\">23638</td>\n",
       "        <td style=\"padding-left: 1em; padding-right: 1em; text-align: center; vertical-align: top\">3</td>\n",
       "    </tr>\n",
       "</table>\n",
       "<table frame=\"box\" rules=\"cols\">\n",
       "    <tr>\n",
       "        <th style=\"padding-left: 1em; padding-right: 1em; text-align: center\">oldpeak_squared</th>\n",
       "    </tr>\n",
       "    <tr>\n",
       "        <td style=\"padding-left: 1em; padding-right: 1em; text-align: center; vertical-align: top\">0.04</td>\n",
       "    </tr>\n",
       "    <tr>\n",
       "        <td style=\"padding-left: 1em; padding-right: 1em; text-align: center; vertical-align: top\">0.0</td>\n",
       "    </tr>\n",
       "    <tr>\n",
       "        <td style=\"padding-left: 1em; padding-right: 1em; text-align: center; vertical-align: top\">0.0</td>\n",
       "    </tr>\n",
       "    <tr>\n",
       "        <td style=\"padding-left: 1em; padding-right: 1em; text-align: center; vertical-align: top\">1.44</td>\n",
       "    </tr>\n",
       "    <tr>\n",
       "        <td style=\"padding-left: 1em; padding-right: 1em; text-align: center; vertical-align: top\">0.0</td>\n",
       "    </tr>\n",
       "    <tr>\n",
       "        <td style=\"padding-left: 1em; padding-right: 1em; text-align: center; vertical-align: top\">0.0</td>\n",
       "    </tr>\n",
       "    <tr>\n",
       "        <td style=\"padding-left: 1em; padding-right: 1em; text-align: center; vertical-align: top\">0.0</td>\n",
       "    </tr>\n",
       "    <tr>\n",
       "        <td style=\"padding-left: 1em; padding-right: 1em; text-align: center; vertical-align: top\">0.04</td>\n",
       "    </tr>\n",
       "    <tr>\n",
       "        <td style=\"padding-left: 1em; padding-right: 1em; text-align: center; vertical-align: top\">1.44</td>\n",
       "    </tr>\n",
       "    <tr>\n",
       "        <td style=\"padding-left: 1em; padding-right: 1em; text-align: center; vertical-align: top\">0.09</td>\n",
       "    </tr>\n",
       "</table>\n",
       "[20 rows x 20 columns]<br/>Note: Only the head of the SFrame is printed.<br/>You can use print_rows(num_rows=m, num_columns=n) to print more rows and columns.\n",
       "</div>"
      ],
      "text/plain": [
       "Columns:\n",
       "\t﻿age\tint\n",
       "\tsex\tint\n",
       "\tchest pain type\tint\n",
       "\ttrestbps\tint\n",
       "\tchol\tint\n",
       "\tfasting blood sugar\tint\n",
       "\trestecg\tint\n",
       "\tthalach\tint\n",
       "\texercise induced agina\tint\n",
       "\toldpeak\tfloat\n",
       "\tslope\tint\n",
       "\tnum_major_vessels\tint\n",
       "\tthal\tint\n",
       "\ttarget\tint\n",
       "\tbed_bath_rooms\tint\n",
       "\tthal_thal_lach\tint\n",
       "\trest_num\tint\n",
       "\ttrest_chol\tint\n",
       "\trest_num_chest\tint\n",
       "\toldpeak_squared\tfloat\n",
       "\n",
       "Rows: 20\n",
       "\n",
       "Data:\n",
       "+------+-----+-----------------+----------+------+---------------------+---------+\n",
       "| ﻿age | sex | chest pain type | trestbps | chol | fasting blood sugar | restecg |\n",
       "+------+-----+-----------------+----------+------+---------------------+---------+\n",
       "|  43  |  0  |        2        |   122    | 213  |          0          |    1    |\n",
       "|  45  |  1  |        1        |   128    | 308  |          0          |    0    |\n",
       "|  48  |  1  |        2        |   124    | 255  |          1          |    1    |\n",
       "|  62  |  0  |        0        |   140    | 394  |          0          |    0    |\n",
       "|  50  |  0  |        0        |   110    | 254  |          0          |    0    |\n",
       "|  55  |  1  |        1        |   130    | 262  |          0          |    1    |\n",
       "|  39  |  0  |        2        |    94    | 199  |          0          |    1    |\n",
       "|  64  |  1  |        0        |   128    | 263  |          0          |    1    |\n",
       "|  43  |  1  |        0        |   115    | 303  |          0          |    1    |\n",
       "|  67  |  0  |        0        |   106    | 223  |          0          |    1    |\n",
       "+------+-----+-----------------+----------+------+---------------------+---------+\n",
       "+---------+------------------------+---------+-------+-------------------+------+\n",
       "| thalach | exercise induced agina | oldpeak | slope | num_major_vessels | thal |\n",
       "+---------+------------------------+---------+-------+-------------------+------+\n",
       "|   165   |           0            |   0.2   |   1   |         0         |  2   |\n",
       "|   170   |           0            |   0.0   |   2   |         0         |  2   |\n",
       "|   175   |           0            |   0.0   |   2   |         2         |  2   |\n",
       "|   157   |           0            |   1.2   |   1   |         0         |  2   |\n",
       "|   159   |           0            |   0.0   |   2   |         0         |  2   |\n",
       "|   155   |           0            |   0.0   |   2   |         0         |  2   |\n",
       "|   179   |           0            |   0.0   |   2   |         0         |  2   |\n",
       "|   105   |           1            |   0.2   |   1   |         1         |  3   |\n",
       "|   181   |           0            |   1.2   |   1   |         0         |  2   |\n",
       "|   142   |           0            |   0.3   |   2   |         2         |  2   |\n",
       "+---------+------------------------+---------+-------+-------------------+------+\n",
       "+--------+----------------+----------------+----------+------------+----------------+\n",
       "| target | bed_bath_rooms | thal_thal_lach | rest_num | trest_chol | rest_num_chest |\n",
       "+--------+----------------+----------------+----------+------------+----------------+\n",
       "|   1    |     25986      |     25986      |    1     |   25986    |       3        |\n",
       "|   1    |     39424      |     39424      |    0     |   39424    |       1        |\n",
       "|   1    |     31620      |     31620      |    3     |   31620    |       5        |\n",
       "|   1    |     55160      |     55160      |    0     |   55160    |       0        |\n",
       "|   1    |     27940      |     27940      |    0     |   27940    |       0        |\n",
       "|   1    |     34060      |     34060      |    1     |   34060    |       2        |\n",
       "|   1    |     18706      |     18706      |    1     |   18706    |       3        |\n",
       "|   1    |     33664      |     33664      |    2     |   33664    |       2        |\n",
       "|   1    |     34845      |     34845      |    1     |   34845    |       1        |\n",
       "|   1    |     23638      |     23638      |    3     |   23638    |       3        |\n",
       "+--------+----------------+----------------+----------+------------+----------------+\n",
       "+-----------------+\n",
       "| oldpeak_squared |\n",
       "+-----------------+\n",
       "|       0.04      |\n",
       "|       0.0       |\n",
       "|       0.0       |\n",
       "|       1.44      |\n",
       "|       0.0       |\n",
       "|       0.0       |\n",
       "|       0.0       |\n",
       "|       0.04      |\n",
       "|       1.44      |\n",
       "|       0.09      |\n",
       "+-----------------+\n",
       "[20 rows x 20 columns]\n",
       "Note: Only the head of the SFrame is printed.\n",
       "You can use print_rows(num_rows=m, num_columns=n) to print more rows and columns."
      ]
     },
     "execution_count": 205,
     "metadata": {},
     "output_type": "execute_result"
    }
   ],
   "source": [
    "sample_tsd = tsd[10:30]\n",
    "print sample_tsd['target']\n",
    "sample_tsd"
   ]
  },
  {
   "cell_type": "code",
   "execution_count": 206,
   "metadata": {},
   "outputs": [
    {
     "name": "stdout",
     "output_type": "stream",
     "text": [
      "Class predictions according to GraphLab Create:\n",
      "[1L, 0L, 1L, 0L, 1L, 1L, 1L, 1L, 0L, 1L, 1L, 1L, 1L, 1L, 1L, 1L, 1L, 1L, 0L, 1L]\n"
     ]
    }
   ],
   "source": [
    "print \"Class predictions according to GraphLab Create:\" \n",
    "print sentiment_model.predict(sample_tsd)"
   ]
  },
  {
   "cell_type": "code",
   "execution_count": 208,
   "metadata": {},
   "outputs": [
    {
     "name": "stdout",
     "output_type": "stream",
     "text": [
      "14\n",
      "16\n"
     ]
    }
   ],
   "source": [
    "print sample_tsd['target'].sum()\n",
    "print sentiment_model.predict(sample_tsd).sum()"
   ]
  },
  {
   "cell_type": "code",
   "execution_count": 209,
   "metadata": {
    "collapsed": true
   },
   "outputs": [],
   "source": [
    "classifier_accuracy=1-(((sentiment_model.predict(sample_tsd).sum())-(sample_tsd['target'].sum()))/100)"
   ]
  },
  {
   "cell_type": "code",
   "execution_count": 210,
   "metadata": {},
   "outputs": [
    {
     "name": "stdout",
     "output_type": "stream",
     "text": [
      "0.98\n"
     ]
    }
   ],
   "source": [
    "print classifier_accuracy\n",
    "# accuracy of the sentiment_model is obtained"
   ]
  }
 ],
 "metadata": {
  "kernelspec": {
   "display_name": "Python 3",
   "language": "python",
   "name": "python3"
  },
  "language_info": {
   "codemirror_mode": {
    "name": "ipython",
    "version": 3
   },
   "file_extension": ".py",
   "mimetype": "text/x-python",
   "name": "python",
   "nbconvert_exporter": "python",
   "pygments_lexer": "ipython3",
   "version": "3.8.5"
  }
 },
 "nbformat": 4,
 "nbformat_minor": 1
}
